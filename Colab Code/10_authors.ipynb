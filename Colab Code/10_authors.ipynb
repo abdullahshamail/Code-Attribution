{
  "nbformat": 4,
  "nbformat_minor": 0,
  "metadata": {
    "colab": {
      "name": "10_authors.ipynb",
      "version": "0.3.2",
      "provenance": [],
      "collapsed_sections": []
    },
    "kernelspec": {
      "name": "python3",
      "display_name": "Python 3"
    }
  },
  "cells": [
    {
      "cell_type": "code",
      "metadata": {
        "id": "dFEPbKgbFdcY",
        "colab_type": "code",
        "outputId": "4759e4b3-2793-4653-b1ea-24b661cab245",
        "colab": {
          "base_uri": "https://localhost:8080/",
          "height": 121
        }
      },
      "source": [
        "from google.colab import drive\n",
        "drive.mount('/content/drive')"
      ],
      "execution_count": 2,
      "outputs": [
        {
          "output_type": "stream",
          "text": [
            "Go to this URL in a browser: https://accounts.google.com/o/oauth2/auth?client_id=947318989803-6bn6qk8qdgf4n4g3pfee6491hc0brc4i.apps.googleusercontent.com&redirect_uri=urn%3Aietf%3Awg%3Aoauth%3A2.0%3Aoob&scope=email%20https%3A%2F%2Fwww.googleapis.com%2Fauth%2Fdocs.test%20https%3A%2F%2Fwww.googleapis.com%2Fauth%2Fdrive%20https%3A%2F%2Fwww.googleapis.com%2Fauth%2Fdrive.photos.readonly%20https%3A%2F%2Fwww.googleapis.com%2Fauth%2Fpeopleapi.readonly&response_type=code\n",
            "\n",
            "Enter your authorization code:\n",
            "··········\n",
            "Mounted at /content/drive\n"
          ],
          "name": "stdout"
        }
      ]
    },
    {
      "cell_type": "code",
      "metadata": {
        "id": "14UqAM2aFght",
        "colab_type": "code",
        "colab": {}
      },
      "source": [
        "pathdata17zip = '/content/drive/My Drive/Code_Attribution/data17.zip'"
      ],
      "execution_count": 0,
      "outputs": []
    },
    {
      "cell_type": "code",
      "metadata": {
        "id": "pE3e-ClvFk2v",
        "colab_type": "code",
        "colab": {}
      },
      "source": [
        "import zipfile\n",
        "zip_ref = zipfile.ZipFile(pathdata17zip, 'r')\n",
        "zip_ref.extractall(\"/tmp\")\n",
        "zip_ref.close()"
      ],
      "execution_count": 0,
      "outputs": []
    },
    {
      "cell_type": "code",
      "metadata": {
        "id": "pBTH6xeLFm53",
        "colab_type": "code",
        "colab": {}
      },
      "source": [
        "datasetPath = '/tmp/data17'"
      ],
      "execution_count": 0,
      "outputs": []
    },
    {
      "cell_type": "code",
      "metadata": {
        "id": "WNO9PdW2Fofa",
        "colab_type": "code",
        "outputId": "911586c7-7459-4829-af02-9468d31759af",
        "colab": {
          "base_uri": "https://localhost:8080/",
          "height": 34
        }
      },
      "source": [
        "from keras.layers import Input, Dense, Conv1D, MaxPooling1D, Flatten\n",
        "from keras.optimizers import Adam\n",
        "from keras.callbacks import ModelCheckpoint, EarlyStopping, CSVLogger, ReduceLROnPlateau, TensorBoard\n",
        "from keras.models import Model\n",
        "import keras.backend as K\n",
        "import numpy as np\n",
        "import os"
      ],
      "execution_count": 6,
      "outputs": [
        {
          "output_type": "stream",
          "text": [
            "Using TensorFlow backend.\n"
          ],
          "name": "stderr"
        }
      ]
    },
    {
      "cell_type": "code",
      "metadata": {
        "id": "Hq8BNg1UGANs",
        "colab_type": "code",
        "colab": {}
      },
      "source": [
        "lengths = []\n",
        "minLength = 2000"
      ],
      "execution_count": 0,
      "outputs": []
    },
    {
      "cell_type": "code",
      "metadata": {
        "id": "jocd6PgrG0md",
        "colab_type": "code",
        "colab": {}
      },
      "source": [
        "def padding(fname):\n",
        "    f = open(fname, \"r\")\n",
        "    y = f.read()\n",
        "    f.close()\n",
        "    \n",
        "    origy = y\n",
        "    while (len(y) < minLength):\n",
        "        y += origy\n",
        "        \n",
        "    f = open(fname, \"w\")\n",
        "    f.write(y)\n",
        "    f.close()\n",
        "    return y"
      ],
      "execution_count": 0,
      "outputs": []
    },
    {
      "cell_type": "code",
      "metadata": {
        "id": "TC-ja9YuG4k5",
        "colab_type": "code",
        "outputId": "e646dbda-fdbd-4540-8d66-f970875b89a2",
        "colab": {
          "base_uri": "https://localhost:8080/",
          "height": 70
        }
      },
      "source": [
        "top_10 = [0,0,0,0,0,0,0,0,0,0]\n",
        "top_dir = ['','','','','','','','','','']\n",
        "for r,d,f in os.walk(datasetPath):\n",
        "  for di in d:\n",
        "    for r1, d1, f1 in os.walk(os.path.join(r, di)):\n",
        "      _len = len(f1)\n",
        "      for i, ind in enumerate(top_10):\n",
        "        if _len > top_10[i]:\n",
        "          top_10[i] = _len\n",
        "          top_dir[i] = os.path.join(r, di)\n",
        "          break\n",
        "print(top_10)\n",
        "print(top_dir)"
      ],
      "execution_count": 9,
      "outputs": [
        {
          "output_type": "stream",
          "text": [
            "[32, 32, 26, 25, 23, 21, 21, 21, 21, 21]\n",
            "['/tmp/data17/simonlindholm', '/tmp/data17/Xellos', '/tmp/data17/nika', '/tmp/data17/kawaiigabrielneko', '/tmp/data17/Xylofo', '/tmp/data17/MightyBear', '/tmp/data17/abhishek1408', '/tmp/data17/LEcry', '/tmp/data17/alex.jh', '/tmp/data17/VAVAvile']\n"
          ],
          "name": "stdout"
        }
      ]
    },
    {
      "cell_type": "code",
      "metadata": {
        "id": "GWzZKNBoJEhr",
        "colab_type": "code",
        "outputId": "8a189364-8080-41eb-cdc9-89edc68a5737",
        "colab": {
          "base_uri": "https://localhost:8080/",
          "height": 205
        }
      },
      "source": [
        "files = []\n",
        "for di in top_dir:\n",
        "  for r, d, f in os.walk(di):\n",
        "    print(f)\n",
        "    for fil in f:\n",
        "      files.append(os.path.join(r, fil))"
      ],
      "execution_count": 10,
      "outputs": [
        {
          "output_type": "stream",
          "text": [
            "['fresh1.cpp', 'dice1.cpp', 'stable0.cpp', 'fashion1.cpp', 'stable1.cpp', 'stalls2.cpp', 'googlements0.cpp', 'beam1.cpp', 'mountain1.cpp', 'mountain0.cpp', 'stacks0.cpp', 'pancakes0.cpp', 'tidy0.cpp', 'fashion0.cpp', 'pony0.cpp', 'roller0.cpp', 'news1.cpp', 'pancakes1.cpp', 'dice0.cpp', 'cruise0.cpp', 'fresh0.cpp', 'news0.cpp', 'slate0.cpp', 'shoot1.cpp', 'pony1.cpp', 'beam0.cpp', 'cruise1.cpp', 'shoot0.cpp', 'stalls0.cpp', 'stalls1.cpp', 'tidy1.cpp', 'googlements1.cpp']\n",
            "['codejam17_3C0.cpp', 'codejam17_2A1.cpp', 'codejam17_3A1.cpp', 'codejam17_2D0.cpp', 'codejam17_3B1.cpp', 'codejam17_2Bb0.cpp', 'codejam17_1B_A1.cpp', 'codejam17_1B_B1.cpp', 'codejam17_3B0.cpp', 'codejam17_1B_C1.cpp', 'gcj17_qual_B0.cpp', 'codejam17_1C_A0.cpp', 'codejam17_2C0.cpp', 'gcj17_qual_A0.cpp', 'gcj17_qual_A1.cpp', 'codejam17_1B_B0.cpp', 'codejam17_3D0.cpp', 'codejam17_1B_C0.cpp', 'codejam17_1C_C0.cpp', 'gcj17_qual_C0.cpp', 'codejam17_3A0.cpp', 'codejam17_1A_C0.cpp', 'codejam17_1A_A0.cpp', 'codejam17_2A0.cpp', 'codejam17_1C_B0.cpp', 'gcj17_qual_C2.cpp', 'codejam17_1B_A0.cpp', 'codejam17_1A_A1.cpp', 'codejam17_1C_B1.cpp', 'gcj17_qual_B1.cpp', 'codejam17_1C_A1.cpp', 'gcj17_qual_C1.cpp']\n",
            "['C2.cpp', 'R1A0.cpp', 'R2A0.cpp', 'R1B1.cpp', 'R2B1.cpp', 'D1.cpp', 'R1B0.cpp', 'B0.cpp', 'R2D0.cpp', 'C1.cpp', 'R1C1.cpp', 'b0.cpp', 'C0.cpp', 'b1.cpp', 'a0.cpp', 'R2C0.cpp', 'R1C0.cpp', 'R2A1.cpp', 'R2C1.cpp', 'R2B0.cpp', 'c0.cpp', 'B1.cpp', 'd0.cpp', 'a1.cpp', 'R1A1.cpp', 'D0.cpp']\n",
            "['stable0.cpp', 'stable1.cpp', 'fashionshow1.cpp', 'problema0.cpp', 'problema1.cpp', 'bathroomstall1.cpp', 'amplesyrup0.cpp', 'bathroomstall2.cpp', 'partners1.cpp', 'bathroomstall0.cpp', 'pony0.cpp', 'oversizedpancakeflipper0.cpp', 'tidynumbers0.cpp', 'rollercoaster0.cpp', 'beaming0.cpp', 'tidynumbers1.cpp', 'pony1.cpp', 'a0.cpp', 'partners0.cpp', 'rollercoaster1.cpp', 'a1.cpp', 'oversizedpancakeflipper1.cpp', 'amplesyrup1.cpp', 'core0.cpp', 'fashionshow0.cpp']\n",
            "['gcjc0.cpp', 'bathroomstalls2.cpp', 'gcj320.cpp', 'gcja1.cpp', 'fashionshow1.cpp', 'gcj3a0.cpp', 'tidynumbers0.cpp', 'gcjc1.cpp', 'bathroomstalls1.cpp', 'bathroomstalls0.cpp', 'tidynumbers1.cpp', 'gcj10.cpp', 'gcjb0.cpp', 'gcj21.cpp', 'gcj3d0.cpp', 'gcj11.cpp', 'oversizedpankakeflipper0.cpp', 'gcj3a1.cpp', 'gcja0.cpp', 'gcj20.cpp', 'fashionshow0.cpp', 'gcjb1.cpp', 'oversizedpankakeflipper1.cpp']\n",
            "['BathroomStalls2.cpp', 'OversizePancake0.cpp', 'RollerCoaster1.cpp', 'BathroomStalls1.cpp', 'ParentingPartnering0.cpp', 'RollerCoaster0.cpp', 'PonyExpress1.cpp', 'CruiseControl1.cpp', 'TidyNumber0.cpp', 'ParentingPartnering1.cpp', 'BathroomStalls0.cpp', 'OversizePancake1.cpp', 'FreshChocolate1.cpp', 'TidyNumber1.cpp', 'CruiseControl0.cpp', 'PonyExpress0.cpp', 'FreshChocolate0.cpp', 'AmpleSyrup1.cpp', 'googlement0.cpp', 'CoreTraining0.cpp', 'AmpleSyrup0.cpp']\n",
            "['GCJ172_C0.cpp', 'GCJ17Q_C22.cpp', 'GCJ171C_B0.cpp', 'GCJ17B_C0.cpp', 'GCJ172_B0.cpp', 'GCJ171C_C0.cpp', 'GCJ171C_A0.cpp', 'GCJ171C_A1.cpp', 'GCJ17Q_C1.cpp', 'GCJ17Q_A1.cpp', 'GCJ17B_B0.cpp', 'GCJ17Q_A0.cpp', 'GCJ172_A0.cpp', 'GCJ171B_A1.cpp', 'GCJ17B0.cpp', 'GCJ17Q_C0.cpp', 'GCJ172_A1.cpp', 'GCJ171B_A0.cpp', 'GCJ172_B1.cpp', 'GCJ171C_B1.cpp', 'GCJ17B1.cpp']\n",
            "['gcj2017C1.cpp', 'gcj2017D0.cpp', 'gcj415A0.cpp', 'gcj2017C0.cpp', 'gcj2017D1.cpp', 'BBB1.cpp', 'B0.cpp', 'C1.cpp', 'C0.cpp', 'gcj20171.cpp', 'gcj415A1.cpp', 'A1.cpp', 'gcj2017B0.cpp', 'A0.cpp', 'gcj2017C2.cpp', 'gcj2017B1.cpp', 'gcj20170.cpp', 'BBB0.cpp', '415CC0.cpp', 'B1.cpp', 'D0.cpp']\n",
            "['RollerCosterScheduling1.cpp', 'BathroomStalls1.cpp', 'OversizedPancakeFlipper1.cpp', 'googlements0.cpp', 'CruiseControl1.cpp', 'BeamingWithJoy0.cpp', 'RollerCosterScheduling0.cpp', 'TidyNumbers1.cpp', 'StableNeighbors1.cpp', 'OversizedPancakeFlipper0.cpp', 'PonyExpressv10.cpp', 'BeamingWithJoy1.cpp', 'TidyNumbers0.cpp', 'BathroomStalls0.cpp', 'FreshChocolate1.cpp', 'PonyExpressv21.cpp', 'CruiseControl0.cpp', 'StableNeighbors0.cpp', 'FreshChocolate0.cpp', 'SlateModern0.cpp', 'googlements1.cpp']\n",
            "['parentingpartnering0.cpp', 'bathroomstalls2.cpp', 'ponyexpress0.cpp', 'coretraining0.cpp', 'freshchocolate0.cpp', 'amplesyrup0.cpp', 'freshchocolate1.cpp', 'oversizedpancakeflipper0.cpp', 'coretraining1.cpp', 'tidynumbers0.cpp', 'bathroomstalls1.cpp', 'bathroomstalls0.cpp', 'tidynumbers1.cpp', 'cruisecontrol0.cpp', 'parentingpartnering1.cpp', 'ponyexpress1.cpp', 'stableneighbors0.cpp', 'rollercoasterscheduling0.cpp', 'oversizedpancakeflipper1.cpp', 'amplesyrup1.cpp', 'cruisecontrol1.cpp']\n"
          ],
          "name": "stdout"
        }
      ]
    },
    {
      "cell_type": "code",
      "metadata": {
        "id": "dGX8X7vgKFrs",
        "colab_type": "code",
        "outputId": "0c3cb987-c3c6-45d0-c4de-749a80e7439f",
        "colab": {
          "base_uri": "https://localhost:8080/",
          "height": 34
        }
      },
      "source": [
        "len(files)"
      ],
      "execution_count": 11,
      "outputs": [
        {
          "output_type": "execute_result",
          "data": {
            "text/plain": [
              "243"
            ]
          },
          "metadata": {
            "tags": []
          },
          "execution_count": 11
        }
      ]
    },
    {
      "cell_type": "code",
      "metadata": {
        "id": "v23TyGiUKHAO",
        "colab_type": "code",
        "colab": {}
      },
      "source": [
        "def rem_dir(path):\n",
        "  for r, d, f in os.walk(path):\n",
        "    for fil in f:\n",
        "      if fil in files:\n",
        "        files.remove(os.path.join(r, fil))"
      ],
      "execution_count": 0,
      "outputs": []
    },
    {
      "cell_type": "code",
      "metadata": {
        "id": "XiZC3P2SML8a",
        "colab_type": "code",
        "colab": {}
      },
      "source": [
        "outputvar = {}\n",
        "all_files = []\n",
        "counter = [0]"
      ],
      "execution_count": 0,
      "outputs": []
    },
    {
      "cell_type": "code",
      "metadata": {
        "id": "6VDx6lGjMQvR",
        "colab_type": "code",
        "colab": {}
      },
      "source": [
        "def makeInOut(path, _len, counter):\n",
        "  count = 0\n",
        "  for r, d, f in os.walk(path):\n",
        "    name = r.split('/')[-1]\n",
        "\n",
        "    f = np.array(f)\n",
        "    indices = np.arange(f.shape[0])\n",
        "    np.random.shuffle(indices)\n",
        "    f = f[indices]\n",
        "\n",
        "    for fil in f:\n",
        "      _fil = os.path.join(r, fil)\n",
        "      if name not in outputvar.keys():\n",
        "        outputvar[name] = counter[0]\n",
        "        counter[0] += 1\n",
        "      if _fil in files:\n",
        "        all_files.append(_fil)\n",
        "        if count < (0.8*_len):\n",
        "          if count < (0.2*_len):\n",
        "            x_val.append(_fil)\n",
        "            y_val.append(outputvar[name])\n",
        "          else:\n",
        "            x_train.append(_fil)\n",
        "            y_train.append(outputvar[name])\n",
        "          count += 1\n",
        "        else:\n",
        "          x_test.append(_fil)\n",
        "          y_test.append(outputvar[name])"
      ],
      "execution_count": 0,
      "outputs": []
    },
    {
      "cell_type": "code",
      "metadata": {
        "id": "nCnwFzuFMRgx",
        "colab_type": "code",
        "colab": {}
      },
      "source": [
        "x_train = []\n",
        "x_test = []\n",
        "y_train = []\n",
        "y_test = []\n",
        "x_val = []\n",
        "y_val = []\n",
        "split = 0.8"
      ],
      "execution_count": 0,
      "outputs": []
    },
    {
      "cell_type": "code",
      "metadata": {
        "id": "qPPOz1HiMVIp",
        "colab_type": "code",
        "outputId": "4750d94a-11d1-4907-dac4-d71ea04fe756",
        "colab": {
          "base_uri": "https://localhost:8080/",
          "height": 67
        }
      },
      "source": [
        "for i in range(0,3):\n",
        "    print(i)\n",
        "    lengths = []\n",
        "    count = 0\n",
        "    for fil in files:\n",
        "        f = open(fil, \"r\")\n",
        "        x = f.read()\n",
        "        y = x.split()\n",
        "        f.close()\n",
        "        if(len(x) <= 100):\n",
        "            files.remove(fil)\n",
        "        elif len(x) == 0:\n",
        "            files.remove(fil)\n",
        "        elif(len(y) < minLength):\n",
        "            x = padding(fil)\n",
        "            lengths.append(len(x))\n",
        "        else:\n",
        "            lengths.append(len(x))"
      ],
      "execution_count": 166,
      "outputs": [
        {
          "output_type": "stream",
          "text": [
            "0\n",
            "1\n",
            "2\n"
          ],
          "name": "stdout"
        }
      ]
    },
    {
      "cell_type": "code",
      "metadata": {
        "id": "wXkaZMFTMWHi",
        "colab_type": "code",
        "colab": {}
      },
      "source": [
        "def check(path, counter):\n",
        "  for r, d, f in os.walk(path):\n",
        "    _len = len(f)\n",
        "    if _len < 5:\n",
        "      rem_dir(path)\n",
        "    else:\n",
        "      makeInOut(path, _len, counter)"
      ],
      "execution_count": 0,
      "outputs": []
    },
    {
      "cell_type": "code",
      "metadata": {
        "id": "mgytfNEmMYxx",
        "colab_type": "code",
        "colab": {}
      },
      "source": [
        "for d in top_dir:\n",
        "  check(os.path.join(r, d), counter)"
      ],
      "execution_count": 0,
      "outputs": []
    },
    {
      "cell_type": "code",
      "metadata": {
        "id": "tKS5ZPHtMeMt",
        "colab_type": "code",
        "outputId": "74aaaed9-0e8c-4965-d506-3a7877e47baa",
        "colab": {
          "base_uri": "https://localhost:8080/",
          "height": 67
        }
      },
      "source": [
        "_check = []\n",
        "for x in y_train:\n",
        "  if x not in _check:\n",
        "    _check.append(x)\n",
        "print(len(_check))\n",
        "print(counter)\n",
        "print(len(outputvar))"
      ],
      "execution_count": 169,
      "outputs": [
        {
          "output_type": "stream",
          "text": [
            "10\n",
            "[10]\n",
            "10\n"
          ],
          "name": "stdout"
        }
      ]
    },
    {
      "cell_type": "code",
      "metadata": {
        "id": "whp1FAUBMfwF",
        "colab_type": "code",
        "outputId": "8508733a-8916-4abb-e3ee-5b0e79872cff",
        "colab": {
          "base_uri": "https://localhost:8080/",
          "height": 84
        }
      },
      "source": [
        "print(max(lengths))\n",
        "print(min(lengths))\n",
        "print(len(lengths))\n",
        "print(len(files))"
      ],
      "execution_count": 170,
      "outputs": [
        {
          "output_type": "stream",
          "text": [
            "20675\n",
            "2003\n",
            "243\n",
            "243\n"
          ],
          "name": "stdout"
        }
      ]
    },
    {
      "cell_type": "code",
      "metadata": {
        "id": "_A4DkE25Nu_U",
        "colab_type": "code",
        "colab": {}
      },
      "source": [
        "x_train = np.array(x_train)\n",
        "x_test = np.array(x_test)\n",
        "x_val = np.array(x_val)\n",
        "y_train = np.array(y_train)\n",
        "y_test = np.array(y_test)\n",
        "y_val = np.array(y_val)"
      ],
      "execution_count": 0,
      "outputs": []
    },
    {
      "cell_type": "code",
      "metadata": {
        "id": "LyXGXm_DNydG",
        "colab_type": "code",
        "outputId": "9b5b336a-2fcb-445f-bd08-e274f00716db",
        "colab": {
          "base_uri": "https://localhost:8080/",
          "height": 655
        }
      },
      "source": [
        "indices = np.arange(x_train.shape[0])\n",
        "np.random.shuffle(indices)\n",
        "x_train = x_train[indices]\n",
        "y_train = y_train[indices]\n",
        "\n",
        "indices = np.arange(x_test.shape[0])\n",
        "np.random.shuffle(indices)\n",
        "x_test = x_test[indices]\n",
        "y_test = y_test[indices]\n",
        "\n",
        "indices = np.arange(x_val.shape[0])\n",
        "np.random.shuffle(indices)\n",
        "x_val = x_val[indices]\n",
        "y_val = y_val[indices]\n",
        "\n",
        "print(x_train[:20])\n",
        "print(x_test[:10])\n",
        "print(y_train[:30])\n",
        "print(y_test[:10])\n",
        "print(x_val[:10])\n",
        "print(y_val[:10])"
      ],
      "execution_count": 172,
      "outputs": [
        {
          "output_type": "stream",
          "text": [
            "['/tmp/data17/simonlindholm/pony0.cpp' '/tmp/data17/LEcry/C1.cpp'\n",
            " '/tmp/data17/abhishek1408/GCJ171C_A0.cpp'\n",
            " '/tmp/data17/Xellos/codejam17_2A1.cpp' '/tmp/data17/LEcry/B1.cpp'\n",
            " '/tmp/data17/kawaiigabrielneko/amplesyrup1.cpp'\n",
            " '/tmp/data17/simonlindholm/fashion1.cpp'\n",
            " '/tmp/data17/alex.jh/PonyExpressv10.cpp' '/tmp/data17/Xylofo/gcj3a1.cpp'\n",
            " '/tmp/data17/LEcry/gcj2017C0.cpp'\n",
            " '/tmp/data17/VAVAvile/bathroomstalls1.cpp'\n",
            " '/tmp/data17/abhishek1408/GCJ171C_C0.cpp'\n",
            " '/tmp/data17/alex.jh/BathroomStalls1.cpp'\n",
            " '/tmp/data17/MightyBear/RollerCoaster1.cpp'\n",
            " '/tmp/data17/VAVAvile/tidynumbers1.cpp'\n",
            " '/tmp/data17/Xellos/codejam17_1C_C0.cpp'\n",
            " '/tmp/data17/alex.jh/StableNeighbors1.cpp'\n",
            " '/tmp/data17/MightyBear/OversizePancake1.cpp'\n",
            " '/tmp/data17/simonlindholm/fresh0.cpp' '/tmp/data17/LEcry/BBB1.cpp']\n",
            "['/tmp/data17/simonlindholm/roller0.cpp'\n",
            " '/tmp/data17/simonlindholm/news0.cpp'\n",
            " '/tmp/data17/abhishek1408/GCJ17B0.cpp'\n",
            " '/tmp/data17/kawaiigabrielneko/beaming0.cpp'\n",
            " '/tmp/data17/VAVAvile/parentingpartnering1.cpp'\n",
            " '/tmp/data17/Xylofo/gcjb0.cpp'\n",
            " '/tmp/data17/alex.jh/OversizedPancakeFlipper0.cpp'\n",
            " '/tmp/data17/kawaiigabrielneko/tidynumbers1.cpp'\n",
            " '/tmp/data17/Xylofo/bathroomstalls2.cpp'\n",
            " '/tmp/data17/MightyBear/TidyNumber0.cpp']\n",
            "[0 7 6 1 7 3 0 8 4 7 9 6 8 5 9 1 8 5 0 7 0 2 4 5 6 8 3 0 7 6]\n",
            "[0 0 6 3 9 4 8 3 4 5]\n",
            "['/tmp/data17/MightyBear/TidyNumber1.cpp'\n",
            " '/tmp/data17/simonlindholm/tidy1.cpp'\n",
            " '/tmp/data17/VAVAvile/ponyexpress0.cpp'\n",
            " '/tmp/data17/VAVAvile/oversizedpancakeflipper0.cpp'\n",
            " '/tmp/data17/kawaiigabrielneko/tidynumbers0.cpp'\n",
            " '/tmp/data17/Xylofo/gcjc1.cpp' '/tmp/data17/Xylofo/fashionshow1.cpp'\n",
            " '/tmp/data17/abhishek1408/GCJ172_A0.cpp'\n",
            " '/tmp/data17/alex.jh/FreshChocolate0.cpp'\n",
            " '/tmp/data17/abhishek1408/GCJ172_B1.cpp']\n",
            "[5 0 9 9 3 4 4 6 8 6]\n"
          ],
          "name": "stdout"
        }
      ]
    },
    {
      "cell_type": "code",
      "metadata": {
        "id": "FzLRpP3bN2sn",
        "colab_type": "code",
        "outputId": "4920b3a7-986c-42ff-e966-4bdb03e7ca0e",
        "colab": {
          "base_uri": "https://localhost:8080/",
          "height": 34
        }
      },
      "source": [
        "vocab = {}\n",
        "count = [0]\n",
        "for fil in all_files:\n",
        "  f = open(fil)\n",
        "  x = f.read()\n",
        "  for line in x:\n",
        "    for letter in line:\n",
        "      if letter not in vocab.keys():\n",
        "        vocab[letter] = count[0]\n",
        "        count[0] += 1 \n",
        "print(count)"
      ],
      "execution_count": 173,
      "outputs": [
        {
          "output_type": "stream",
          "text": [
            "[94]\n"
          ],
          "name": "stdout"
        }
      ]
    },
    {
      "cell_type": "code",
      "metadata": {
        "id": "iftDKeQfN-AQ",
        "colab_type": "code",
        "colab": {}
      },
      "source": [
        "def getFiles(path):\n",
        "    matrix = []\n",
        "    for p in path:\n",
        "        tmp = np.zeros((50, 40), dtype = int)\n",
        "        f = open(p)\n",
        "        for i in range(0,50):\n",
        "            for j in range(0, 40):\n",
        "                tmp[i][j] = vocab[f.read(1)]\n",
        "        matrix.append(tmp)\n",
        "    return np.array(matrix)"
      ],
      "execution_count": 0,
      "outputs": []
    },
    {
      "cell_type": "code",
      "metadata": {
        "id": "8XUQ3h4NOGys",
        "colab_type": "code",
        "colab": {}
      },
      "source": [
        "num_classes = len(outputvar)\n",
        "input_shape = (50, 40)\n",
        "batch_size = 32\n",
        "def data_generator(file_paths, author_numbers):\n",
        "    batch_start = 0\n",
        "    batch_end = batch_start + batch_size\n",
        "    n = file_paths.shape[0]\n",
        "    indexes = np.arange(0, n, batch_size)\n",
        "    if n % batch_size != 0:\n",
        "        indexes = indexes[:-1] \n",
        "    while True:\n",
        "        np.random.shuffle(indexes)\n",
        "        for ind in indexes:\n",
        "            batch_start = ind\n",
        "            batch_end = batch_start + batch_size\n",
        "            myFiles = file_paths[batch_start:batch_end]\n",
        "            batch_files = getFiles(myFiles)\n",
        "            batch_authors = author_numbers[batch_start:batch_end]\n",
        "            batch_x = np.zeros((batch_size, 50, 40))\n",
        "            tmp = np.zeros((batch_size, num_classes))\n",
        "            batch_x = np.array( batch_files )\n",
        "            for i, j in enumerate(batch_authors):\n",
        "                tmp[i][j] = 1\n",
        "            batch_y = np.array( tmp )\n",
        "            yield( batch_x, batch_y )"
      ],
      "execution_count": 0,
      "outputs": []
    },
    {
      "cell_type": "code",
      "metadata": {
        "id": "zDbVHJ85OJhE",
        "colab_type": "code",
        "colab": {}
      },
      "source": [
        "input_fil = Input(shape=(input_shape), name='input_fil')\n",
        "conv = Conv1D(64, kernel_size=7, strides = 2,  activation='relu')(input_fil)\n",
        "maxP = MaxPooling1D()(conv)\n",
        "flat = Flatten()(maxP)\n",
        "output_class = Dense(num_classes, activation='softmax')(flat)\n",
        "\n",
        "model = Model(inputs=input_fil, outputs=output_class)"
      ],
      "execution_count": 0,
      "outputs": []
    },
    {
      "cell_type": "code",
      "metadata": {
        "id": "xqNgTEQxOK4O",
        "colab_type": "code",
        "outputId": "dc794ee1-cf42-4836-aaf5-81e8ba1e6dc3",
        "colab": {
          "base_uri": "https://localhost:8080/",
          "height": 302
        }
      },
      "source": [
        "adam = Adam(lr=0.001)\n",
        "model.compile(loss='categorical_crossentropy', \n",
        "              optimizer=adam, \n",
        "              metrics=['accuracy'])\n",
        "\n",
        "model.summary()"
      ],
      "execution_count": 177,
      "outputs": [
        {
          "output_type": "stream",
          "text": [
            "_________________________________________________________________\n",
            "Layer (type)                 Output Shape              Param #   \n",
            "=================================================================\n",
            "input_fil (InputLayer)       (None, 50, 40)            0         \n",
            "_________________________________________________________________\n",
            "conv1d_6 (Conv1D)            (None, 22, 64)            17984     \n",
            "_________________________________________________________________\n",
            "max_pooling1d_6 (MaxPooling1 (None, 11, 64)            0         \n",
            "_________________________________________________________________\n",
            "flatten_6 (Flatten)          (None, 704)               0         \n",
            "_________________________________________________________________\n",
            "dense_6 (Dense)              (None, 10)                7050      \n",
            "=================================================================\n",
            "Total params: 25,034\n",
            "Trainable params: 25,034\n",
            "Non-trainable params: 0\n",
            "_________________________________________________________________\n"
          ],
          "name": "stdout"
        }
      ]
    },
    {
      "cell_type": "code",
      "metadata": {
        "id": "VzBlEZRAONP3",
        "colab_type": "code",
        "colab": {}
      },
      "source": [
        "train_gen = data_generator(x_train, y_train)\n",
        "test_gen = data_generator(x_test, y_test)\n",
        "val_gen = data_generator(x_val, y_val)"
      ],
      "execution_count": 0,
      "outputs": []
    },
    {
      "cell_type": "code",
      "metadata": {
        "id": "vcolzyONOPHr",
        "colab_type": "code",
        "outputId": "e8627f36-8517-4f72-e1ae-f95ac18a55a5",
        "colab": {
          "base_uri": "https://localhost:8080/",
          "height": 1000
        }
      },
      "source": [
        "hist1 = model.fit_generator(train_gen, epochs=40, steps_per_epoch=len(y_train)//batch_size, \n",
        "                           validation_data=val_gen, validation_steps=len(y_val)//batch_size, verbose=1)"
      ],
      "execution_count": 179,
      "outputs": [
        {
          "output_type": "stream",
          "text": [
            "Epoch 1/40\n",
            "4/4 [==============================] - 1s 336ms/step - loss: 12.1611 - acc: 0.1641 - val_loss: 10.4799 - val_acc: 0.2812\n",
            "Epoch 2/40\n",
            "4/4 [==============================] - 0s 14ms/step - loss: 10.1332 - acc: 0.2734 - val_loss: 9.7001 - val_acc: 0.3438\n",
            "Epoch 3/40\n",
            "4/4 [==============================] - 0s 13ms/step - loss: 8.3197 - acc: 0.4141 - val_loss: 8.7531 - val_acc: 0.4062\n",
            "Epoch 4/40\n",
            "4/4 [==============================] - 0s 44ms/step - loss: 8.1732 - acc: 0.4609 - val_loss: 7.4469 - val_acc: 0.4688\n",
            "Epoch 5/40\n",
            "4/4 [==============================] - 0s 52ms/step - loss: 7.4947 - acc: 0.4844 - val_loss: 6.6539 - val_acc: 0.5000\n",
            "Epoch 6/40\n",
            "4/4 [==============================] - 0s 50ms/step - loss: 6.9392 - acc: 0.5625 - val_loss: 6.5135 - val_acc: 0.5000\n",
            "Epoch 7/40\n",
            "4/4 [==============================] - 0s 50ms/step - loss: 6.8179 - acc: 0.5703 - val_loss: 6.7425 - val_acc: 0.4688\n",
            "Epoch 8/40\n",
            "4/4 [==============================] - 0s 56ms/step - loss: 6.8013 - acc: 0.5781 - val_loss: 6.9221 - val_acc: 0.4688\n",
            "Epoch 9/40\n",
            "4/4 [==============================] - 0s 48ms/step - loss: 6.7180 - acc: 0.5781 - val_loss: 6.4981 - val_acc: 0.5625\n",
            "Epoch 10/40\n",
            "4/4 [==============================] - 0s 54ms/step - loss: 6.5782 - acc: 0.5703 - val_loss: 6.0616 - val_acc: 0.5625\n",
            "Epoch 11/40\n",
            "4/4 [==============================] - 0s 49ms/step - loss: 6.5118 - acc: 0.5938 - val_loss: 6.0707 - val_acc: 0.5938\n",
            "Epoch 12/40\n",
            "4/4 [==============================] - 0s 56ms/step - loss: 6.1502 - acc: 0.6016 - val_loss: 5.3217 - val_acc: 0.5938\n",
            "Epoch 13/40\n",
            "4/4 [==============================] - 0s 51ms/step - loss: 5.7212 - acc: 0.6016 - val_loss: 5.4452 - val_acc: 0.5938\n",
            "Epoch 14/40\n",
            "4/4 [==============================] - 0s 52ms/step - loss: 5.3059 - acc: 0.6641 - val_loss: 5.7233 - val_acc: 0.5938\n",
            "Epoch 15/40\n",
            "4/4 [==============================] - 0s 55ms/step - loss: 5.1449 - acc: 0.6641 - val_loss: 5.6532 - val_acc: 0.6250\n",
            "Epoch 16/40\n",
            "4/4 [==============================] - 0s 48ms/step - loss: 5.1287 - acc: 0.6641 - val_loss: 5.1075 - val_acc: 0.6250\n",
            "Epoch 17/40\n",
            "4/4 [==============================] - 0s 50ms/step - loss: 5.0693 - acc: 0.6719 - val_loss: 5.0449 - val_acc: 0.6562\n",
            "Epoch 18/40\n",
            "4/4 [==============================] - 0s 52ms/step - loss: 5.0062 - acc: 0.6719 - val_loss: 4.9147 - val_acc: 0.5312\n",
            "Epoch 19/40\n",
            "4/4 [==============================] - 0s 53ms/step - loss: 4.7851 - acc: 0.7031 - val_loss: 5.1261 - val_acc: 0.6250\n",
            "Epoch 20/40\n",
            "4/4 [==============================] - 0s 53ms/step - loss: 4.8555 - acc: 0.6719 - val_loss: 5.7785 - val_acc: 0.5938\n",
            "Epoch 21/40\n",
            "4/4 [==============================] - 0s 49ms/step - loss: 4.8210 - acc: 0.6875 - val_loss: 4.8629 - val_acc: 0.6562\n",
            "Epoch 22/40\n",
            "4/4 [==============================] - 0s 55ms/step - loss: 4.7855 - acc: 0.7031 - val_loss: 4.7704 - val_acc: 0.6875\n",
            "Epoch 23/40\n",
            "4/4 [==============================] - 0s 53ms/step - loss: 4.9447 - acc: 0.6797 - val_loss: 4.3360 - val_acc: 0.6562\n",
            "Epoch 24/40\n",
            "4/4 [==============================] - 0s 51ms/step - loss: 4.7854 - acc: 0.7031 - val_loss: 4.4238 - val_acc: 0.6562\n",
            "Epoch 25/40\n",
            "4/4 [==============================] - 0s 49ms/step - loss: 4.7874 - acc: 0.7031 - val_loss: 5.1303 - val_acc: 0.6250\n",
            "Epoch 26/40\n",
            "4/4 [==============================] - 0s 52ms/step - loss: 4.8221 - acc: 0.6797 - val_loss: 4.6186 - val_acc: 0.6250\n",
            "Epoch 27/40\n",
            "4/4 [==============================] - 0s 52ms/step - loss: 4.7851 - acc: 0.7031 - val_loss: 4.1840 - val_acc: 0.7188\n",
            "Epoch 28/40\n",
            "4/4 [==============================] - 0s 51ms/step - loss: 4.7851 - acc: 0.7031 - val_loss: 4.1789 - val_acc: 0.7188\n",
            "Epoch 29/40\n",
            "4/4 [==============================] - 0s 55ms/step - loss: 4.7852 - acc: 0.7031 - val_loss: 4.5170 - val_acc: 0.6875\n",
            "Epoch 30/40\n",
            "4/4 [==============================] - 0s 52ms/step - loss: 4.7919 - acc: 0.7031 - val_loss: 4.4065 - val_acc: 0.6875\n",
            "Epoch 31/40\n",
            "4/4 [==============================] - 0s 54ms/step - loss: 4.7851 - acc: 0.7031 - val_loss: 4.0872 - val_acc: 0.7188\n",
            "Epoch 32/40\n",
            "4/4 [==============================] - 0s 56ms/step - loss: 4.7852 - acc: 0.7031 - val_loss: 4.2213 - val_acc: 0.6875\n",
            "Epoch 33/40\n",
            "4/4 [==============================] - 0s 59ms/step - loss: 4.7857 - acc: 0.7031 - val_loss: 4.3373 - val_acc: 0.6562\n",
            "Epoch 34/40\n",
            "4/4 [==============================] - 0s 52ms/step - loss: 4.7858 - acc: 0.7031 - val_loss: 4.3928 - val_acc: 0.6562\n",
            "Epoch 35/40\n",
            "4/4 [==============================] - 0s 51ms/step - loss: 4.7852 - acc: 0.7031 - val_loss: 4.3758 - val_acc: 0.6562\n",
            "Epoch 36/40\n",
            "4/4 [==============================] - 0s 55ms/step - loss: 4.7851 - acc: 0.7031 - val_loss: 4.3539 - val_acc: 0.6875\n",
            "Epoch 37/40\n",
            "4/4 [==============================] - 0s 57ms/step - loss: 4.7851 - acc: 0.7031 - val_loss: 4.3402 - val_acc: 0.6875\n",
            "Epoch 38/40\n",
            "4/4 [==============================] - 0s 50ms/step - loss: 4.7851 - acc: 0.7031 - val_loss: 4.3312 - val_acc: 0.6875\n",
            "Epoch 39/40\n",
            "4/4 [==============================] - 0s 51ms/step - loss: 4.7851 - acc: 0.7031 - val_loss: 4.3253 - val_acc: 0.6875\n",
            "Epoch 40/40\n",
            "4/4 [==============================] - 0s 49ms/step - loss: 4.7851 - acc: 0.7031 - val_loss: 4.3214 - val_acc: 0.6875\n"
          ],
          "name": "stdout"
        }
      ]
    },
    {
      "cell_type": "code",
      "metadata": {
        "id": "5Qr17GkJOTbs",
        "colab_type": "code",
        "outputId": "b805795d-1ded-491e-ed9d-a44d5588a41c",
        "colab": {
          "base_uri": "https://localhost:8080/",
          "height": 34
        }
      },
      "source": [
        "xtestdata = getFiles(x_test)\n",
        "print(xtestdata.shape)"
      ],
      "execution_count": 180,
      "outputs": [
        {
          "output_type": "stream",
          "text": [
            "(46, 50, 40)\n"
          ],
          "name": "stdout"
        }
      ]
    },
    {
      "cell_type": "code",
      "metadata": {
        "id": "V3-Kbsu6SZt2",
        "colab_type": "code",
        "colab": {}
      },
      "source": [
        ""
      ],
      "execution_count": 0,
      "outputs": []
    },
    {
      "cell_type": "code",
      "metadata": {
        "id": "H1lVK-55SBrT",
        "colab_type": "code",
        "colab": {}
      },
      "source": [
        "# from keras.models import load_model\n",
        "# bestModel = '/content/drive/My Drive/Code_Attribution/best.h5'\n",
        "# model = load_model(bestModel)"
      ],
      "execution_count": 0,
      "outputs": []
    },
    {
      "cell_type": "code",
      "metadata": {
        "id": "pqq5Zk0WO9_d",
        "colab_type": "code",
        "outputId": "8dfff01f-fdc7-4456-f53c-45c82b3faaff",
        "colab": {
          "base_uri": "https://localhost:8080/",
          "height": 34
        }
      },
      "source": [
        "preds = model.predict(xtestdata)\n",
        "print(preds.shape)"
      ],
      "execution_count": 182,
      "outputs": [
        {
          "output_type": "stream",
          "text": [
            "(46, 10)\n"
          ],
          "name": "stdout"
        }
      ]
    },
    {
      "cell_type": "code",
      "metadata": {
        "id": "4g83iNhiO_qg",
        "colab_type": "code",
        "outputId": "2524f82e-daed-4d22-8450-3d42c41c89af",
        "colab": {
          "base_uri": "https://localhost:8080/",
          "height": 34
        }
      },
      "source": [
        "myPreds = []\n",
        "for i in preds:\n",
        "    myPreds.append(np.argmax(i))\n",
        "myPreds = np.array(myPreds)\n",
        "print(myPreds.shape)"
      ],
      "execution_count": 183,
      "outputs": [
        {
          "output_type": "stream",
          "text": [
            "(46,)\n"
          ],
          "name": "stdout"
        }
      ]
    },
    {
      "cell_type": "code",
      "metadata": {
        "id": "J4HVeOgLPBQr",
        "colab_type": "code",
        "outputId": "f7de5e3d-5aa0-48f1-ec5f-41ebc516769d",
        "colab": {
          "base_uri": "https://localhost:8080/",
          "height": 34
        }
      },
      "source": [
        "count = 0\n",
        "for i in range(myPreds.shape[0]):\n",
        "    if myPreds[i] == y_test[i]:\n",
        "        count += 1\n",
        "\n",
        "acc = (count / myPreds.shape[0]) * 100\n",
        "print(\"Accuracy\", acc)"
      ],
      "execution_count": 184,
      "outputs": [
        {
          "output_type": "stream",
          "text": [
            "Accuracy 60.86956521739131\n"
          ],
          "name": "stdout"
        }
      ]
    },
    {
      "cell_type": "code",
      "metadata": {
        "id": "B0-qOEv6PEMr",
        "colab_type": "code",
        "colab": {
          "base_uri": "https://localhost:8080/",
          "height": 185
        },
        "outputId": "ca788498-bf37-48f0-8212-4e572862eace"
      },
      "source": [
        "outputvar"
      ],
      "execution_count": 185,
      "outputs": [
        {
          "output_type": "execute_result",
          "data": {
            "text/plain": [
              "{'LEcry': 7,\n",
              " 'MightyBear': 5,\n",
              " 'VAVAvile': 9,\n",
              " 'Xellos': 1,\n",
              " 'Xylofo': 4,\n",
              " 'abhishek1408': 6,\n",
              " 'alex.jh': 8,\n",
              " 'kawaiigabrielneko': 3,\n",
              " 'nika': 2,\n",
              " 'simonlindholm': 0}"
            ]
          },
          "metadata": {
            "tags": []
          },
          "execution_count": 185
        }
      ]
    },
    {
      "cell_type": "code",
      "metadata": {
        "id": "JCXBuopSNR3o",
        "colab_type": "code",
        "colab": {
          "base_uri": "https://localhost:8080/",
          "height": 343
        },
        "outputId": "73c6fab4-ed13-45c6-d9b2-60a9d0220d28"
      },
      "source": [
        "import pandas as pd\n",
        "\n",
        "names = list(outputvar.keys())\n",
        "values = list(outputvar.values())\n",
        "pd.DataFrame.from_dict({'Values': values, 'Names': names})"
      ],
      "execution_count": 186,
      "outputs": [
        {
          "output_type": "execute_result",
          "data": {
            "text/html": [
              "<div>\n",
              "<style scoped>\n",
              "    .dataframe tbody tr th:only-of-type {\n",
              "        vertical-align: middle;\n",
              "    }\n",
              "\n",
              "    .dataframe tbody tr th {\n",
              "        vertical-align: top;\n",
              "    }\n",
              "\n",
              "    .dataframe thead th {\n",
              "        text-align: right;\n",
              "    }\n",
              "</style>\n",
              "<table border=\"1\" class=\"dataframe\">\n",
              "  <thead>\n",
              "    <tr style=\"text-align: right;\">\n",
              "      <th></th>\n",
              "      <th>Values</th>\n",
              "      <th>Names</th>\n",
              "    </tr>\n",
              "  </thead>\n",
              "  <tbody>\n",
              "    <tr>\n",
              "      <th>0</th>\n",
              "      <td>0</td>\n",
              "      <td>simonlindholm</td>\n",
              "    </tr>\n",
              "    <tr>\n",
              "      <th>1</th>\n",
              "      <td>1</td>\n",
              "      <td>Xellos</td>\n",
              "    </tr>\n",
              "    <tr>\n",
              "      <th>2</th>\n",
              "      <td>2</td>\n",
              "      <td>nika</td>\n",
              "    </tr>\n",
              "    <tr>\n",
              "      <th>3</th>\n",
              "      <td>3</td>\n",
              "      <td>kawaiigabrielneko</td>\n",
              "    </tr>\n",
              "    <tr>\n",
              "      <th>4</th>\n",
              "      <td>4</td>\n",
              "      <td>Xylofo</td>\n",
              "    </tr>\n",
              "    <tr>\n",
              "      <th>5</th>\n",
              "      <td>5</td>\n",
              "      <td>MightyBear</td>\n",
              "    </tr>\n",
              "    <tr>\n",
              "      <th>6</th>\n",
              "      <td>6</td>\n",
              "      <td>abhishek1408</td>\n",
              "    </tr>\n",
              "    <tr>\n",
              "      <th>7</th>\n",
              "      <td>7</td>\n",
              "      <td>LEcry</td>\n",
              "    </tr>\n",
              "    <tr>\n",
              "      <th>8</th>\n",
              "      <td>8</td>\n",
              "      <td>alex.jh</td>\n",
              "    </tr>\n",
              "    <tr>\n",
              "      <th>9</th>\n",
              "      <td>9</td>\n",
              "      <td>VAVAvile</td>\n",
              "    </tr>\n",
              "  </tbody>\n",
              "</table>\n",
              "</div>"
            ],
            "text/plain": [
              "   Values              Names\n",
              "0       0      simonlindholm\n",
              "1       1             Xellos\n",
              "2       2               nika\n",
              "3       3  kawaiigabrielneko\n",
              "4       4             Xylofo\n",
              "5       5         MightyBear\n",
              "6       6       abhishek1408\n",
              "7       7              LEcry\n",
              "8       8            alex.jh\n",
              "9       9           VAVAvile"
            ]
          },
          "metadata": {
            "tags": []
          },
          "execution_count": 186
        }
      ]
    },
    {
      "cell_type": "code",
      "metadata": {
        "id": "08rsxrfDNZH1",
        "colab_type": "code",
        "colab": {}
      },
      "source": [
        "from mlxtend.evaluate import confusion_matrix\n",
        "\n",
        "y_target = y_test\n",
        "y_predicted = myPreds\n",
        "\n",
        "cm = confusion_matrix(y_target=y_target, \n",
        "                      y_predicted=y_predicted, \n",
        "                      binary=False)\n",
        "# cm"
      ],
      "execution_count": 0,
      "outputs": []
    },
    {
      "cell_type": "code",
      "metadata": {
        "id": "MCg2R2onNydD",
        "colab_type": "code",
        "colab": {
          "base_uri": "https://localhost:8080/",
          "height": 283
        },
        "outputId": "c2fa21f0-daf3-42e5-9911-c2d7cf35f28f"
      },
      "source": [
        "import matplotlib.pyplot as plt\n",
        "from mlxtend.evaluate import confusion_matrix\n",
        "from mlxtend.plotting import plot_confusion_matrix\n",
        "\n",
        "fig, ax = plot_confusion_matrix(conf_mat=cm)\n",
        "plt.show()"
      ],
      "execution_count": 188,
      "outputs": [
        {
          "output_type": "display_data",
          "data": {
            "image/png": "[encoded data removed]",
            "text/plain": [
              "<Figure size 432x288 with 1 Axes>"
            ]
          },
          "metadata": {
            "tags": []
          }
        }
      ]
    },
    {
      "cell_type": "code",
      "metadata": {
        "id": "5x-JBkgZOJ7Y",
        "colab_type": "code",
        "colab": {}
      },
      "source": [
        ""
      ],
      "execution_count": 0,
      "outputs": []
    },
    {
      "cell_type": "code",
      "metadata": {
        "id": "VmeFdlxnQJDV",
        "colab_type": "code",
        "colab": {}
      },
      "source": [
        ""
      ],
      "execution_count": 0,
      "outputs": []
    }
  ]
}