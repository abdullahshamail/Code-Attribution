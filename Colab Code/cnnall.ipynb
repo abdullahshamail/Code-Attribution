{
  "nbformat": 4,
  "nbformat_minor": 0,
  "metadata": {
    "colab": {
      "name": "cnnall.ipynb",
      "version": "0.3.2",
      "provenance": [],
      "collapsed_sections": []
    },
    "kernelspec": {
      "name": "python3",
      "display_name": "Python 3"
    },
    "accelerator": "GPU"
  },
  "cells": [
    {
      "cell_type": "code",
      "metadata": {
        "id": "g-TfbdZW1oZ4",
        "colab_type": "code",
        "outputId": "a0dda3a6-4208-4c2d-f204-6d62114d638a",
        "colab": {
          "base_uri": "https://localhost:8080/",
          "height": 121
        }
      },
      "source": [
        "from google.colab import drive\n",
        "drive.mount('/content/drive')"
      ],
      "execution_count": 0,
      "outputs": [
        {
          "output_type": "stream",
          "text": [
            "Go to this URL in a browser: https://accounts.google.com/o/oauth2/auth?client_id=947318989803-6bn6qk8qdgf4n4g3pfee6491hc0brc4i.apps.googleusercontent.com&redirect_uri=urn%3Aietf%3Awg%3Aoauth%3A2.0%3Aoob&scope=email%20https%3A%2F%2Fwww.googleapis.com%2Fauth%2Fdocs.test%20https%3A%2F%2Fwww.googleapis.com%2Fauth%2Fdrive%20https%3A%2F%2Fwww.googleapis.com%2Fauth%2Fdrive.photos.readonly%20https%3A%2F%2Fwww.googleapis.com%2Fauth%2Fpeopleapi.readonly&response_type=code\n",
            "\n",
            "Enter your authorization code:\n",
            "··········\n",
            "Mounted at /content/drive\n"
          ],
          "name": "stdout"
        }
      ]
    },
    {
      "cell_type": "code",
      "metadata": {
        "id": "ovgUwyah0oTz",
        "colab_type": "code",
        "colab": {}
      },
      "source": [
        "pathdata17zip = '/content/drive/My Drive/Code_Attribution/data17.zip'"
      ],
      "execution_count": 0,
      "outputs": []
    },
    {
      "cell_type": "code",
      "metadata": {
        "id": "xl-lfLGJ2D1u",
        "colab_type": "code",
        "colab": {}
      },
      "source": [
        "import zipfile\n",
        "zip_ref = zipfile.ZipFile(pathdata17zip, 'r')\n",
        "zip_ref.extractall(\"/tmp\")\n",
        "zip_ref.close()"
      ],
      "execution_count": 0,
      "outputs": []
    },
    {
      "cell_type": "code",
      "metadata": {
        "id": "iBJtygutKLX9",
        "colab_type": "code",
        "colab": {}
      },
      "source": [
        "datasetPath = '/tmp/data17'"
      ],
      "execution_count": 0,
      "outputs": []
    },
    {
      "cell_type": "code",
      "metadata": {
        "id": "Pt99DOyjK6rX",
        "colab_type": "code",
        "colab": {}
      },
      "source": [
        "from keras.layers import Input, Dense, Conv1D, MaxPooling1D, Flatten, Dropout\n",
        "from keras.optimizers import Adam\n",
        "from keras.callbacks import ModelCheckpoint, EarlyStopping, CSVLogger, ReduceLROnPlateau, TensorBoard\n",
        "from keras.models import Model\n",
        "import keras.backend as K"
      ],
      "execution_count": 0,
      "outputs": []
    },
    {
      "cell_type": "code",
      "metadata": {
        "id": "djcAtjNFK7HD",
        "colab_type": "code",
        "colab": {}
      },
      "source": [
        "import os\n",
        "\n",
        "path = datasetPath\n",
        "\n",
        "files = []\n",
        "# r=root, d=directories, f = files\n",
        "for r, d, f in os.walk(path):\n",
        "    for file in f:\n",
        "        if '.cpp' in file:\n",
        "            files.append(os.path.join(r, file))\n",
        "\n",
        "# for f in files:\n",
        "#     print(f)"
      ],
      "execution_count": 0,
      "outputs": []
    },
    {
      "cell_type": "code",
      "metadata": {
        "id": "PY8Gz0AYK_ka",
        "colab_type": "code",
        "outputId": "5d237d1f-6477-473d-e320-2449ff04fd80",
        "colab": {
          "base_uri": "https://localhost:8080/",
          "height": 34
        }
      },
      "source": [
        "len(files)"
      ],
      "execution_count": 0,
      "outputs": [
        {
          "output_type": "execute_result",
          "data": {
            "text/plain": [
              "56837"
            ]
          },
          "metadata": {
            "tags": []
          },
          "execution_count": 8
        }
      ]
    },
    {
      "cell_type": "code",
      "metadata": {
        "id": "qL8KmNzXdm3i",
        "colab_type": "code",
        "colab": {}
      },
      "source": [
        "outputvar = {}\n",
        "counter = 0\n",
        "for x in files:\n",
        "    user = x.split('/')[-2]\n",
        "    if user not in outputvar.keys():\n",
        "        outputvar[user] = counter\n",
        "        counter += 1"
      ],
      "execution_count": 0,
      "outputs": []
    },
    {
      "cell_type": "code",
      "metadata": {
        "id": "l_63WP1qLXBv",
        "colab_type": "code",
        "colab": {}
      },
      "source": [
        "lengths = []\n",
        "minLength = 2000"
      ],
      "execution_count": 0,
      "outputs": []
    },
    {
      "cell_type": "code",
      "metadata": {
        "id": "R75vexTPLYNY",
        "colab_type": "code",
        "colab": {}
      },
      "source": [
        "def padding(fname):\n",
        "    f = open(fname, \"r\")\n",
        "    y = f.read()\n",
        "    f.close()\n",
        "    \n",
        "    origy = y\n",
        "    while (len(y) < minLength):\n",
        "        y += origy\n",
        "        \n",
        "    f = open(fname, \"w\")\n",
        "    f.write(y)\n",
        "    f.close()\n",
        "    return y"
      ],
      "execution_count": 0,
      "outputs": []
    },
    {
      "cell_type": "code",
      "metadata": {
        "id": "KZt9LVSgKUVJ",
        "colab_type": "code",
        "outputId": "3acb7b07-dd48-4418-b1c3-a13e5e10dfeb",
        "colab": {
          "base_uri": "https://localhost:8080/",
          "height": 67
        }
      },
      "source": [
        "for i in range(0,3):\n",
        "    print(i)\n",
        "    lengths = []\n",
        "    count = 0\n",
        "    for fil in files:\n",
        "        f = open(fil, \"r\")\n",
        "        x = f.read()\n",
        "        f.close()\n",
        "        if(len(x) <= 100):\n",
        "            files.remove(fil)\n",
        "        elif len(x) == 0:\n",
        "            print(fil)\n",
        "            files.remove(fil)\n",
        "        elif(len(x) < minLength):\n",
        "            x = padding(fil)\n",
        "            lengths.append(len(x))\n",
        "        else:\n",
        "            lengths.append(len(x))\n"
      ],
      "execution_count": 0,
      "outputs": [
        {
          "output_type": "stream",
          "text": [
            "0\n",
            "1\n",
            "2\n"
          ],
          "name": "stdout"
        }
      ]
    },
    {
      "cell_type": "code",
      "metadata": {
        "colab_type": "code",
        "id": "gDKRvqxVmIDs",
        "outputId": "31705952-2546-4c99-994d-2b3edc6be69b",
        "colab": {
          "base_uri": "https://localhost:8080/",
          "height": 84
        }
      },
      "source": [
        "print(max(lengths))\n",
        "print(min(lengths))\n",
        "print(len(lengths))\n",
        "print(len(files))"
      ],
      "execution_count": 0,
      "outputs": [
        {
          "output_type": "stream",
          "text": [
            "95319\n",
            "2000\n",
            "56808\n",
            "56808\n"
          ],
          "name": "stdout"
        }
      ]
    },
    {
      "cell_type": "code",
      "metadata": {
        "id": "KGofI9zaLdk4",
        "colab_type": "code",
        "colab": {}
      },
      "source": [
        "import numpy as np"
      ],
      "execution_count": 0,
      "outputs": []
    },
    {
      "cell_type": "code",
      "metadata": {
        "id": "U8i7EoXCnIcy",
        "colab_type": "code",
        "outputId": "89e8b498-4369-4f08-d285-92a1d42db719",
        "colab": {
          "base_uri": "https://localhost:8080/",
          "height": 118
        }
      },
      "source": [
        "inp = np.array(files)\n",
        "names = []\n",
        "for fil in files:\n",
        "    names.append(outputvar[fil.split('/')[-2]])\n",
        "out = np.array(names)\n",
        "print(inp[:10])\n",
        "print(out[:10])"
      ],
      "execution_count": 0,
      "outputs": [
        {
          "output_type": "stream",
          "text": [
            "['/tmp/data17/Izazz/untitled0.cpp' '/tmp/data17/deone/game20.cpp'\n",
            " '/tmp/data17/deone/Game0.cpp' '/tmp/data17/deone/Game1.cpp'\n",
            " '/tmp/data17/cthbst/pB0.cpp' '/tmp/data17/cthbst/pC2.cpp'\n",
            " '/tmp/data17/cthbst/pC1.cpp' '/tmp/data17/cthbst/pA1.cpp'\n",
            " '/tmp/data17/cthbst/pB1.cpp' '/tmp/data17/cthbst/pC0.cpp']\n",
            "[0 1 1 1 2 2 2 2 2 2]\n"
          ],
          "name": "stdout"
        }
      ]
    },
    {
      "cell_type": "code",
      "metadata": {
        "id": "nk4cv3RsLiPK",
        "colab_type": "code",
        "colab": {}
      },
      "source": [
        "from sklearn.model_selection import train_test_split"
      ],
      "execution_count": 0,
      "outputs": []
    },
    {
      "cell_type": "code",
      "metadata": {
        "colab_type": "code",
        "id": "-9gRIMTwJqO9",
        "colab": {}
      },
      "source": [
        "x_train, X_test, y_train, Y_test = train_test_split(inp, out, test_size=0.2, random_state = 42)\n",
        "X_train, X_val, Y_train, Y_val = train_test_split(x_train, y_train, test_size=0.2, random_state = 42)"
      ],
      "execution_count": 0,
      "outputs": []
    },
    {
      "cell_type": "code",
      "metadata": {
        "id": "iRsaq9oPLmII",
        "colab_type": "code",
        "colab": {}
      },
      "source": [
        "def walk(path, vocab, count):\n",
        "    for r, d, f in os.walk(path):\n",
        "        for file in f:\n",
        "            f = open(os.path.join(r, file))\n",
        "            x = f.read()\n",
        "            for line in x:\n",
        "                for letter in line:\n",
        "                    if letter not in vocab.keys():\n",
        "                        vocab[letter] = count[0]\n",
        "                        count[0] += 1\n"
      ],
      "execution_count": 0,
      "outputs": []
    },
    {
      "cell_type": "code",
      "metadata": {
        "id": "KSJWfWJjLoMz",
        "colab_type": "code",
        "outputId": "f224cfca-ba77-4abc-ee32-264f6e865eaa",
        "colab": {
          "base_uri": "https://localhost:8080/",
          "height": 34
        }
      },
      "source": [
        "vocab = {}\n",
        "count = [0]\n",
        "path = datasetPath\n",
        "for r, d, f, in (os.walk(path)):\n",
        "    for i, dir in enumerate(d):\n",
        "        walk(os.path.join(r, dir), vocab, count)\n",
        "print(count)"
      ],
      "execution_count": 0,
      "outputs": [
        {
          "output_type": "stream",
          "text": [
            "[1468]\n"
          ],
          "name": "stdout"
        }
      ]
    },
    {
      "cell_type": "code",
      "metadata": {
        "id": "1fxmJ-vaLpsJ",
        "colab_type": "code",
        "colab": {}
      },
      "source": [
        "def getFiles(path):\n",
        "    matrix = []\n",
        "    for p in path:\n",
        "        tmp = np.zeros((50, 40), dtype = int)\n",
        "        f = open(p)\n",
        "        for i in range(0,50):\n",
        "            for j in range(0, 40):\n",
        "                tmp[i][j] = vocab[f.read(1)]\n",
        "        matrix.append(tmp)\n",
        "    return np.array(matrix)"
      ],
      "execution_count": 0,
      "outputs": []
    },
    {
      "cell_type": "code",
      "metadata": {
        "id": "dAebkRzpMbXy",
        "colab_type": "code",
        "colab": {}
      },
      "source": [
        "num_classes = len(outputvar)\n",
        "input_shape = (50, 40)\n",
        "batch_size = 1024\n",
        "def data_generator(file_paths, author_numbers):\n",
        "    batch_start = 0\n",
        "    batch_end = batch_start + batch_size\n",
        "    n = file_paths.shape[0]\n",
        "    indexes = np.arange(0, n, batch_size)\n",
        "    if n % batch_size != 0:\n",
        "        indexes = indexes[:-1] \n",
        "    while True:\n",
        "        np.random.shuffle(indexes)\n",
        "        for ind in indexes:\n",
        "            batch_start = ind\n",
        "            batch_end = batch_start + batch_size\n",
        "            myFiles = file_paths[batch_start:batch_end]\n",
        "            batch_files = getFiles(myFiles)\n",
        "            batch_authors = author_numbers[batch_start:batch_end]\n",
        "            batch_x = np.zeros((batch_size, 50, 40))\n",
        "            tmp = np.zeros((batch_size, num_classes))\n",
        "            batch_x = np.array( batch_files )\n",
        "            for i, j in enumerate(batch_authors):\n",
        "                tmp[i][j] = 1\n",
        "            batch_y = np.array( tmp )\n",
        "            yield( batch_x, batch_y )"
      ],
      "execution_count": 0,
      "outputs": []
    },
    {
      "cell_type": "code",
      "metadata": {
        "id": "hi1Doc0HMd0h",
        "colab_type": "code",
        "outputId": "f3717047-2e71-4c60-8b6f-d1cf6d178eeb",
        "colab": {
          "base_uri": "https://localhost:8080/",
          "height": 154
        }
      },
      "source": [
        "input_fil = Input(shape=(input_shape), name='input_fil')\n",
        "conv = Conv1D(64, kernel_size=7, strides = 2,  activation='relu')(input_fil)\n",
        "drop = Dropout(0.1)(conv)\n",
        "maxP = MaxPooling1D()(drop)\n",
        "flat = Flatten()(maxP)\n",
        "output_class = Dense(num_classes, activation='softmax')(flat)\n",
        "\n",
        "model = Model(inputs=input_fil, outputs=output_class)"
      ],
      "execution_count": 0,
      "outputs": [
        {
          "output_type": "stream",
          "text": [
            "W0727 08:04:17.069743 140452118001536 deprecation_wrapper.py:119] From /usr/local/lib/python3.6/dist-packages/keras/backend/tensorflow_backend.py:133: The name tf.placeholder_with_default is deprecated. Please use tf.compat.v1.placeholder_with_default instead.\n",
            "\n",
            "W0727 08:04:17.078921 140452118001536 deprecation.py:506] From /usr/local/lib/python3.6/dist-packages/keras/backend/tensorflow_backend.py:3445: calling dropout (from tensorflow.python.ops.nn_ops) with keep_prob is deprecated and will be removed in a future version.\n",
            "Instructions for updating:\n",
            "Please use `rate` instead of `keep_prob`. Rate should be set to `rate = 1 - keep_prob`.\n",
            "W0727 08:04:17.095486 140452118001536 deprecation_wrapper.py:119] From /usr/local/lib/python3.6/dist-packages/keras/backend/tensorflow_backend.py:3976: The name tf.nn.max_pool is deprecated. Please use tf.nn.max_pool2d instead.\n",
            "\n"
          ],
          "name": "stderr"
        }
      ]
    },
    {
      "cell_type": "code",
      "metadata": {
        "id": "c97O2SzLMfOv",
        "colab_type": "code",
        "outputId": "71daae7c-fbf7-4a60-ae02-39c8432f6718",
        "colab": {
          "base_uri": "https://localhost:8080/",
          "height": 423
        }
      },
      "source": [
        "adam = Adam(lr=0.001)\n",
        "model.compile(loss='categorical_crossentropy', \n",
        "              optimizer=adam, \n",
        "              metrics=['accuracy'])\n",
        "\n",
        "model.summary()"
      ],
      "execution_count": 0,
      "outputs": [
        {
          "output_type": "stream",
          "text": [
            "W0727 08:04:20.096041 140452118001536 deprecation_wrapper.py:119] From /usr/local/lib/python3.6/dist-packages/keras/optimizers.py:790: The name tf.train.Optimizer is deprecated. Please use tf.compat.v1.train.Optimizer instead.\n",
            "\n",
            "W0727 08:04:20.104935 140452118001536 deprecation_wrapper.py:119] From /usr/local/lib/python3.6/dist-packages/keras/backend/tensorflow_backend.py:3295: The name tf.log is deprecated. Please use tf.math.log instead.\n",
            "\n"
          ],
          "name": "stderr"
        },
        {
          "output_type": "stream",
          "text": [
            "_________________________________________________________________\n",
            "Layer (type)                 Output Shape              Param #   \n",
            "=================================================================\n",
            "input_fil (InputLayer)       (None, 50, 40)            0         \n",
            "_________________________________________________________________\n",
            "conv1d_2 (Conv1D)            (None, 22, 64)            17984     \n",
            "_________________________________________________________________\n",
            "dropout_1 (Dropout)          (None, 22, 64)            0         \n",
            "_________________________________________________________________\n",
            "max_pooling1d_1 (MaxPooling1 (None, 11, 64)            0         \n",
            "_________________________________________________________________\n",
            "flatten_1 (Flatten)          (None, 704)               0         \n",
            "_________________________________________________________________\n",
            "dense_1 (Dense)              (None, 11609)             8184345   \n",
            "=================================================================\n",
            "Total params: 8,202,329\n",
            "Trainable params: 8,202,329\n",
            "Non-trainable params: 0\n",
            "_________________________________________________________________\n"
          ],
          "name": "stdout"
        }
      ]
    },
    {
      "cell_type": "code",
      "metadata": {
        "id": "2Ch6PagFMpSb",
        "colab_type": "code",
        "colab": {}
      },
      "source": [
        "train_gen = data_generator(X_train, Y_train)\n",
        "test_gen = data_generator(X_test, Y_test)\n",
        "val_gen = data_generator(X_val, Y_val)"
      ],
      "execution_count": 0,
      "outputs": []
    },
    {
      "cell_type": "code",
      "metadata": {
        "id": "ox2sOMtL35Ow",
        "colab_type": "code",
        "outputId": "e1d141b0-41bc-41e7-e2a2-8dd0663e8287",
        "colab": {
          "base_uri": "https://localhost:8080/",
          "height": 235
        }
      },
      "source": [
        "print(X_train[:10])\n",
        "print(X_test[:10])\n",
        "print(Y_train[:10])\n",
        "print(Y_test[:10])"
      ],
      "execution_count": 0,
      "outputs": [
        {
          "output_type": "stream",
          "text": [
            "['/tmp/data17/Anton.Lunyov/main1.cpp' '/tmp/data17/caojiangxia/main0.cpp'\n",
            " '/tmp/data17/y4st/A1.cpp' '/tmp/data17/Balajiganapathi/c0.cpp'\n",
            " '/tmp/data17/go.goo.gle/CDJ1A171.cpp' '/tmp/data17/kyoae/P21.cpp'\n",
            " '/tmp/data17/luki4824/Ratatouille0.cpp' '/tmp/data17/Triracle/A0.cpp'\n",
            " '/tmp/data17/asv/BathroomStalls10.cpp' '/tmp/data17/Fcdkbear/Source1.cpp']\n",
            "['/tmp/data17/CookiC/Problem B0. Parenting Partnering0.cpp'\n",
            " '/tmp/data17/ssor96/b0.cpp' '/tmp/data17/ardo/main0.cpp'\n",
            " '/tmp/data17/andzaytsev/C0.cpp' '/tmp/data17/bbyalcinkaya/cruise1.cpp'\n",
            " '/tmp/data17/Vishal4556/AmpSyr0.cpp' '/tmp/data17/calee0219/pB1.cpp'\n",
            " '/tmp/data17/pk.tautolo/B0.cpp' '/tmp/data17/andyshih12/B1.cpp'\n",
            " '/tmp/data17/shivammittal99/B0.cpp']\n",
            "[ 8130 11102  5026  3028  4893  2086  9479 10826  4238  3643]\n",
            "[ 5848   931  3164  9426  1615 11213   350   764  4528  2367]\n"
          ],
          "name": "stdout"
        }
      ]
    },
    {
      "cell_type": "code",
      "metadata": {
        "id": "dkgZm9lNMqrV",
        "colab_type": "code",
        "outputId": "1034730e-37aa-4246-daa7-4e0537ed9a8c",
        "colab": {
          "base_uri": "https://localhost:8080/",
          "height": 423
        }
      },
      "source": [
        "hist1 = model.fit_generator(train_gen, epochs=10, steps_per_epoch=len(Y_train)//batch_size, \n",
        "                           validation_data=val_gen, validation_steps=len(Y_val)//batch_size, verbose=1)"
      ],
      "execution_count": 0,
      "outputs": [
        {
          "output_type": "stream",
          "text": [
            "W0727 08:04:33.753188 140452118001536 deprecation.py:323] From /usr/local/lib/python3.6/dist-packages/tensorflow/python/ops/math_grad.py:1250: add_dispatch_support.<locals>.wrapper (from tensorflow.python.ops.array_ops) is deprecated and will be removed in a future version.\n",
            "Instructions for updating:\n",
            "Use tf.where in 2.0, which has the same broadcast rule as np.where\n"
          ],
          "name": "stderr"
        },
        {
          "output_type": "stream",
          "text": [
            "Epoch 1/10\n",
            "35/35 [==============================] - 52s 1s/step - loss: 10.3319 - acc: 0.0016 - val_loss: 9.2861 - val_acc: 0.0054\n",
            "Epoch 2/10\n",
            "35/35 [==============================] - 45s 1s/step - loss: 8.4675 - acc: 0.0398 - val_loss: 8.7507 - val_acc: 0.0562\n",
            "Epoch 3/10\n",
            "35/35 [==============================] - 45s 1s/step - loss: 5.3861 - acc: 0.2641 - val_loss: 7.9367 - val_acc: 0.1962\n",
            "Epoch 4/10\n",
            "35/35 [==============================] - 45s 1s/step - loss: 2.8402 - acc: 0.5418 - val_loss: 7.3712 - val_acc: 0.3274\n",
            "Epoch 5/10\n",
            "35/35 [==============================] - 44s 1s/step - loss: 1.5315 - acc: 0.7341 - val_loss: 7.5068 - val_acc: 0.3739\n",
            "Epoch 6/10\n",
            "35/35 [==============================] - 45s 1s/step - loss: 0.9472 - acc: 0.8328 - val_loss: 7.6913 - val_acc: 0.3944\n",
            "Epoch 7/10\n",
            "35/35 [==============================] - 45s 1s/step - loss: 0.6408 - acc: 0.8878 - val_loss: 7.6113 - val_acc: 0.4204\n",
            "Epoch 8/10\n",
            "35/35 [==============================] - 44s 1s/step - loss: 0.4405 - acc: 0.9235 - val_loss: 7.6688 - val_acc: 0.4319\n",
            "Epoch 9/10\n",
            "35/35 [==============================] - 45s 1s/step - loss: 0.3336 - acc: 0.9459 - val_loss: 7.7100 - val_acc: 0.4368\n",
            "Epoch 10/10\n",
            "35/35 [==============================] - 44s 1s/step - loss: 0.2648 - acc: 0.9601 - val_loss: 7.7770 - val_acc: 0.4385\n"
          ],
          "name": "stdout"
        }
      ]
    },
    {
      "cell_type": "code",
      "metadata": {
        "id": "I-8G1EEMeFk3",
        "colab_type": "code",
        "outputId": "30108254-064f-4121-f30a-ed48792855db",
        "colab": {
          "base_uri": "https://localhost:8080/",
          "height": 34
        }
      },
      "source": [
        "xtestdata = getFiles(X_test)\n",
        "print(xtestdata.shape)"
      ],
      "execution_count": 0,
      "outputs": [
        {
          "output_type": "stream",
          "text": [
            "(11362, 50, 40)\n"
          ],
          "name": "stdout"
        }
      ]
    },
    {
      "cell_type": "code",
      "metadata": {
        "id": "C_eD9sy4qVs5",
        "colab_type": "code",
        "colab": {}
      },
      "source": [
        "#X_test.shape"
      ],
      "execution_count": 0,
      "outputs": []
    },
    {
      "cell_type": "code",
      "metadata": {
        "id": "8Xjg0GTaMv7z",
        "colab_type": "code",
        "colab": {}
      },
      "source": [
        "#pre = model.predict_generator(test_gen, steps = np.ceil(X_test.shape[0]/batch_size))"
      ],
      "execution_count": 0,
      "outputs": []
    },
    {
      "cell_type": "code",
      "metadata": {
        "id": "ZCUl89ysqHt4",
        "colab_type": "code",
        "colab": {}
      },
      "source": [
        "#pre.shape"
      ],
      "execution_count": 0,
      "outputs": []
    },
    {
      "cell_type": "code",
      "metadata": {
        "id": "7IR1FG7CpsF-",
        "colab_type": "code",
        "outputId": "412c8370-537f-483c-ddfe-14923ab151bd",
        "colab": {
          "base_uri": "https://localhost:8080/",
          "height": 34
        }
      },
      "source": [
        "preds = model.predict(xtestdata)\n",
        "print(preds.shape)"
      ],
      "execution_count": 0,
      "outputs": [
        {
          "output_type": "stream",
          "text": [
            "(11362, 11609)\n"
          ],
          "name": "stdout"
        }
      ]
    },
    {
      "cell_type": "code",
      "metadata": {
        "id": "CDD6JVXQMwJB",
        "colab_type": "code",
        "outputId": "94957489-e5b9-4024-e039-fd0f46680a46",
        "colab": {
          "base_uri": "https://localhost:8080/",
          "height": 34
        }
      },
      "source": [
        "myPreds = []\n",
        "for i in preds:\n",
        "    myPreds.append(np.argmax(i))\n",
        "myPreds = np.array(myPreds)\n",
        "print(myPreds.shape)"
      ],
      "execution_count": 0,
      "outputs": [
        {
          "output_type": "stream",
          "text": [
            "(11362,)\n"
          ],
          "name": "stdout"
        }
      ]
    },
    {
      "cell_type": "code",
      "metadata": {
        "id": "LChoEVJGMwP4",
        "colab_type": "code",
        "outputId": "3a9e9df8-d760-46ad-fb42-c8584da50c35",
        "colab": {
          "base_uri": "https://localhost:8080/",
          "height": 34
        }
      },
      "source": [
        "count = 0\n",
        "for i in range(Y_test.shape[0]):\n",
        "    if myPreds[i] == Y_test[i]:\n",
        "        count += 1\n",
        "\n",
        "acc = (count / Y_test.shape[0]) * 100\n",
        "print(\"Accuracy\", acc)"
      ],
      "execution_count": 0,
      "outputs": [
        {
          "output_type": "stream",
          "text": [
            "Accuracy 43.46945960218272\n"
          ],
          "name": "stdout"
        }
      ]
    },
    {
      "cell_type": "code",
      "metadata": {
        "id": "r-SRgYFBMwU3",
        "colab_type": "code",
        "colab": {}
      },
      "source": [
        ""
      ],
      "execution_count": 0,
      "outputs": []
    }
  ]
}