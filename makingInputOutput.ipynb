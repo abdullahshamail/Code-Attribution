{
 "cells": [
  {
   "cell_type": "code",
   "execution_count": 1,
   "metadata": {},
   "outputs": [
    {
     "name": "stderr",
     "output_type": "stream",
     "text": [
      "Using TensorFlow backend.\n"
     ]
    }
   ],
   "source": [
    "import keras"
   ]
  },
  {
   "cell_type": "code",
   "execution_count": 36,
   "metadata": {},
   "outputs": [],
   "source": [
    "import os\n",
    "\n",
    "path = '/home/hamza/Documents/SRP/Code-Attribution-abdullah/data17'\n",
    "\n",
    "files = []\n",
    "# r=root, d=directories, f = files\n",
    "for r, d, f in os.walk(path):\n",
    "    for file in f:\n",
    "        if '.cpp' in file:\n",
    "            files.append(os.path.join(r, file))\n",
    "\n",
    "# for f in files:\n",
    "#     print(f)"
   ]
  },
  {
   "cell_type": "code",
   "execution_count": 3,
   "metadata": {},
   "outputs": [
    {
     "data": {
      "text/plain": [
       "56837"
      ]
     },
     "execution_count": 3,
     "metadata": {},
     "output_type": "execute_result"
    }
   ],
   "source": [
    "len(files)"
   ]
  },
  {
   "cell_type": "code",
   "execution_count": 4,
   "metadata": {},
   "outputs": [],
   "source": [
    "outputvar = {}\n",
    "counter = 0\n",
    "for x in files:\n",
    "    user = x.split('/')[-2]\n",
    "    if user not in outputvar.keys():\n",
    "        outputvar[user] = counter\n",
    "        counter += 1"
   ]
  },
  {
   "cell_type": "code",
   "execution_count": 6,
   "metadata": {},
   "outputs": [],
   "source": [
    "lengths = []\n",
    "# count = 0\n",
    "for fil in files:\n",
    "    f = open(fil, \"r\")\n",
    "    x = f.read()\n",
    "    f.close()\n",
    "    \n",
    "# print(count)"
   ]
  },
  {
   "cell_type": "code",
   "execution_count": 9,
   "metadata": {},
   "outputs": [],
   "source": [
    "def padding(fname):\n",
    "    f = open(fname, \"r\")\n",
    "    y = f.read()\n",
    "    f.close()\n",
    "    \n",
    "    origy = y\n",
    "    while (len(y) < 500):\n",
    "        y += origy\n",
    "        \n",
    "    f = open(fname, \"w\")\n",
    "    f.write(y)\n",
    "    f.close()\n",
    "    return y"
   ]
  },
  {
   "cell_type": "code",
   "execution_count": 37,
   "metadata": {},
   "outputs": [],
   "source": [
    "for i in range(0,3):\n",
    "    lengths = []\n",
    "    count = 0\n",
    "    for fil in files:\n",
    "        f = open(fil, \"r\")\n",
    "        x = f.read()\n",
    "        f.close()\n",
    "        if(len(x) <= 100):\n",
    "            files.remove(fil)\n",
    "        elif len(x) == 0:\n",
    "            print(fil)\n",
    "            files.remove(fil)\n",
    "        elif(len(x) < 500):\n",
    "            x = padding(fil)\n",
    "            lengths.append(len(x))\n",
    "        else:\n",
    "            lengths.append(len(x))"
   ]
  },
  {
   "cell_type": "code",
   "execution_count": 40,
   "metadata": {},
   "outputs": [
    {
     "name": "stdout",
     "output_type": "stream",
     "text": [
      "95319\n",
      "500\n",
      "56815\n",
      "56815\n"
     ]
    }
   ],
   "source": [
    "print(max(lengths))\n",
    "print(min(lengths))\n",
    "print(len(lengths))\n",
    "print(len(files))"
   ]
  },
  {
   "cell_type": "code",
   "execution_count": 41,
   "metadata": {},
   "outputs": [],
   "source": [
    "import numpy as np"
   ]
  },
  {
   "cell_type": "code",
   "execution_count": 48,
   "metadata": {},
   "outputs": [
    {
     "name": "stdout",
     "output_type": "stream",
     "text": [
      "['/home/hamza/Documents/SRP/Code-Attribution-abdullah/data17/yurp/main1.cpp'\n",
      " '/home/hamza/Documents/SRP/Code-Attribution-abdullah/data17/yurp/main2.cpp'\n",
      " '/home/hamza/Documents/SRP/Code-Attribution-abdullah/data17/yurp/main0.cpp'\n",
      " '/home/hamza/Documents/SRP/Code-Attribution-abdullah/data17/lvdo92/a1.cpp'\n",
      " '/home/hamza/Documents/SRP/Code-Attribution-abdullah/data17/lvdo92/b0.cpp'\n",
      " '/home/hamza/Documents/SRP/Code-Attribution-abdullah/data17/lvdo92/b1.cpp'\n",
      " '/home/hamza/Documents/SRP/Code-Attribution-abdullah/data17/lvdo92/a0.cpp'\n",
      " '/home/hamza/Documents/SRP/Code-Attribution-abdullah/data17/lvdo92/b2.cpp'\n",
      " '/home/hamza/Documents/SRP/Code-Attribution-abdullah/data17/gcasarsa/C0.cpp'\n",
      " '/home/hamza/Documents/SRP/Code-Attribution-abdullah/data17/gcasarsa/B0.cpp']\n",
      "[0 0 0 1 1 1 1 1 2 2]\n"
     ]
    }
   ],
   "source": [
    "inp = np.array(files)\n",
    "names = []\n",
    "for fil in files:\n",
    "    names.append(outputvar[fil.split('/')[-2]])\n",
    "out = np.array(names)\n",
    "print(inp[:10])\n",
    "print(out[:10])"
   ]
  },
  {
   "cell_type": "code",
   "execution_count": 49,
   "metadata": {},
   "outputs": [],
   "source": [
    "from sklearn.model_selection import train_test_split"
   ]
  },
  {
   "cell_type": "code",
   "execution_count": 56,
   "metadata": {},
   "outputs": [],
   "source": [
    "X_train, X_test, Y_train, Y_test = train_test_split(\n",
    "inp, out, test_size=0.8, random_state = 42)"
   ]
  },
  {
   "cell_type": "code",
   "execution_count": 59,
   "metadata": {},
   "outputs": [],
   "source": [
    "def loader(fil):\n",
    "    return open(fil).read()"
   ]
  },
  {
   "cell_type": "code",
   "execution_count": 97,
   "metadata": {},
   "outputs": [],
   "source": [
    "def walk(path, vocab, count):\n",
    "    for r, d, f in os.walk(path):\n",
    "        for file in f:\n",
    "            f = open(os.path.join(r, file))\n",
    "            x = f.read()\n",
    "            for line in x:\n",
    "                for letter in line:\n",
    "                    if letter not in vocab.keys():\n",
    "                        vocab[letter] = count[0]\n",
    "                        count[0] += 1\n"
   ]
  },
  {
   "cell_type": "code",
   "execution_count": 98,
   "metadata": {},
   "outputs": [
    {
     "name": "stdout",
     "output_type": "stream",
     "text": [
      "[214]\n",
      "['\\x83', '\\x87', '\\x8b', '\\x8f', '\\x93', '\\x97', '\\x9b', '\\x9f', ' ', '\\xa3', '$', '\\xa7', '(', '\\xab', ',', '\\xaf', '0', '\\xb3', '4', '\\xb7', '8', '\\xbb', '<', '\\xbf', '@', '\\xc3', 'D', '\\xc7', 'H', '\\xcb', 'L', '\\xcf', 'P', '\\xd3', 'T', '\\xd7', 'X', '\\xdb', '\\\\', '\\xdf', '`', '\\xe3', 'd', '\\xe7', 'h', '\\xeb', 'l', '\\xef', 'p', '\\xf3', 't', 'x', '|', '\\x80', '\\x84', '\\x88', '\\x8c', '\\x90', '\\x94', '\\x98', '\\x9c', '\\xa0', '#', '\\xa4', \"'\", '\\xa8', '+', '\\xac', '/', '\\xb0', '3', '\\xb4', '7', '\\xb8', ';', '\\xbc', '?', 'C', '\\xc4', 'G', '\\xc8', 'K', '\\xcc', 'O', '\\xd0', 'S', '\\xd4', 'W', '\\xd8', '[', '\\xdc', '_', '\\xe0', 'c', '\\xe4', 'g', '\\xe8', 'k', '\\xec', 'o', '\\xf0', 's', 'w', '{', '\\x7f', '\\x81', '\\x02', '\\x85', '\\x89', '\\n', '\\x8d', '\\x91', '\\x95', '\\x99', '\\x9d', '\\xa1', '\"', '\\xa5', '&', '\\xa9', '*', '\\xad', '.', '\\xb1', '2', '\\xb5', '6', '\\xb9', ':', '\\xbd', '>', 'B', '\\xc5', 'F', '\\xc9', 'J', '\\xcd', 'N', '\\xd1', 'R', '\\xd5', 'V', '\\xd9', 'Z', '\\xdd', '^', '\\xe1', 'b', '\\xe5', 'f', '\\xe9', 'j', '\\xed', 'n', '\\xf1', 'r', 'v', 'z', '~', '\\x01', '\\x82', '\\x86', '\\t', '\\x8a', '\\x8e', '\\x92', '\\x96', '\\x9a', '\\x9e', '!', '\\xa2', '%', '\\xa6', ')', '\\xaa', '-', '\\xae', '1', '\\xb2', '5', '\\xb6', '9', '\\xba', '=', '\\xbe', 'A', '\\xc2', 'E', '\\xc6', 'I', '\\xca', 'M', '\\xce', 'Q', '\\xd2', 'U', '\\xd6', 'Y', '\\xda', ']', '\\xde', 'a', '\\xe2', 'e', '\\xe6', 'i', '\\xea', 'm', '\\xee', 'q', '\\xf2', 'u', 'y', '}']\n"
     ]
    }
   ],
   "source": [
    "vocab = {}\n",
    "count = [0]\n",
    "path = '/home/hamza/Documents/SRP/Code-Attribution-abdullah/data17/'\n",
    "for r, d, f, in (os.walk(path)):\n",
    "    for i, dir in enumerate(d):\n",
    "        walk(os.path.join(r, dir), vocab, count)\n",
    "print(count)\n",
    "print(vocab.keys())"
   ]
  },
  {
   "cell_type": "code",
   "execution_count": 99,
   "metadata": {},
   "outputs": [
    {
     "data": {
      "text/plain": [
       "{'\\x01': 213,\n",
       " '\\x02': 212,\n",
       " '\\t': 84,\n",
       " '\\n': 0,\n",
       " ' ': 1,\n",
       " '!': 57,\n",
       " '\"': 65,\n",
       " '#': 2,\n",
       " '$': 140,\n",
       " '%': 80,\n",
       " '&': 50,\n",
       " \"'\": 60,\n",
       " '(': 46,\n",
       " ')': 47,\n",
       " '*': 81,\n",
       " '+': 56,\n",
       " ',': 36,\n",
       " '-': 54,\n",
       " '.': 52,\n",
       " '/': 73,\n",
       " '0': 61,\n",
       " '1': 55,\n",
       " '2': 28,\n",
       " '3': 33,\n",
       " '4': 38,\n",
       " '5': 77,\n",
       " '6': 37,\n",
       " '7': 79,\n",
       " '8': 78,\n",
       " '9': 74,\n",
       " ':': 31,\n",
       " ';': 32,\n",
       " '<': 10,\n",
       " '=': 30,\n",
       " '>': 17,\n",
       " '?': 53,\n",
       " '@': 106,\n",
       " 'A': 69,\n",
       " 'B': 70,\n",
       " 'C': 42,\n",
       " 'D': 29,\n",
       " 'E': 85,\n",
       " 'F': 76,\n",
       " 'G': 75,\n",
       " 'H': 71,\n",
       " 'I': 35,\n",
       " 'J': 86,\n",
       " 'K': 97,\n",
       " 'L': 44,\n",
       " 'M': 39,\n",
       " 'N': 67,\n",
       " 'O': 72,\n",
       " 'P': 34,\n",
       " 'Q': 43,\n",
       " 'R': 96,\n",
       " 'S': 41,\n",
       " 'T': 26,\n",
       " 'U': 40,\n",
       " 'V': 27,\n",
       " 'W': 95,\n",
       " 'X': 68,\n",
       " 'Y': 98,\n",
       " 'Z': 88,\n",
       " '[': 58,\n",
       " '\\\\': 66,\n",
       " ']': 59,\n",
       " '^': 83,\n",
       " '_': 25,\n",
       " '`': 100,\n",
       " 'a': 15,\n",
       " 'b': 45,\n",
       " 'c': 5,\n",
       " 'd': 8,\n",
       " 'e': 9,\n",
       " 'f': 19,\n",
       " 'g': 20,\n",
       " 'h': 23,\n",
       " 'i': 3,\n",
       " 'j': 87,\n",
       " 'k': 63,\n",
       " 'l': 6,\n",
       " 'm': 16,\n",
       " 'n': 4,\n",
       " 'o': 11,\n",
       " 'p': 18,\n",
       " 'q': 22,\n",
       " 'r': 14,\n",
       " 's': 12,\n",
       " 't': 13,\n",
       " 'u': 7,\n",
       " 'v': 21,\n",
       " 'w': 64,\n",
       " 'x': 62,\n",
       " 'y': 24,\n",
       " 'z': 51,\n",
       " '{': 48,\n",
       " '|': 82,\n",
       " '}': 49,\n",
       " '~': 105,\n",
       " '\\x7f': 211,\n",
       " '\\x80': 169,\n",
       " '\\x81': 162,\n",
       " '\\x82': 102,\n",
       " '\\x83': 99,\n",
       " '\\x84': 167,\n",
       " '\\x85': 175,\n",
       " '\\x86': 147,\n",
       " '\\x87': 170,\n",
       " '\\x88': 146,\n",
       " '\\x89': 111,\n",
       " '\\x8a': 154,\n",
       " '\\x8b': 164,\n",
       " '\\x8c': 92,\n",
       " '\\x8d': 151,\n",
       " '\\x8e': 148,\n",
       " '\\x8f': 171,\n",
       " '\\x90': 94,\n",
       " '\\x91': 188,\n",
       " '\\x92': 158,\n",
       " '\\x93': 172,\n",
       " '\\x94': 174,\n",
       " '\\x95': 142,\n",
       " '\\x96': 156,\n",
       " '\\x97': 90,\n",
       " '\\x98': 152,\n",
       " '\\x99': 163,\n",
       " '\\x9a': 177,\n",
       " '\\x9b': 185,\n",
       " '\\x9c': 173,\n",
       " '\\x9d': 179,\n",
       " '\\x9e': 187,\n",
       " '\\x9f': 166,\n",
       " '\\xa0': 155,\n",
       " '\\xa1': 137,\n",
       " '\\xa2': 149,\n",
       " '\\xa3': 190,\n",
       " '\\xa4': 112,\n",
       " '\\xa5': 181,\n",
       " '\\xa6': 176,\n",
       " '\\xa7': 165,\n",
       " '\\xa8': 159,\n",
       " '\\xa9': 104,\n",
       " '\\xaa': 120,\n",
       " '\\xab': 194,\n",
       " '\\xac': 189,\n",
       " '\\xad': 193,\n",
       " '\\xae': 160,\n",
       " '\\xaf': 168,\n",
       " '\\xb0': 115,\n",
       " '\\xb1': 130,\n",
       " '\\xb2': 186,\n",
       " '\\xb3': 134,\n",
       " '\\xb4': 135,\n",
       " '\\xb5': 119,\n",
       " '\\xb6': 191,\n",
       " '\\xb7': 117,\n",
       " '\\xb8': 128,\n",
       " '\\xb9': 161,\n",
       " '\\xba': 144,\n",
       " '\\xbb': 108,\n",
       " '\\xbc': 123,\n",
       " '\\xbd': 178,\n",
       " '\\xbe': 126,\n",
       " '\\xbf': 109,\n",
       " '\\xc2': 93,\n",
       " '\\xc3': 192,\n",
       " '\\xc4': 118,\n",
       " '\\xc5': 127,\n",
       " '\\xc6': 133,\n",
       " '\\xc7': 114,\n",
       " '\\xc8': 138,\n",
       " '\\xc9': 199,\n",
       " '\\xca': 129,\n",
       " '\\xcb': 121,\n",
       " '\\xcc': 91,\n",
       " '\\xcd': 198,\n",
       " '\\xce': 113,\n",
       " '\\xcf': 204,\n",
       " '\\xd0': 139,\n",
       " '\\xd1': 136,\n",
       " '\\xd2': 131,\n",
       " '\\xd3': 124,\n",
       " '\\xd4': 196,\n",
       " '\\xd5': 202,\n",
       " '\\xd6': 116,\n",
       " '\\xd7': 203,\n",
       " '\\xd8': 195,\n",
       " '\\xd9': 122,\n",
       " '\\xda': 125,\n",
       " '\\xdb': 201,\n",
       " '\\xdc': 101,\n",
       " '\\xdd': 208,\n",
       " '\\xde': 89,\n",
       " '\\xdf': 197,\n",
       " '\\xe0': 207,\n",
       " '\\xe1': 132,\n",
       " '\\xe2': 110,\n",
       " '\\xe3': 157,\n",
       " '\\xe4': 143,\n",
       " '\\xe5': 145,\n",
       " '\\xe6': 141,\n",
       " '\\xe7': 150,\n",
       " '\\xe8': 153,\n",
       " '\\xe9': 103,\n",
       " '\\xea': 183,\n",
       " '\\xeb': 180,\n",
       " '\\xec': 184,\n",
       " '\\xed': 182,\n",
       " '\\xee': 200,\n",
       " '\\xef': 107,\n",
       " '\\xf0': 210,\n",
       " '\\xf1': 206,\n",
       " '\\xf2': 205,\n",
       " '\\xf3': 209}"
      ]
     },
     "execution_count": 99,
     "metadata": {},
     "output_type": "execute_result"
    }
   ],
   "source": [
    "vocab"
   ]
  },
  {
   "cell_type": "code",
   "execution_count": 120,
   "metadata": {},
   "outputs": [],
   "source": [
    "def getFiles(path):\n",
    "    matrix = []\n",
    "    for p in path:\n",
    "        tmp = np.zeros((50, 10), dtype = int)\n",
    "        f = open(p)\n",
    "        for i in range(0,50):\n",
    "            for j in range(0, 10):\n",
    "                tmp[i][j] = vocab[f.read(1)]\n",
    "        matrix.append(tmp)\n",
    "    return np.array(matrix)"
   ]
  },
  {
   "cell_type": "code",
   "execution_count": 122,
   "metadata": {},
   "outputs": [
    {
     "data": {
      "text/plain": [
       "(1, 50, 10)"
      ]
     },
     "execution_count": 122,
     "metadata": {},
     "output_type": "execute_result"
    }
   ],
   "source": [
    "getFiles(['/home/hamza/Documents/SRP/Code-Attribution-abdullah/data17/0bstacle/main0.cpp']).shape\n"
   ]
  },
  {
   "cell_type": "code",
   "execution_count": 102,
   "metadata": {},
   "outputs": [],
   "source": [
    "num_classes = len(outputvar)\n",
    "input_shape = (50, 10)\n",
    "def data_generator(file_paths, author_numbers, batch_size = 1000):\n",
    "    batch_start = 0\n",
    "    batch_end = batch_start + batch_size\n",
    "    n = images_paths.shape[0]\n",
    "    indexes = np.arange(0, n, batch_size)\n",
    "    if n % batch_size != 0:\n",
    "        indexes = indexes[:-1] \n",
    "    while True:\n",
    "        np.random.shuffle(indexes)\n",
    "        for ind in indexes:\n",
    "            batch_start = ind\n",
    "            batch_end = batch_start + batch_size\n",
    "            myFiles = file_paths[batch_start:batch_end]\n",
    "            batch_files = getFiles(myFiles)\n",
    "            batch_authors = author_numbers[batch_start:batch_end]\n",
    "            batch_x = np.zeros((batch_size, 50, 10))\n",
    "            batch_y = np.zeros((batch_size, num_classes))\n",
    "            batch_x = np.array( batch_files )\n",
    "            batch_y = np.array( batch_authors )\n",
    "            yield( batch_x, batch_y )"
   ]
  },
  {
   "cell_type": "code",
   "execution_count": null,
   "metadata": {},
   "outputs": [],
   "source": []
  }
 ],
 "metadata": {
  "kernelspec": {
   "display_name": "Python 2",
   "language": "python",
   "name": "python2"
  },
  "language_info": {
   "codemirror_mode": {
    "name": "ipython",
    "version": 3
   },
   "file_extension": ".py",
   "mimetype": "text/x-python",
   "name": "python",
   "nbconvert_exporter": "python",
   "pygments_lexer": "ipython3",
   "version": "3.6.8"
  }
 },
 "nbformat": 4,
 "nbformat_minor": 2
}
