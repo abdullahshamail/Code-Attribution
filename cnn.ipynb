{
 "cells": [
  {
   "cell_type": "code",
   "execution_count": 1,
   "metadata": {
    "colab": {
     "base_uri": "https://localhost:8080/",
     "height": 127
    },
    "colab_type": "code",
    "id": "g-TfbdZW1oZ4",
    "outputId": "0f151a02-541e-416a-90ec-0ba3bf4fe414"
   },
   "outputs": [
    {
     "name": "stdout",
     "output_type": "stream",
     "text": [
      "Go to this URL in a browser: https://accounts.google.com/o/oauth2/auth?client_id=947318989803-6bn6qk8qdgf4n4g3pfee6491hc0brc4i.apps.googleusercontent.com&redirect_uri=urn%3Aietf%3Awg%3Aoauth%3A2.0%3Aoob&scope=email%20https%3A%2F%2Fwww.googleapis.com%2Fauth%2Fdocs.test%20https%3A%2F%2Fwww.googleapis.com%2Fauth%2Fdrive%20https%3A%2F%2Fwww.googleapis.com%2Fauth%2Fdrive.photos.readonly%20https%3A%2F%2Fwww.googleapis.com%2Fauth%2Fpeopleapi.readonly&response_type=code\n",
      "\n",
      "Enter your authorization code:\n",
      "··········\n",
      "Mounted at /content/drive\n"
     ]
    }
   ],
   "source": [
    "from google.colab import drive\n",
    "drive.mount('/content/drive')"
   ]
  },
  {
   "cell_type": "code",
   "execution_count": 0,
   "metadata": {
    "colab": {},
    "colab_type": "code",
    "id": "ovgUwyah0oTz"
   },
   "outputs": [],
   "source": [
    "pathdata17zip = '/content/drive/My Drive/Code_Attribution/data17.zip'"
   ]
  },
  {
   "cell_type": "code",
   "execution_count": 0,
   "metadata": {
    "colab": {},
    "colab_type": "code",
    "id": "xl-lfLGJ2D1u"
   },
   "outputs": [],
   "source": [
    "import zipfile\n",
    "zip_ref = zipfile.ZipFile(pathdata17zip, 'r')\n",
    "zip_ref.extractall(\"/tmp\")\n",
    "zip_ref.close()"
   ]
  },
  {
   "cell_type": "code",
   "execution_count": 0,
   "metadata": {
    "colab": {},
    "colab_type": "code",
    "id": "iBJtygutKLX9"
   },
   "outputs": [],
   "source": [
    "datasetPath = '/tmp/data17'"
   ]
  },
  {
   "cell_type": "code",
   "execution_count": 5,
   "metadata": {
    "colab": {
     "base_uri": "https://localhost:8080/",
     "height": 35
    },
    "colab_type": "code",
    "id": "Pt99DOyjK6rX",
    "outputId": "89b4f231-9e11-413a-9097-8307d3791c53"
   },
   "outputs": [
    {
     "name": "stderr",
     "output_type": "stream",
     "text": [
      "Using TensorFlow backend.\n"
     ]
    }
   ],
   "source": [
    "from keras.layers import Input, Dense, Conv1D, MaxPooling1D, Flatten\n",
    "from keras.optimizers import Adam\n",
    "from keras.callbacks import ModelCheckpoint, EarlyStopping, CSVLogger, ReduceLROnPlateau, TensorBoard\n",
    "from keras.models import Model\n",
    "import keras.backend as K"
   ]
  },
  {
   "cell_type": "code",
   "execution_count": 0,
   "metadata": {
    "colab": {},
    "colab_type": "code",
    "id": "djcAtjNFK7HD"
   },
   "outputs": [],
   "source": [
    "import os\n",
    "\n",
    "path = datasetPath\n",
    "\n",
    "files = []\n",
    "# r=root, d=directories, f = files\n",
    "for r, d, f in os.walk(path):\n",
    "    for file in f:\n",
    "        if '.cpp' in file:\n",
    "            files.append(os.path.join(r, file))\n",
    "\n",
    "# for f in files:\n",
    "#     print(f)"
   ]
  },
  {
   "cell_type": "code",
   "execution_count": 7,
   "metadata": {
    "colab": {
     "base_uri": "https://localhost:8080/",
     "height": 35
    },
    "colab_type": "code",
    "id": "PY8Gz0AYK_ka",
    "outputId": "667b22a6-6f9d-4269-c840-9fc5f03bc962"
   },
   "outputs": [
    {
     "data": {
      "text/plain": [
       "56837"
      ]
     },
     "execution_count": 7,
     "metadata": {
      "tags": []
     },
     "output_type": "execute_result"
    }
   ],
   "source": [
    "len(files)"
   ]
  },
  {
   "cell_type": "code",
   "execution_count": 0,
   "metadata": {
    "colab": {},
    "colab_type": "code",
    "id": "l_63WP1qLXBv"
   },
   "outputs": [],
   "source": [
    "lengths = []\n",
    "minLength = 2000"
   ]
  },
  {
   "cell_type": "code",
   "execution_count": 0,
   "metadata": {
    "colab": {},
    "colab_type": "code",
    "id": "R75vexTPLYNY"
   },
   "outputs": [],
   "source": [
    "def padding(fname):\n",
    "    f = open(fname, \"r\")\n",
    "    y = f.read()\n",
    "    f.close()\n",
    "    \n",
    "    origy = y\n",
    "    while (len(y) < minLength):\n",
    "        y += origy\n",
    "        \n",
    "    f = open(fname, \"w\")\n",
    "    f.write(y)\n",
    "    f.close()\n",
    "    return y"
   ]
  },
  {
   "cell_type": "code",
   "execution_count": 0,
   "metadata": {
    "colab": {},
    "colab_type": "code",
    "id": "KZt9LVSgKUVJ"
   },
   "outputs": [],
   "source": [
    "def rem_dir(path):\n",
    "  for r, d, f in os.walk(path):\n",
    "    for fil in f:\n",
    "      if fil in files:\n",
    "        files.remove(os.path.join(r, fil))"
   ]
  },
  {
   "cell_type": "code",
   "execution_count": 0,
   "metadata": {
    "colab": {},
    "colab_type": "code",
    "id": "SDm8B29kLBGB"
   },
   "outputs": [],
   "source": [
    "outputvar = {}\n",
    "counter = [0]"
   ]
  },
  {
   "cell_type": "code",
   "execution_count": 0,
   "metadata": {
    "colab": {},
    "colab_type": "code",
    "id": "N73YJAbwjCqs"
   },
   "outputs": [],
   "source": [
    "def makeInOut(path, _len, counter):\n",
    "  count = 0\n",
    "  for r, d, f in os.walk(path):\n",
    "    name = r.split('/')[-1]\n",
    "    for fil in f:\n",
    "      _fil = os.path.join(r, fil)\n",
    "      if name not in outputvar.keys():\n",
    "        outputvar[name] = counter[0]\n",
    "        counter[0] += 1\n",
    "      if _fil in files:\n",
    "        if count < (0.8*_len):\n",
    "          if count < (0.2*_len):\n",
    "            x_val.append(_fil)\n",
    "            y_val.append(outputvar[name])\n",
    "          else:\n",
    "            x_train.append(_fil)\n",
    "            y_train.append(outputvar[name])\n",
    "          count += 1\n",
    "        else:\n",
    "          x_test.append(_fil)\n",
    "          y_test.append(outputvar[name])"
   ]
  },
  {
   "cell_type": "code",
   "execution_count": 0,
   "metadata": {
    "colab": {},
    "colab_type": "code",
    "id": "gmubV4g1mFoY"
   },
   "outputs": [],
   "source": [
    "x_train = []\n",
    "x_test = []\n",
    "y_train = []\n",
    "y_test = []\n",
    "x_val = []\n",
    "y_val = []\n",
    "split = 0.8"
   ]
  },
  {
   "cell_type": "code",
   "execution_count": 14,
   "metadata": {
    "colab": {
     "base_uri": "https://localhost:8080/",
     "height": 71
    },
    "colab_type": "code",
    "id": "9wD93wGYLZrm",
    "outputId": "a53d3c7f-b32f-4fa3-f196-0924d178e352"
   },
   "outputs": [
    {
     "name": "stdout",
     "output_type": "stream",
     "text": [
      "0\n",
      "1\n",
      "2\n"
     ]
    }
   ],
   "source": [
    "for i in range(0,3):\n",
    "    print(i)\n",
    "    lengths = []\n",
    "    count = 0\n",
    "    for fil in files:\n",
    "        f = open(fil, \"r\")\n",
    "        x = f.read()\n",
    "        y = x.split()\n",
    "        f.close()\n",
    "        if(len(x) <= 100):\n",
    "            files.remove(fil)\n",
    "        elif len(x) == 0:\n",
    "            files.remove(fil)\n",
    "        elif(len(y) < minLength):\n",
    "            x = padding(fil)\n",
    "            lengths.append(len(x))\n",
    "        else:\n",
    "            lengths.append(len(x))\n"
   ]
  },
  {
   "cell_type": "code",
   "execution_count": 0,
   "metadata": {
    "colab": {},
    "colab_type": "code",
    "id": "gDKRvqxVmIDs"
   },
   "outputs": [],
   "source": [
    "def check(path, counter):\n",
    "  for r, d, f in os.walk(path):\n",
    "    _len = len(f)\n",
    "    if _len < 5:\n",
    "      rem_dir(path)\n",
    "    else:\n",
    "      makeInOut(path, _len, counter)"
   ]
  },
  {
   "cell_type": "code",
   "execution_count": 0,
   "metadata": {
    "colab": {},
    "colab_type": "code",
    "id": "KLUwCBStSjqM"
   },
   "outputs": [],
   "source": [
    "for r, d, f in os.walk(datasetPath):\n",
    "  for di in d:\n",
    "    check(os.path.join(r, di), counter)"
   ]
  },
  {
   "cell_type": "code",
   "execution_count": 17,
   "metadata": {
    "colab": {
     "base_uri": "https://localhost:8080/",
     "height": 71
    },
    "colab_type": "code",
    "id": "pw1epmAImJWi",
    "outputId": "b1c3c40d-b3a1-474f-c315-9947aa9ea42a"
   },
   "outputs": [
    {
     "name": "stdout",
     "output_type": "stream",
     "text": [
      "5065\n",
      "[5065]\n",
      "5065\n"
     ]
    }
   ],
   "source": [
    "_check = []\n",
    "for x in y_train:\n",
    "  if x not in _check:\n",
    "    _check.append(x)\n",
    "print(len(_check))\n",
    "print(counter)\n",
    "print(len(outputvar))"
   ]
  },
  {
   "cell_type": "code",
   "execution_count": 18,
   "metadata": {
    "colab": {
     "base_uri": "https://localhost:8080/",
     "height": 35
    },
    "colab_type": "code",
    "id": "SdD6Zq9QUPFR",
    "outputId": "6370fe80-1c41-4736-e325-e9e9ad5c3394"
   },
   "outputs": [
    {
     "data": {
      "text/plain": [
       "56808"
      ]
     },
     "execution_count": 18,
     "metadata": {
      "tags": []
     },
     "output_type": "execute_result"
    }
   ],
   "source": [
    "len(files)"
   ]
  },
  {
   "cell_type": "code",
   "execution_count": 19,
   "metadata": {
    "colab": {
     "base_uri": "https://localhost:8080/",
     "height": 89
    },
    "colab_type": "code",
    "id": "2zFjDbOTLbPq",
    "outputId": "8abcd95c-8ddb-49ac-fc5f-1c692691b4ca"
   },
   "outputs": [
    {
     "name": "stdout",
     "output_type": "stream",
     "text": [
      "95319\n",
      "2000\n",
      "56808\n",
      "56808\n"
     ]
    }
   ],
   "source": [
    "print(max(lengths))\n",
    "print(min(lengths))\n",
    "print(len(lengths))\n",
    "print(len(files))"
   ]
  },
  {
   "cell_type": "code",
   "execution_count": 20,
   "metadata": {
    "colab": {
     "base_uri": "https://localhost:8080/",
     "height": 145
    },
    "colab_type": "code",
    "id": "FVsjz7BSmG8Q",
    "outputId": "3cafd852-df7b-4014-bd2a-8b98c45104d1"
   },
   "outputs": [
    {
     "name": "stdout",
     "output_type": "stream",
     "text": [
      "['/tmp/data17/JohnSmith/b0.cpp', '/tmp/data17/JohnSmith/a0.cpp', '/tmp/data17/JohnSmith/a1.cpp', '/tmp/data17/JohnSmith/c1.cpp', '/tmp/data17/JohnSmith/b10.cpp', '/tmp/data17/JohnSmith/b1.cpp', '/tmp/data17/simonlindholm/stalls2.cpp', '/tmp/data17/simonlindholm/fashion0.cpp', '/tmp/data17/simonlindholm/fashion1.cpp', '/tmp/data17/simonlindholm/shoot1.cpp', '/tmp/data17/simonlindholm/beam1.cpp', '/tmp/data17/simonlindholm/mountain1.cpp', '/tmp/data17/simonlindholm/cruise1.cpp', '/tmp/data17/simonlindholm/stable0.cpp', '/tmp/data17/simonlindholm/fresh1.cpp', '/tmp/data17/simonlindholm/pony1.cpp', '/tmp/data17/simonlindholm/stalls1.cpp', '/tmp/data17/simonlindholm/stacks0.cpp', '/tmp/data17/simonlindholm/pancakes1.cpp', '/tmp/data17/simonlindholm/dice1.cpp']\n",
      "['/tmp/data17/JohnSmith/c2.cpp', '/tmp/data17/simonlindholm/dice0.cpp', '/tmp/data17/simonlindholm/tidy1.cpp', '/tmp/data17/simonlindholm/stalls0.cpp', '/tmp/data17/simonlindholm/shoot0.cpp', '/tmp/data17/simonlindholm/news1.cpp', '/tmp/data17/simonlindholm/pony0.cpp', '/tmp/data17/DoubleO/tidynumbers0.cpp', '/tmp/data17/xBorox1/31.cpp', '/tmp/data17/S...F/large-google_code_jam-Problem A- Oversized Pancake Flipper1.cpp']\n",
      "[0, 0, 0, 0, 0, 0, 1, 1, 1, 1, 1, 1, 1, 1, 1, 1, 1, 1, 1, 1, 1, 1, 1, 1, 1, 2, 2, 2, 3, 3]\n",
      "[0, 1, 1, 1, 1, 1, 1, 2, 3, 4]\n",
      "['/tmp/data17/JohnSmith/b11.cpp', '/tmp/data17/JohnSmith/c0.cpp', '/tmp/data17/simonlindholm/cruise0.cpp', '/tmp/data17/simonlindholm/mountain0.cpp', '/tmp/data17/simonlindholm/beam0.cpp', '/tmp/data17/simonlindholm/tidy0.cpp', '/tmp/data17/simonlindholm/googlements1.cpp', '/tmp/data17/simonlindholm/fresh0.cpp', '/tmp/data17/simonlindholm/stable1.cpp', '/tmp/data17/DoubleO/tidynumbers1.cpp']\n",
      "[0, 0, 1, 1, 1, 1, 1, 1, 1, 2]\n"
     ]
    }
   ],
   "source": [
    "print(x_train[:20])\n",
    "print(x_test[:10])\n",
    "print(y_train[:30])\n",
    "print(y_test[:10])\n",
    "print(x_val[:10])\n",
    "print(y_val[:10])"
   ]
  },
  {
   "cell_type": "code",
   "execution_count": 0,
   "metadata": {
    "colab": {},
    "colab_type": "code",
    "id": "KGofI9zaLdk4"
   },
   "outputs": [],
   "source": [
    "import numpy as np"
   ]
  },
  {
   "cell_type": "code",
   "execution_count": 0,
   "metadata": {
    "colab": {},
    "colab_type": "code",
    "id": "U8i7EoXCnIcy"
   },
   "outputs": [],
   "source": [
    "x_train = np.array(x_train)\n",
    "x_test = np.array(x_test)\n",
    "x_val = np.array(x_val)\n",
    "y_train = np.array(y_train)\n",
    "y_test = np.array(y_test)\n",
    "y_val = np.array(y_val)"
   ]
  },
  {
   "cell_type": "code",
   "execution_count": 24,
   "metadata": {
    "colab": {
     "base_uri": "https://localhost:8080/",
     "height": 503
    },
    "colab_type": "code",
    "id": "Ek-Gcmuu5pkx",
    "outputId": "e95430fd-6901-449f-e4f3-3e53ec3519ac"
   },
   "outputs": [
    {
     "name": "stdout",
     "output_type": "stream",
     "text": [
      "['/tmp/data17/goryudyuma/main (2)0.cpp' '/tmp/data17/shopnobaj/A0.cpp'\n",
      " '/tmp/data17/mingcl/roller1.cpp' '/tmp/data17/vova/main_middle1.cpp'\n",
      " '/tmp/data17/yashkumar18/solution11.cpp' '/tmp/data17/Stun/a1.cpp'\n",
      " '/tmp/data17/natufunu/C1.cpp' '/tmp/data17/ayushj1201/Cj32.cpp'\n",
      " '/tmp/data17/harababurel/brut0.cpp' '/tmp/data17/Galieve/A_c1.cpp'\n",
      " '/tmp/data17/maopao/A0.cpp'\n",
      " '/tmp/data17/kawaiigabrielneko/rollercoaster0.cpp'\n",
      " '/tmp/data17/jeremy624/Untitled30.cpp' '/tmp/data17/sonlh07/C_op0.cpp'\n",
      " '/tmp/data17/krodhking/D0.cpp' '/tmp/data17/Lightmoon/B1.cpp'\n",
      " '/tmp/data17/Frost./CC0.cpp' '/tmp/data17/shubh.400076/tidy1.cpp'\n",
      " '/tmp/data17/failedcoder/20171bA0.cpp' '/tmp/data17/kakalan/pA0.cpp']\n",
      "['/tmp/data17/Jaesung/1BB1.cpp' '/tmp/data17/threat/C20.cpp'\n",
      " '/tmp/data17/Miceren/C0.cpp'\n",
      " '/tmp/data17/quynhtruong1304/OversizedPancakeFlipper0.cpp'\n",
      " '/tmp/data17/bshankar/C0.cpp' '/tmp/data17/nemkin/af1.cpp'\n",
      " '/tmp/data17/sgyang/b1.cpp' '/tmp/data17/infinity1/B_small0.cpp'\n",
      " '/tmp/data17/Xenoframium/main0.cpp' '/tmp/data17/azhai/C0.cpp']\n",
      "[1558 3962 2800 1366 1514 3848  667 1018 3703 1420 3425 2386 1015 3938\n",
      " 1169 2744 4247 1275  393 3965  666 1181  184 1572 1775  946 2974 2509\n",
      " 4996 1404]\n",
      "[ 688 1453  554 2557 2990 1064  938 3583  275  525]\n",
      "['/tmp/data17/jasonvictoryan/30.cpp' '/tmp/data17/vishalkr07/10.cpp'\n",
      " '/tmp/data17/KeyID/Bathroom_Stalls2.cpp' '/tmp/data17/sidhant/B0.cpp'\n",
      " '/tmp/data17/s.a.k/cj10.cpp' '/tmp/data17/AlexDinaro/R1A_B1.cpp'\n",
      " '/tmp/data17/coderBation/copy1.cpp' '/tmp/data17/scottwu/A2.cpp'\n",
      " '/tmp/data17/Shining/p20.cpp' '/tmp/data17/darkhh/Bs0.cpp']\n",
      "[ 147 1478 4602 2357 1461  204 2683  208  678 1168]\n"
     ]
    }
   ],
   "source": [
    "indices = np.arange(x_train.shape[0])\n",
    "np.random.shuffle(indices)\n",
    "x_train = x_train[indices]\n",
    "y_train = y_train[indices]\n",
    "\n",
    "indices = np.arange(x_test.shape[0])\n",
    "np.random.shuffle(indices)\n",
    "x_test = x_test[indices]\n",
    "y_test = y_test[indices]\n",
    "\n",
    "indices = np.arange(x_val.shape[0])\n",
    "np.random.shuffle(indices)\n",
    "x_val = x_val[indices]\n",
    "y_val = y_val[indices]\n",
    "\n",
    "print(x_train[:20])\n",
    "print(x_test[:10])\n",
    "print(y_train[:30])\n",
    "print(y_test[:10])\n",
    "print(x_val[:10])\n",
    "print(y_val[:10])"
   ]
  },
  {
   "cell_type": "code",
   "execution_count": 0,
   "metadata": {
    "colab": {},
    "colab_type": "code",
    "id": "iRsaq9oPLmII"
   },
   "outputs": [],
   "source": [
    "def walk(path, vocab, count):\n",
    "    for r, d, f in os.walk(path):\n",
    "        for file in f:\n",
    "            f = open(os.path.join(r, file))\n",
    "            x = f.read()\n",
    "            for line in x:\n",
    "                for letter in line:\n",
    "                    if letter not in vocab.keys():\n",
    "                        vocab[letter] = count[0]\n",
    "                        count[0] += 1\n"
   ]
  },
  {
   "cell_type": "code",
   "execution_count": 26,
   "metadata": {
    "colab": {
     "base_uri": "https://localhost:8080/",
     "height": 35
    },
    "colab_type": "code",
    "id": "KSJWfWJjLoMz",
    "outputId": "f1bee7d9-e2e5-4f94-9f26-b1c8697e9ae2"
   },
   "outputs": [
    {
     "name": "stdout",
     "output_type": "stream",
     "text": [
      "[1468]\n"
     ]
    }
   ],
   "source": [
    "vocab = {}\n",
    "count = [0]\n",
    "path = datasetPath\n",
    "for r, d, f, in (os.walk(path)):\n",
    "    for i, dir in enumerate(d):\n",
    "        walk(os.path.join(r, dir), vocab, count)\n",
    "print(count)"
   ]
  },
  {
   "cell_type": "code",
   "execution_count": 27,
   "metadata": {
    "colab": {
     "base_uri": "https://localhost:8080/",
     "height": 215
    },
    "colab_type": "code",
    "id": "Hjb7bwV9TT2j",
    "outputId": "9b9a42ed-2a68-4028-e0df-58cd93d639ee"
   },
   "outputs": [
    {
     "name": "stdout",
     "output_type": "stream",
     "text": [
      "/\n",
      "\n",
      "\n",
      " \n",
      "g\n",
      "o\n",
      "l\n",
      "e\n",
      "c\n",
      "d\n",
      "j\n"
     ]
    }
   ],
   "source": [
    "i = 0\n",
    "for word in vocab.keys():\n",
    "  print(word)\n",
    "  i += 1\n",
    "  if i >= 10:\n",
    "    break"
   ]
  },
  {
   "cell_type": "code",
   "execution_count": 0,
   "metadata": {
    "colab": {},
    "colab_type": "code",
    "id": "1fxmJ-vaLpsJ"
   },
   "outputs": [],
   "source": [
    "def getFiles(path):\n",
    "    matrix = []\n",
    "    for p in path:\n",
    "        tmp = np.zeros((50, 40), dtype = int)\n",
    "        f = open(p)\n",
    "        for i in range(0,50):\n",
    "            for j in range(0, 40):\n",
    "                tmp[i][j] = vocab[f.read(1)]\n",
    "        matrix.append(tmp)\n",
    "    return np.array(matrix)"
   ]
  },
  {
   "cell_type": "code",
   "execution_count": 0,
   "metadata": {
    "colab": {},
    "colab_type": "code",
    "id": "dAebkRzpMbXy"
   },
   "outputs": [],
   "source": [
    "num_classes = len(outputvar)\n",
    "input_shape = (50, 40)\n",
    "batch_size = 1024\n",
    "def data_generator(file_paths, author_numbers):\n",
    "    batch_start = 0\n",
    "    batch_end = batch_start + batch_size\n",
    "    n = file_paths.shape[0]\n",
    "    indexes = np.arange(0, n, batch_size)\n",
    "    if n % batch_size != 0:\n",
    "        indexes = indexes[:-1] \n",
    "    while True:\n",
    "        np.random.shuffle(indexes)\n",
    "        for ind in indexes:\n",
    "            batch_start = ind\n",
    "            batch_end = batch_start + batch_size\n",
    "            myFiles = file_paths[batch_start:batch_end]\n",
    "            batch_files = getFiles(myFiles)\n",
    "            batch_authors = author_numbers[batch_start:batch_end]\n",
    "            batch_x = np.zeros((batch_size, 50, 40))\n",
    "            tmp = np.zeros((batch_size, num_classes))\n",
    "            batch_x = np.array( batch_files )\n",
    "            for i, j in enumerate(batch_authors):\n",
    "                tmp[i][j] = 1\n",
    "            batch_y = np.array( tmp )\n",
    "            yield( batch_x, batch_y )"
   ]
  },
  {
   "cell_type": "code",
   "execution_count": 30,
   "metadata": {
    "colab": {
     "base_uri": "https://localhost:8080/",
     "height": 199
    },
    "colab_type": "code",
    "id": "hi1Doc0HMd0h",
    "outputId": "2663599c-652b-4f29-c8f1-dfe7d6c609f2"
   },
   "outputs": [
    {
     "name": "stderr",
     "output_type": "stream",
     "text": [
      "WARNING: Logging before flag parsing goes to stderr.\n",
      "W0726 10:57:45.534170 140631057315712 deprecation_wrapper.py:119] From /usr/local/lib/python3.6/dist-packages/keras/backend/tensorflow_backend.py:517: The name tf.placeholder is deprecated. Please use tf.compat.v1.placeholder instead.\n",
      "\n",
      "W0726 10:57:45.575175 140631057315712 deprecation_wrapper.py:119] From /usr/local/lib/python3.6/dist-packages/keras/backend/tensorflow_backend.py:74: The name tf.get_default_graph is deprecated. Please use tf.compat.v1.get_default_graph instead.\n",
      "\n",
      "W0726 10:57:45.576699 140631057315712 deprecation_wrapper.py:119] From /usr/local/lib/python3.6/dist-packages/keras/backend/tensorflow_backend.py:4138: The name tf.random_uniform is deprecated. Please use tf.random.uniform instead.\n",
      "\n",
      "W0726 10:57:45.615293 140631057315712 deprecation_wrapper.py:119] From /usr/local/lib/python3.6/dist-packages/keras/backend/tensorflow_backend.py:3976: The name tf.nn.max_pool is deprecated. Please use tf.nn.max_pool2d instead.\n",
      "\n"
     ]
    }
   ],
   "source": [
    "input_fil = Input(shape=(input_shape), name='input_fil')\n",
    "conv = Conv1D(64, kernel_size=7, strides = 2,  activation='relu')(input_fil)\n",
    "maxP = MaxPooling1D()(conv)\n",
    "flat = Flatten()(maxP)\n",
    "output_class = Dense(num_classes, activation='softmax')(flat)\n",
    "\n",
    "model = Model(inputs=input_fil, outputs=output_class)"
   ]
  },
  {
   "cell_type": "code",
   "execution_count": 31,
   "metadata": {
    "colab": {
     "base_uri": "https://localhost:8080/",
     "height": 415
    },
    "colab_type": "code",
    "id": "c97O2SzLMfOv",
    "outputId": "5b7ead5a-5773-4343-f23d-843026519e7d"
   },
   "outputs": [
    {
     "name": "stderr",
     "output_type": "stream",
     "text": [
      "W0726 10:57:45.673683 140631057315712 deprecation_wrapper.py:119] From /usr/local/lib/python3.6/dist-packages/keras/optimizers.py:790: The name tf.train.Optimizer is deprecated. Please use tf.compat.v1.train.Optimizer instead.\n",
      "\n",
      "W0726 10:57:45.682445 140631057315712 deprecation_wrapper.py:119] From /usr/local/lib/python3.6/dist-packages/keras/backend/tensorflow_backend.py:3295: The name tf.log is deprecated. Please use tf.math.log instead.\n",
      "\n"
     ]
    },
    {
     "name": "stdout",
     "output_type": "stream",
     "text": [
      "_________________________________________________________________\n",
      "Layer (type)                 Output Shape              Param #   \n",
      "=================================================================\n",
      "input_fil (InputLayer)       (None, 50, 40)            0         \n",
      "_________________________________________________________________\n",
      "conv1d_1 (Conv1D)            (None, 22, 64)            17984     \n",
      "_________________________________________________________________\n",
      "max_pooling1d_1 (MaxPooling1 (None, 11, 64)            0         \n",
      "_________________________________________________________________\n",
      "flatten_1 (Flatten)          (None, 704)               0         \n",
      "_________________________________________________________________\n",
      "dense_1 (Dense)              (None, 5065)              3570825   \n",
      "=================================================================\n",
      "Total params: 3,588,809\n",
      "Trainable params: 3,588,809\n",
      "Non-trainable params: 0\n",
      "_________________________________________________________________\n"
     ]
    }
   ],
   "source": [
    "adam = Adam(lr=0.001)\n",
    "model.compile(loss='categorical_crossentropy', \n",
    "              optimizer=adam, \n",
    "              metrics=['accuracy'])\n",
    "\n",
    "model.summary()"
   ]
  },
  {
   "cell_type": "code",
   "execution_count": 0,
   "metadata": {
    "colab": {},
    "colab_type": "code",
    "id": "2Ch6PagFMpSb"
   },
   "outputs": [],
   "source": [
    "train_gen = data_generator(x_train, y_train)\n",
    "test_gen = data_generator(x_test, y_test)\n",
    "val_gen = data_generator(x_val, y_val)"
   ]
  },
  {
   "cell_type": "code",
   "execution_count": 33,
   "metadata": {
    "colab": {
     "base_uri": "https://localhost:8080/",
     "height": 487
    },
    "colab_type": "code",
    "id": "dkgZm9lNMqrV",
    "outputId": "d9127b62-b002-4b35-bad4-2fdfe8a2cf77"
   },
   "outputs": [
    {
     "name": "stderr",
     "output_type": "stream",
     "text": [
      "W0726 10:57:45.826838 140631057315712 deprecation.py:323] From /usr/local/lib/python3.6/dist-packages/tensorflow/python/ops/math_grad.py:1250: add_dispatch_support.<locals>.wrapper (from tensorflow.python.ops.array_ops) is deprecated and will be removed in a future version.\n",
      "Instructions for updating:\n",
      "Use tf.where in 2.0, which has the same broadcast rule as np.where\n",
      "W0726 10:57:45.897816 140631057315712 deprecation_wrapper.py:119] From /usr/local/lib/python3.6/dist-packages/keras/backend/tensorflow_backend.py:986: The name tf.assign_add is deprecated. Please use tf.compat.v1.assign_add instead.\n",
      "\n"
     ]
    },
    {
     "name": "stdout",
     "output_type": "stream",
     "text": [
      "Epoch 1/10\n",
      "23/23 [==============================] - 42s 2s/step - loss: 13.4789 - acc: 7.2181e-04 - val_loss: 8.5707 - val_acc: 9.7656e-04\n",
      "Epoch 2/10\n",
      "23/23 [==============================] - 35s 2s/step - loss: 8.5436 - acc: 0.0022 - val_loss: 8.5562 - val_acc: 0.0020\n",
      "Epoch 3/10\n",
      "23/23 [==============================] - 36s 2s/step - loss: 8.3935 - acc: 0.0087 - val_loss: 8.3922 - val_acc: 0.0068\n",
      "Epoch 4/10\n",
      "23/23 [==============================] - 36s 2s/step - loss: 7.4437 - acc: 0.0390 - val_loss: 7.9652 - val_acc: 0.0459\n",
      "Epoch 5/10\n",
      "23/23 [==============================] - 36s 2s/step - loss: 5.2969 - acc: 0.2184 - val_loss: 7.2202 - val_acc: 0.1851\n",
      "Epoch 6/10\n",
      "23/23 [==============================] - 36s 2s/step - loss: 2.6038 - acc: 0.5529 - val_loss: 6.6371 - val_acc: 0.3661\n",
      "Epoch 7/10\n",
      "23/23 [==============================] - 36s 2s/step - loss: 1.0260 - acc: 0.8049 - val_loss: 6.6630 - val_acc: 0.4405\n",
      "Epoch 8/10\n",
      "23/23 [==============================] - 35s 2s/step - loss: 0.4758 - acc: 0.9128 - val_loss: 6.5839 - val_acc: 0.4921\n",
      "Epoch 9/10\n",
      "23/23 [==============================] - 35s 2s/step - loss: 0.2119 - acc: 0.9663 - val_loss: 6.6200 - val_acc: 0.5101\n",
      "Epoch 10/10\n",
      "23/23 [==============================] - 35s 2s/step - loss: 0.1143 - acc: 0.9871 - val_loss: 6.7349 - val_acc: 0.5137\n"
     ]
    }
   ],
   "source": [
    "hist1 = model.fit_generator(train_gen, epochs=10, steps_per_epoch=len(y_train)//batch_size, \n",
    "                           validation_data=val_gen, validation_steps=len(y_val)//batch_size, verbose=1)"
   ]
  },
  {
   "cell_type": "code",
   "execution_count": 35,
   "metadata": {
    "colab": {
     "base_uri": "https://localhost:8080/",
     "height": 35
    },
    "colab_type": "code",
    "id": "RaaW6UWtMr7Q",
    "outputId": "2c1203c8-e51a-40ae-c6ed-714ee362fa0f"
   },
   "outputs": [
    {
     "name": "stdout",
     "output_type": "stream",
     "text": [
      "(6240, 50, 40)\n"
     ]
    }
   ],
   "source": [
    "xtestdata = getFiles(x_test)\n",
    "print(xtestdata.shape)"
   ]
  },
  {
   "cell_type": "code",
   "execution_count": 36,
   "metadata": {
    "colab": {
     "base_uri": "https://localhost:8080/",
     "height": 35
    },
    "colab_type": "code",
    "id": "8Xjg0GTaMv7z",
    "outputId": "861a8ddc-9ad2-4aea-f02d-8c9d05e1ef59"
   },
   "outputs": [
    {
     "name": "stdout",
     "output_type": "stream",
     "text": [
      "(6240, 5065)\n"
     ]
    }
   ],
   "source": [
    "preds = model.predict(xtestdata)\n",
    "print(preds.shape)"
   ]
  },
  {
   "cell_type": "code",
   "execution_count": 37,
   "metadata": {
    "colab": {
     "base_uri": "https://localhost:8080/",
     "height": 35
    },
    "colab_type": "code",
    "id": "CDD6JVXQMwJB",
    "outputId": "6ae30a01-5910-4f6f-a615-4beaf72c541c"
   },
   "outputs": [
    {
     "name": "stdout",
     "output_type": "stream",
     "text": [
      "(6240,)\n"
     ]
    }
   ],
   "source": [
    "myPreds = []\n",
    "for i in preds:\n",
    "    myPreds.append(np.argmax(i))\n",
    "myPreds = np.array(myPreds)\n",
    "print(myPreds.shape)"
   ]
  },
  {
   "cell_type": "code",
   "execution_count": 38,
   "metadata": {
    "colab": {
     "base_uri": "https://localhost:8080/",
     "height": 35
    },
    "colab_type": "code",
    "id": "LChoEVJGMwP4",
    "outputId": "d9f397ac-bec2-4ea0-d640-f12a407f3571"
   },
   "outputs": [
    {
     "name": "stdout",
     "output_type": "stream",
     "text": [
      "Accuracy 49.118589743589745\n"
     ]
    }
   ],
   "source": [
    "count = 0\n",
    "for i in range(myPreds.shape[0]):\n",
    "    if myPreds[i] == y_test[i]:\n",
    "        count += 1\n",
    "\n",
    "acc = (count / myPreds.shape[0]) * 100\n",
    "print(\"Accuracy\", acc)"
   ]
  },
  {
   "cell_type": "code",
   "execution_count": 0,
   "metadata": {
    "colab": {},
    "colab_type": "code",
    "id": "r-SRgYFBMwU3"
   },
   "outputs": [],
   "source": []
  }
 ],
 "metadata": {
  "accelerator": "GPU",
  "colab": {
   "collapsed_sections": [],
   "name": "cnn.ipynb",
   "provenance": [],
   "version": "0.3.2"
  },
  "kernelspec": {
   "display_name": "Python 3",
   "language": "python",
   "name": "python3"
  },
  "language_info": {
   "codemirror_mode": {
    "name": "ipython",
    "version": 3
   },
   "file_extension": ".py",
   "mimetype": "text/x-python",
   "name": "python",
   "nbconvert_exporter": "python",
   "pygments_lexer": "ipython3",
   "version": "3.6.8"
  }
 },
 "nbformat": 4,
 "nbformat_minor": 1
}
