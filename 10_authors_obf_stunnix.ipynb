{
  "nbformat": 4,
  "nbformat_minor": 0,
  "metadata": {
    "colab": {
      "name": "10_authors_obf.ipynb",
      "version": "0.3.2",
      "provenance": [],
      "collapsed_sections": []
    },
    "kernelspec": {
      "name": "python3",
      "display_name": "Python 3"
    }
  },
  "cells": [
    {
      "cell_type": "code",
      "metadata": {
        "id": "WNO9PdW2Fofa",
        "colab_type": "code",
        "colab": {}
      },
      "source": [
        "from google.colab import drive\n",
        "import zipfile\n",
        "from keras.layers import Input, Dense, Conv1D, MaxPooling1D, Flatten, Dropout\n",
        "from keras.optimizers import Adam\n",
        "from keras.callbacks import ModelCheckpoint, EarlyStopping, CSVLogger, ReduceLROnPlateau, TensorBoard\n",
        "from keras.models import Model\n",
        "from sklearn.model_selection import train_test_split\n",
        "import keras.backend as K\n",
        "import numpy as np\n",
        "import os\n",
        "import matplotlib.pyplot as plt\n",
        "from mlxtend.evaluate import confusion_matrix\n",
        "from mlxtend.plotting import plot_confusion_matrix\n",
        "from mlxtend.evaluate import confusion_matrix\n",
        "import pandas as pd"
      ],
      "execution_count": 0,
      "outputs": []
    },
    {
      "cell_type": "code",
      "metadata": {
        "id": "dFEPbKgbFdcY",
        "colab_type": "code",
        "outputId": "1f032164-a52b-4dfa-b0d4-a74d3c3b792e",
        "colab": {
          "base_uri": "https://localhost:8080/",
          "height": 34
        }
      },
      "source": [
        "drive.mount('/content/drive')"
      ],
      "execution_count": 33,
      "outputs": [
        {
          "output_type": "stream",
          "text": [
            "Drive already mounted at /content/drive; to attempt to forcibly remount, call drive.mount(\"/content/drive\", force_remount=True).\n"
          ],
          "name": "stdout"
        }
      ]
    },
    {
      "cell_type": "code",
      "metadata": {
        "id": "14UqAM2aFght",
        "colab_type": "code",
        "colab": {}
      },
      "source": [
        "pathdata17zip = '/content/drive/My Drive/data17.zip'"
      ],
      "execution_count": 0,
      "outputs": []
    },
    {
      "cell_type": "code",
      "metadata": {
        "id": "pE3e-ClvFk2v",
        "colab_type": "code",
        "colab": {}
      },
      "source": [
        "zip_ref = zipfile.ZipFile(pathdata17zip, 'r')\n",
        "zip_ref.extractall(\"/tmp\")\n",
        "zip_ref.close()"
      ],
      "execution_count": 0,
      "outputs": []
    },
    {
      "cell_type": "code",
      "metadata": {
        "id": "pBTH6xeLFm53",
        "colab_type": "code",
        "colab": {}
      },
      "source": [
        "datasetPath = '/tmp/data17'"
      ],
      "execution_count": 0,
      "outputs": []
    },
    {
      "cell_type": "code",
      "metadata": {
        "id": "Hq8BNg1UGANs",
        "colab_type": "code",
        "colab": {}
      },
      "source": [
        "lengths = []\n",
        "minLength = 2000"
      ],
      "execution_count": 0,
      "outputs": []
    },
    {
      "cell_type": "code",
      "metadata": {
        "id": "jocd6PgrG0md",
        "colab_type": "code",
        "colab": {}
      },
      "source": [
        "def padding(fname):\n",
        "    f = open(fname, \"r\")\n",
        "    y = f.read()\n",
        "    f.close()\n",
        "    \n",
        "    origy = y\n",
        "    while (len(y) < minLength):\n",
        "        y += origy\n",
        "        \n",
        "    f = open(fname, \"w\")\n",
        "    f.write(y)\n",
        "    f.close()\n",
        "    return y"
      ],
      "execution_count": 0,
      "outputs": []
    },
    {
      "cell_type": "code",
      "metadata": {
        "id": "TC-ja9YuG4k5",
        "colab_type": "code",
        "outputId": "e18cbee4-957b-4e05-d030-911d515bf9b7",
        "colab": {
          "base_uri": "https://localhost:8080/",
          "height": 71
        }
      },
      "source": [
        "top_10 = [0,0,0,0,0,0,0,0,0,0]\n",
        "top_dir = ['','','','','','','','','','']\n",
        "for r,d,f in os.walk(datasetPath):\n",
        "  for di in d:\n",
        "    for r1, d1, f1 in os.walk(os.path.join(r, di)):\n",
        "      _len = len(f1)\n",
        "      for i, ind in enumerate(top_10):\n",
        "        if _len > top_10[i]:\n",
        "          top_10[i] = _len\n",
        "          top_dir[i] = os.path.join(r, di)\n",
        "          break\n",
        "print(top_10)\n",
        "print(top_dir)\n",
        "names = []\n",
        "for auth in top_dir:\n",
        "  names.append(auth.split('/')[-1])"
      ],
      "execution_count": 39,
      "outputs": [
        {
          "output_type": "stream",
          "text": [
            "[32, 32, 25, 25, 25, 23, 22, 21, 21, 20]\n",
            "['/tmp/data17/simonlindholm', '/tmp/data17/Xellos', '/tmp/data17/kawaiigabrielneko', '/tmp/data17/kmjp', '/tmp/data17/ccsnoopy', '/tmp/data17/minaminao', '/tmp/data17/luki4824', '/tmp/data17/LEcry', '/tmp/data17/VAVAvile', '/tmp/data17/aan93']\n"
          ],
          "name": "stdout"
        }
      ]
    },
    {
      "cell_type": "code",
      "metadata": {
        "id": "bCmt86ivuqpF",
        "colab_type": "code",
        "outputId": "ea48870d-ee10-45be-ba55-1ba2e613a913",
        "colab": {
          "base_uri": "https://localhost:8080/",
          "height": 34
        }
      },
      "source": [
        "print(names)"
      ],
      "execution_count": 40,
      "outputs": [
        {
          "output_type": "stream",
          "text": [
            "['simonlindholm', 'Xellos', 'kawaiigabrielneko', 'kmjp', 'ccsnoopy', 'minaminao', 'luki4824', 'LEcry', 'VAVAvile', 'aan93']\n"
          ],
          "name": "stdout"
        }
      ]
    },
    {
      "cell_type": "code",
      "metadata": {
        "id": "GWzZKNBoJEhr",
        "colab_type": "code",
        "outputId": "289f0927-e117-4f2b-a5c1-70df674e8917",
        "colab": {
          "base_uri": "https://localhost:8080/",
          "height": 54
        }
      },
      "source": [
        "inp = []\n",
        "out = []\n",
        "count = 0\n",
        "for di in top_dir:\n",
        "  for r, d, f in os.walk(di):\n",
        "    for fil in f:\n",
        "      inp.append(os.path.join(r, fil))\n",
        "      out.append(count)\n",
        "  count += 1\n",
        "print(out)"
      ],
      "execution_count": 41,
      "outputs": [
        {
          "output_type": "stream",
          "text": [
            "[0, 0, 0, 0, 0, 0, 0, 0, 0, 0, 0, 0, 0, 0, 0, 0, 0, 0, 0, 0, 0, 0, 0, 0, 0, 0, 0, 0, 0, 0, 0, 0, 1, 1, 1, 1, 1, 1, 1, 1, 1, 1, 1, 1, 1, 1, 1, 1, 1, 1, 1, 1, 1, 1, 1, 1, 1, 1, 1, 1, 1, 1, 1, 1, 2, 2, 2, 2, 2, 2, 2, 2, 2, 2, 2, 2, 2, 2, 2, 2, 2, 2, 2, 2, 2, 2, 2, 2, 2, 3, 3, 3, 3, 3, 3, 3, 3, 3, 3, 3, 3, 3, 3, 3, 3, 3, 3, 3, 3, 3, 3, 3, 3, 3, 4, 4, 4, 4, 4, 4, 4, 4, 4, 4, 4, 4, 4, 4, 4, 4, 4, 4, 4, 4, 4, 4, 4, 4, 4, 5, 5, 5, 5, 5, 5, 5, 5, 5, 5, 5, 5, 5, 5, 5, 5, 5, 5, 5, 5, 5, 5, 5, 6, 6, 6, 6, 6, 6, 6, 6, 6, 6, 6, 6, 6, 6, 6, 6, 6, 6, 6, 6, 6, 6, 7, 7, 7, 7, 7, 7, 7, 7, 7, 7, 7, 7, 7, 7, 7, 7, 7, 7, 7, 7, 7, 8, 8, 8, 8, 8, 8, 8, 8, 8, 8, 8, 8, 8, 8, 8, 8, 8, 8, 8, 8, 8, 9, 9, 9, 9, 9, 9, 9, 9, 9, 9, 9, 9, 9, 9, 9, 9, 9, 9, 9, 9]\n"
          ],
          "name": "stdout"
        }
      ]
    },
    {
      "cell_type": "code",
      "metadata": {
        "id": "dGX8X7vgKFrs",
        "colab_type": "code",
        "outputId": "49895ac4-b63b-4f78-9892-9d9ca679a099",
        "colab": {
          "base_uri": "https://localhost:8080/",
          "height": 34
        }
      },
      "source": [
        "len(inp)"
      ],
      "execution_count": 42,
      "outputs": [
        {
          "output_type": "execute_result",
          "data": {
            "text/plain": [
              "246"
            ]
          },
          "metadata": {
            "tags": []
          },
          "execution_count": 42
        }
      ]
    },
    {
      "cell_type": "code",
      "metadata": {
        "id": "XiZC3P2SML8a",
        "colab_type": "code",
        "colab": {}
      },
      "source": [
        "counter = [0]"
      ],
      "execution_count": 0,
      "outputs": []
    },
    {
      "cell_type": "code",
      "metadata": {
        "id": "nCnwFzuFMRgx",
        "colab_type": "code",
        "colab": {}
      },
      "source": [
        "x_train = []\n",
        "x_test = []\n",
        "y_train = []\n",
        "y_test = []\n",
        "x_val = []\n",
        "y_val = []"
      ],
      "execution_count": 0,
      "outputs": []
    },
    {
      "cell_type": "code",
      "metadata": {
        "id": "qPPOz1HiMVIp",
        "colab_type": "code",
        "outputId": "298f9397-4779-4b9f-a0c7-fd6ab0ba4c57",
        "colab": {
          "base_uri": "https://localhost:8080/",
          "height": 68
        }
      },
      "source": [
        "for i in range(0,3):\n",
        "    print(i)\n",
        "    lengths = []\n",
        "    count = 0\n",
        "    for fil in inp:\n",
        "        f = open(fil, \"r\")\n",
        "        x = f.read()\n",
        "        y = x.split()\n",
        "        f.close()\n",
        "        if(len(x) <= 100):\n",
        "            inp.remove(fil)\n",
        "        elif len(x) == 0:\n",
        "            inp.remove(fil)\n",
        "        elif(len(y) < minLength):\n",
        "            x = padding(fil)\n",
        "            lengths.append(len(x))\n",
        "        else:\n",
        "            lengths.append(len(x))"
      ],
      "execution_count": 45,
      "outputs": [
        {
          "output_type": "stream",
          "text": [
            "0\n",
            "1\n",
            "2\n"
          ],
          "name": "stdout"
        }
      ]
    },
    {
      "cell_type": "code",
      "metadata": {
        "id": "2shnl-ynluid",
        "colab_type": "code",
        "colab": {}
      },
      "source": [
        "x_train, X_test, y_train, Y_test = train_test_split(inp, out, test_size=0.2, random_state = 42)\n",
        "X_train, X_val, Y_train, Y_val = train_test_split(x_train, y_train, test_size=0.2, random_state = 42)"
      ],
      "execution_count": 0,
      "outputs": []
    },
    {
      "cell_type": "markdown",
      "metadata": {
        "id": "Cu0HD24gsJsL",
        "colab_type": "text"
      },
      "source": [
        "for d in top_dir:\n",
        "  check(os.path.join(r, d), counter)"
      ]
    },
    {
      "cell_type": "code",
      "metadata": {
        "id": "tKS5ZPHtMeMt",
        "colab_type": "code",
        "outputId": "9b222d3e-1349-4e8f-a5ee-5e8405fb0455",
        "colab": {
          "base_uri": "https://localhost:8080/",
          "height": 51
        }
      },
      "source": [
        "_check = []\n",
        "for x in y_train:\n",
        "  if x not in _check:\n",
        "    _check.append(x)\n",
        "print(len(_check))\n",
        "print(counter)"
      ],
      "execution_count": 47,
      "outputs": [
        {
          "output_type": "stream",
          "text": [
            "10\n",
            "[0]\n"
          ],
          "name": "stdout"
        }
      ]
    },
    {
      "cell_type": "code",
      "metadata": {
        "id": "PjzgCSA-tzuS",
        "colab_type": "code",
        "colab": {}
      },
      "source": [
        "X_train = np.array(X_train)\n",
        "X_test = np.array(X_test)\n",
        "X_val = np.array(X_val)\n",
        "Y_train = np.array(Y_train)\n",
        "Y_test = np.array(Y_test)\n",
        "Y_val = np.array(Y_val)"
      ],
      "execution_count": 0,
      "outputs": []
    },
    {
      "cell_type": "markdown",
      "metadata": {
        "id": "_A4DkE25Nu_U",
        "colab_type": "text"
      },
      "source": [
        "x_train = np.array(X_train)\n",
        "x_test = np.array(X_test)\n",
        "x_val = np.array(X_val)\n",
        "y_train = np.array(Y_train)\n",
        "y_test = np.array(Y_test)\n",
        "y_val = np.array(Y_val)"
      ]
    },
    {
      "cell_type": "markdown",
      "metadata": {
        "id": "LyXGXm_DNydG",
        "colab_type": "text"
      },
      "source": [
        "indices = np.arange(x_train.shape[0])\n",
        "np.random.shuffle(indices)\n",
        "x_train = x_train[indices]\n",
        "y_train = y_train[indices]\n",
        "\n",
        "indices = np.arange(x_test.shape[0])\n",
        "np.random.shuffle(indices)\n",
        "x_test = x_test[indices]\n",
        "y_test = y_test[indices]\n",
        "\n",
        "indices = np.arange(x_val.shape[0])\n",
        "np.random.shuffle(indices)\n",
        "x_val = x_val[indices]\n",
        "y_val = y_val[indices]"
      ]
    },
    {
      "cell_type": "code",
      "metadata": {
        "id": "FzLRpP3bN2sn",
        "colab_type": "code",
        "outputId": "90a688c0-9fbe-4ae0-9f22-46612ca3a856",
        "colab": {
          "base_uri": "https://localhost:8080/",
          "height": 34
        }
      },
      "source": [
        "vocab = {}\n",
        "count = [0]\n",
        "for fil in inp:\n",
        "  f = open(fil)\n",
        "  x = f.read()\n",
        "  for line in x:\n",
        "    for letter in line:\n",
        "      if letter not in vocab.keys():\n",
        "        vocab[letter] = count[0]\n",
        "        count[0] += 1 \n",
        "print(count)"
      ],
      "execution_count": 49,
      "outputs": [
        {
          "output_type": "stream",
          "text": [
            "[94]\n"
          ],
          "name": "stdout"
        }
      ]
    },
    {
      "cell_type": "code",
      "metadata": {
        "id": "iftDKeQfN-AQ",
        "colab_type": "code",
        "colab": {}
      },
      "source": [
        "def getFiles(path):\n",
        "    matrix = []\n",
        "    for p in path:\n",
        "        tmp = np.zeros((50, 40), dtype = int)\n",
        "        f = open(p)\n",
        "        for i in range(0,50):\n",
        "            for j in range(0, 40):\n",
        "                tmp[i][j] = vocab[f.read(1)]\n",
        "        matrix.append(tmp)\n",
        "    return np.array(matrix)"
      ],
      "execution_count": 0,
      "outputs": []
    },
    {
      "cell_type": "code",
      "metadata": {
        "id": "8XUQ3h4NOGys",
        "colab_type": "code",
        "colab": {}
      },
      "source": [
        "num_classes = 10\n",
        "input_shape = (50, 40)\n",
        "batch_size = 2\n",
        "def data_generator(file_paths, author_numbers):\n",
        "    batch_start = 0\n",
        "    batch_end = batch_start + batch_size\n",
        "    n = file_paths.shape[0]\n",
        "    indexes = np.arange(0, n, batch_size)\n",
        "    if n % batch_size != 0:\n",
        "        indexes = indexes[:-1] \n",
        "    while True:\n",
        "        np.random.shuffle(indexes)\n",
        "        for ind in indexes:\n",
        "            batch_start = ind\n",
        "            batch_end = batch_start + batch_size\n",
        "            myFiles = file_paths[batch_start:batch_end]\n",
        "            batch_files = getFiles(myFiles)\n",
        "            batch_authors = author_numbers[batch_start:batch_end]\n",
        "            batch_x = np.zeros((batch_size, 50, 40))\n",
        "            tmp = np.zeros((batch_size, num_classes))\n",
        "            batch_x = np.array( batch_files )\n",
        "            for i, j in enumerate(batch_authors):\n",
        "                tmp[i][j] = 1\n",
        "            batch_y = np.array( tmp )\n",
        "            yield( batch_x, batch_y )"
      ],
      "execution_count": 0,
      "outputs": []
    },
    {
      "cell_type": "code",
      "metadata": {
        "id": "zDbVHJ85OJhE",
        "colab_type": "code",
        "colab": {}
      },
      "source": [
        "input_fil = Input(shape=(input_shape), name='input_fil')\n",
        "conv1 = Conv1D(128, kernel_size=7, strides = 2,  activation='relu')(input_fil)\n",
        "drop1 = Dropout(0.2)(conv1)\n",
        "conv = Conv1D(64, kernel_size=7, strides = 2,  activation='relu')(drop1)\n",
        "maxP = MaxPooling1D()(conv)\n",
        "flat = Flatten()(maxP)\n",
        "output_class = Dense(num_classes, activation='softmax')(flat)\n",
        "\n",
        "model = Model(inputs=input_fil, outputs=output_class)"
      ],
      "execution_count": 0,
      "outputs": []
    },
    {
      "cell_type": "code",
      "metadata": {
        "id": "xqNgTEQxOK4O",
        "colab_type": "code",
        "outputId": "47e89db6-c7fd-407a-81c6-42486f2e2dde",
        "colab": {
          "base_uri": "https://localhost:8080/",
          "height": 391
        }
      },
      "source": [
        "adam = Adam(lr=0.0001)\n",
        "model.compile(loss='categorical_crossentropy', \n",
        "              optimizer=adam, \n",
        "              metrics=['accuracy'])\n",
        "\n",
        "model.summary()"
      ],
      "execution_count": 53,
      "outputs": [
        {
          "output_type": "stream",
          "text": [
            "Model: \"model_2\"\n",
            "_________________________________________________________________\n",
            "Layer (type)                 Output Shape              Param #   \n",
            "=================================================================\n",
            "input_fil (InputLayer)       (None, 50, 40)            0         \n",
            "_________________________________________________________________\n",
            "conv1d_3 (Conv1D)            (None, 22, 128)           35968     \n",
            "_________________________________________________________________\n",
            "dropout_2 (Dropout)          (None, 22, 128)           0         \n",
            "_________________________________________________________________\n",
            "conv1d_4 (Conv1D)            (None, 8, 64)             57408     \n",
            "_________________________________________________________________\n",
            "max_pooling1d_2 (MaxPooling1 (None, 4, 64)             0         \n",
            "_________________________________________________________________\n",
            "flatten_2 (Flatten)          (None, 256)               0         \n",
            "_________________________________________________________________\n",
            "dense_2 (Dense)              (None, 10)                2570      \n",
            "=================================================================\n",
            "Total params: 95,946\n",
            "Trainable params: 95,946\n",
            "Non-trainable params: 0\n",
            "_________________________________________________________________\n"
          ],
          "name": "stdout"
        }
      ]
    },
    {
      "cell_type": "code",
      "metadata": {
        "id": "VzBlEZRAONP3",
        "colab_type": "code",
        "colab": {}
      },
      "source": [
        "train_gen = data_generator(X_train, Y_train)\n",
        "test_gen = data_generator(X_test, Y_test)\n",
        "val_gen = data_generator(X_val, Y_val)"
      ],
      "execution_count": 0,
      "outputs": []
    },
    {
      "cell_type": "code",
      "metadata": {
        "id": "vcolzyONOPHr",
        "colab_type": "code",
        "outputId": "24073ecb-38b5-4e12-ede6-ee2fc9a91746",
        "colab": {
          "base_uri": "https://localhost:8080/",
          "height": 697
        }
      },
      "source": [
        "hist1 = model.fit_generator(train_gen, epochs=20, steps_per_epoch=len(Y_train)//batch_size, \n",
        "                           validation_data=val_gen, validation_steps=len(Y_val)//batch_size, verbose=1)"
      ],
      "execution_count": 55,
      "outputs": [
        {
          "output_type": "stream",
          "text": [
            "Epoch 1/20\n",
            "78/78 [==============================] - 1s 14ms/step - loss: 11.9785 - acc: 0.1346 - val_loss: 9.7971 - val_acc: 0.2500\n",
            "Epoch 2/20\n",
            "78/78 [==============================] - 1s 8ms/step - loss: 8.3756 - acc: 0.2949 - val_loss: 7.6744 - val_acc: 0.3250\n",
            "Epoch 3/20\n",
            "78/78 [==============================] - 1s 8ms/step - loss: 6.0311 - acc: 0.4615 - val_loss: 5.8025 - val_acc: 0.4750\n",
            "Epoch 4/20\n",
            "78/78 [==============================] - 1s 8ms/step - loss: 4.7291 - acc: 0.5256 - val_loss: 5.1240 - val_acc: 0.5250\n",
            "Epoch 5/20\n",
            "78/78 [==============================] - 1s 8ms/step - loss: 3.3836 - acc: 0.6218 - val_loss: 4.0966 - val_acc: 0.5250\n",
            "Epoch 6/20\n",
            "78/78 [==============================] - 1s 8ms/step - loss: 2.3802 - acc: 0.6987 - val_loss: 3.0372 - val_acc: 0.6500\n",
            "Epoch 7/20\n",
            "78/78 [==============================] - 1s 8ms/step - loss: 1.6911 - acc: 0.7179 - val_loss: 2.3094 - val_acc: 0.5750\n",
            "Epoch 8/20\n",
            "78/78 [==============================] - 1s 8ms/step - loss: 0.8473 - acc: 0.8269 - val_loss: 2.3014 - val_acc: 0.6250\n",
            "Epoch 9/20\n",
            "78/78 [==============================] - 1s 8ms/step - loss: 0.5600 - acc: 0.8397 - val_loss: 1.8282 - val_acc: 0.6750\n",
            "Epoch 10/20\n",
            "78/78 [==============================] - 1s 8ms/step - loss: 0.3784 - acc: 0.8974 - val_loss: 1.8731 - val_acc: 0.7250\n",
            "Epoch 11/20\n",
            "78/78 [==============================] - 1s 8ms/step - loss: 0.3323 - acc: 0.8910 - val_loss: 1.9269 - val_acc: 0.7000\n",
            "Epoch 12/20\n",
            "78/78 [==============================] - 1s 8ms/step - loss: 0.2905 - acc: 0.9295 - val_loss: 1.7493 - val_acc: 0.7000\n",
            "Epoch 13/20\n",
            "78/78 [==============================] - 1s 8ms/step - loss: 0.1743 - acc: 0.9679 - val_loss: 2.0041 - val_acc: 0.7500\n",
            "Epoch 14/20\n",
            "78/78 [==============================] - 1s 8ms/step - loss: 0.1674 - acc: 0.9679 - val_loss: 1.9962 - val_acc: 0.6250\n",
            "Epoch 15/20\n",
            "78/78 [==============================] - 1s 8ms/step - loss: 0.0557 - acc: 0.9679 - val_loss: 2.2025 - val_acc: 0.6500\n",
            "Epoch 16/20\n",
            "78/78 [==============================] - 1s 8ms/step - loss: 0.2761 - acc: 0.9231 - val_loss: 2.1416 - val_acc: 0.6500\n",
            "Epoch 17/20\n",
            "78/78 [==============================] - 1s 8ms/step - loss: 0.1473 - acc: 0.9423 - val_loss: 1.8202 - val_acc: 0.6750\n",
            "Epoch 18/20\n",
            "78/78 [==============================] - 1s 8ms/step - loss: 0.1017 - acc: 0.9615 - val_loss: 1.8096 - val_acc: 0.6750\n",
            "Epoch 19/20\n",
            "78/78 [==============================] - 1s 8ms/step - loss: 0.0828 - acc: 0.9808 - val_loss: 1.8732 - val_acc: 0.6750\n",
            "Epoch 20/20\n",
            "78/78 [==============================] - 1s 8ms/step - loss: 0.0170 - acc: 0.9936 - val_loss: 2.1232 - val_acc: 0.6500\n"
          ],
          "name": "stdout"
        }
      ]
    },
    {
      "cell_type": "code",
      "metadata": {
        "id": "5Qr17GkJOTbs",
        "colab_type": "code",
        "outputId": "36d54bfe-c008-425c-8fdc-d37f6ff01e3f",
        "colab": {
          "base_uri": "https://localhost:8080/",
          "height": 34
        }
      },
      "source": [
        "xtestdata = getFiles(X_test)\n",
        "print(xtestdata.shape)"
      ],
      "execution_count": 56,
      "outputs": [
        {
          "output_type": "stream",
          "text": [
            "(50, 50, 40)\n"
          ],
          "name": "stdout"
        }
      ]
    },
    {
      "cell_type": "code",
      "metadata": {
        "id": "pqq5Zk0WO9_d",
        "colab_type": "code",
        "outputId": "a6a1bfbd-8f41-464e-8f75-bb49cbb35400",
        "colab": {
          "base_uri": "https://localhost:8080/",
          "height": 34
        }
      },
      "source": [
        "preds = model.predict(xtestdata)\n",
        "print(preds.shape)"
      ],
      "execution_count": 57,
      "outputs": [
        {
          "output_type": "stream",
          "text": [
            "(50, 10)\n"
          ],
          "name": "stdout"
        }
      ]
    },
    {
      "cell_type": "code",
      "metadata": {
        "id": "4g83iNhiO_qg",
        "colab_type": "code",
        "outputId": "35e25d72-a15c-4ea8-9feb-2b9c09ca85b7",
        "colab": {
          "base_uri": "https://localhost:8080/",
          "height": 34
        }
      },
      "source": [
        "myPreds = []\n",
        "for i in preds:\n",
        "    myPreds.append(np.argmax(i))\n",
        "myPreds = np.array(myPreds)\n",
        "print(myPreds.shape)"
      ],
      "execution_count": 58,
      "outputs": [
        {
          "output_type": "stream",
          "text": [
            "(50,)\n"
          ],
          "name": "stdout"
        }
      ]
    },
    {
      "cell_type": "code",
      "metadata": {
        "id": "J4HVeOgLPBQr",
        "colab_type": "code",
        "outputId": "b2bf09d2-4e98-4e4f-a6e6-f032d9a7e098",
        "colab": {
          "base_uri": "https://localhost:8080/",
          "height": 34
        }
      },
      "source": [
        "count = 0\n",
        "for i in range(myPreds.shape[0]):\n",
        "    if myPreds[i] == Y_test[i]:\n",
        "        count += 1\n",
        "\n",
        "acc = (count / myPreds.shape[0]) * 100\n",
        "print(\"Accuracy\", acc)"
      ],
      "execution_count": 59,
      "outputs": [
        {
          "output_type": "stream",
          "text": [
            "Accuracy 80.0\n"
          ],
          "name": "stdout"
        }
      ]
    },
    {
      "cell_type": "code",
      "metadata": {
        "id": "B0-qOEv6PEMr",
        "colab_type": "code",
        "outputId": "fd627809-6828-4e07-cf27-db81b1d54bf3",
        "colab": {
          "base_uri": "https://localhost:8080/",
          "height": 359
        }
      },
      "source": [
        "\n",
        "names = list(names)\n",
        "values = list([0,1,2,3,4,5,6,7,8,9])\n",
        "pd.DataFrame.from_dict({'Values': values, 'Names': names})"
      ],
      "execution_count": 60,
      "outputs": [
        {
          "output_type": "execute_result",
          "data": {
            "text/html": [
              "<div>\n",
              "<style scoped>\n",
              "    .dataframe tbody tr th:only-of-type {\n",
              "        vertical-align: middle;\n",
              "    }\n",
              "\n",
              "    .dataframe tbody tr th {\n",
              "        vertical-align: top;\n",
              "    }\n",
              "\n",
              "    .dataframe thead th {\n",
              "        text-align: right;\n",
              "    }\n",
              "</style>\n",
              "<table border=\"1\" class=\"dataframe\">\n",
              "  <thead>\n",
              "    <tr style=\"text-align: right;\">\n",
              "      <th></th>\n",
              "      <th>Values</th>\n",
              "      <th>Names</th>\n",
              "    </tr>\n",
              "  </thead>\n",
              "  <tbody>\n",
              "    <tr>\n",
              "      <th>0</th>\n",
              "      <td>0</td>\n",
              "      <td>simonlindholm</td>\n",
              "    </tr>\n",
              "    <tr>\n",
              "      <th>1</th>\n",
              "      <td>1</td>\n",
              "      <td>Xellos</td>\n",
              "    </tr>\n",
              "    <tr>\n",
              "      <th>2</th>\n",
              "      <td>2</td>\n",
              "      <td>kawaiigabrielneko</td>\n",
              "    </tr>\n",
              "    <tr>\n",
              "      <th>3</th>\n",
              "      <td>3</td>\n",
              "      <td>kmjp</td>\n",
              "    </tr>\n",
              "    <tr>\n",
              "      <th>4</th>\n",
              "      <td>4</td>\n",
              "      <td>ccsnoopy</td>\n",
              "    </tr>\n",
              "    <tr>\n",
              "      <th>5</th>\n",
              "      <td>5</td>\n",
              "      <td>minaminao</td>\n",
              "    </tr>\n",
              "    <tr>\n",
              "      <th>6</th>\n",
              "      <td>6</td>\n",
              "      <td>luki4824</td>\n",
              "    </tr>\n",
              "    <tr>\n",
              "      <th>7</th>\n",
              "      <td>7</td>\n",
              "      <td>LEcry</td>\n",
              "    </tr>\n",
              "    <tr>\n",
              "      <th>8</th>\n",
              "      <td>8</td>\n",
              "      <td>VAVAvile</td>\n",
              "    </tr>\n",
              "    <tr>\n",
              "      <th>9</th>\n",
              "      <td>9</td>\n",
              "      <td>aan93</td>\n",
              "    </tr>\n",
              "  </tbody>\n",
              "</table>\n",
              "</div>"
            ],
            "text/plain": [
              "   Values              Names\n",
              "0       0      simonlindholm\n",
              "1       1             Xellos\n",
              "2       2  kawaiigabrielneko\n",
              "3       3               kmjp\n",
              "4       4           ccsnoopy\n",
              "5       5          minaminao\n",
              "6       6           luki4824\n",
              "7       7              LEcry\n",
              "8       8           VAVAvile\n",
              "9       9              aan93"
            ]
          },
          "metadata": {
            "tags": []
          },
          "execution_count": 60
        }
      ]
    },
    {
      "cell_type": "code",
      "metadata": {
        "id": "2zrQmHfvV68B",
        "colab_type": "code",
        "colab": {}
      },
      "source": [
        "y_target = Y_test\n",
        "y_predicted = myPreds\n",
        "\n",
        "cm = confusion_matrix(y_target=y_target, \n",
        "                      y_predicted=y_predicted, \n",
        "                      binary=False)\n",
        "# cm"
      ],
      "execution_count": 0,
      "outputs": []
    },
    {
      "cell_type": "code",
      "metadata": {
        "id": "Ns_efVSPV-iO",
        "colab_type": "code",
        "outputId": "b8a096a1-8f6c-49d0-8bfa-977e15f338c9",
        "colab": {
          "base_uri": "https://localhost:8080/",
          "height": 283
        }
      },
      "source": [
        "fig, ax = plot_confusion_matrix(conf_mat=cm)\n",
        "plt.show()"
      ],
      "execution_count": 62,
      "outputs": [
        {
          "output_type": "display_data",
          "data": {
            "image/png": "[encoded data removed]",
            "text/plain": [
              "<Figure size 432x288 with 1 Axes>"
            ]
          },
          "metadata": {
            "tags": []
          }
        }
      ]
    },
    {
      "cell_type": "code",
      "metadata": {
        "id": "VhFf6DXnWsQk",
        "colab_type": "code",
        "outputId": "49855e75-b954-4b01-affb-d32c7f68e6b2",
        "colab": {
          "base_uri": "https://localhost:8080/",
          "height": 51
        }
      },
      "source": [
        "print(len(Y_test))\n",
        "print(len(X_train))"
      ],
      "execution_count": 63,
      "outputs": [
        {
          "output_type": "stream",
          "text": [
            "50\n",
            "156\n"
          ],
          "name": "stdout"
        }
      ]
    },
    {
      "cell_type": "code",
      "metadata": {
        "id": "geUzCxyl4hsm",
        "colab_type": "code",
        "colab": {}
      },
      "source": [
        "map = {}\n",
        "for i, fil in enumerate(X_test):\n",
        "  _fil = fil.split('/')[-1]\n",
        "  map[_fil] =  Y_test[i]\n",
        "  fname = '/content/drive/My Drive/files/obf_before4/' + _fil\n",
        "  x = open(fil).read()\n",
        "  f = open(fname, 'w+')\n",
        "  f.write(x)\n",
        "  f.close()"
      ],
      "execution_count": 0,
      "outputs": []
    },
    {
      "cell_type": "code",
      "metadata": {
        "id": "mV0f5VOMWX5V",
        "colab_type": "code",
        "colab": {
          "base_uri": "https://localhost:8080/",
          "height": 34
        },
        "outputId": "e757f3a0-9854-4eb1-a149-5d8718db1d2b"
      },
      "source": [
        "print(len(X_test))"
      ],
      "execution_count": 65,
      "outputs": [
        {
          "output_type": "stream",
          "text": [
            "50\n"
          ],
          "name": "stdout"
        }
      ]
    },
    {
      "cell_type": "code",
      "metadata": {
        "id": "_dZkPSo2Yx1Y",
        "colab_type": "code",
        "colab": {
          "base_uri": "https://localhost:8080/",
          "height": 51
        },
        "outputId": "1b6ae60a-0263-4dd1-cb58-a19804a510f1"
      },
      "source": [
        "print(Y_test)"
      ],
      "execution_count": 66,
      "outputs": [
        {
          "output_type": "stream",
          "text": [
            "[1 0 6 2 5 6 7 3 0 9 9 8 9 6 2 8 8 0 6 0 4 0 3 2 8 5 7 0 0 3 8 9 4 0 9 0 4\n",
            " 7 1 1 8 3 1 6 0 4 2 6 1 9]\n"
          ],
          "name": "stdout"
        }
      ]
    },
    {
      "cell_type": "code",
      "metadata": {
        "id": "IxCXt99fvX1o",
        "colab_type": "code",
        "colab": {
          "base_uri": "https://localhost:8080/",
          "height": 54
        },
        "outputId": "39ac6ea3-6a08-4772-a25e-3adcc9c2eaa1"
      },
      "source": [
        "path = '/content/drive/My Drive/files/obf_after4'\n",
        "inp = []\n",
        "\n",
        "for r,d,f in os.walk(path):\n",
        "  for fil in f:\n",
        "    inp.append(os.path.join(r,fil))\n",
        "Y_test = []\n",
        "for fil in inp:\n",
        "  _fil = fil.split('/')[-1]\n",
        "  Y_test.append(map[_fil])\n",
        "print(Y_test)"
      ],
      "execution_count": 67,
      "outputs": [
        {
          "output_type": "stream",
          "text": [
            "[9, 2, 8, 8, 0, 0, 6, 9, 9, 6, 7, 7, 0, 9, 1, 7, 1, 8, 9, 1, 5, 9, 1, 0, 8, 6, 4, 0, 8, 2, 8, 1, 2, 6, 4, 3, 4, 3, 2, 4, 0, 0, 0, 0, 5, 6, 6, 3, 3, 0]\n"
          ],
          "name": "stdout"
        }
      ]
    },
    {
      "cell_type": "code",
      "metadata": {
        "id": "_gGgIigUUBh1",
        "colab_type": "code",
        "outputId": "1d758478-63b0-45d6-c456-85924a302fe8",
        "colab": {
          "base_uri": "https://localhost:8080/",
          "height": 68
        }
      },
      "source": [
        "for i in range(0,3):\n",
        "    print(i)\n",
        "    lengths = []\n",
        "    count = 0\n",
        "    for fil in inp:\n",
        "        f = open(fil, \"r\")\n",
        "        x = f.read()\n",
        "        y = x.split()\n",
        "        f.close()\n",
        "        if(len(x) <= 100):\n",
        "            inp.remove(fil)\n",
        "        elif len(x) == 0:\n",
        "            inp.remove(fil)\n",
        "        elif(len(y) < minLength):\n",
        "            x = padding(fil)\n",
        "            lengths.append(len(x))\n",
        "        else:\n",
        "            lengths.append(len(x))"
      ],
      "execution_count": 0,
      "outputs": [
        {
          "output_type": "stream",
          "text": [
            "0\n",
            "1\n",
            "2\n"
          ],
          "name": "stdout"
        }
      ]
    },
    {
      "cell_type": "code",
      "metadata": {
        "id": "Mb8ACChmR0zN",
        "colab_type": "code",
        "colab": {}
      },
      "source": [
        "x_test_data = getFiles(inp)"
      ],
      "execution_count": 0,
      "outputs": []
    },
    {
      "cell_type": "code",
      "metadata": {
        "id": "xzMFSyCLSDG1",
        "colab_type": "code",
        "colab": {}
      },
      "source": [
        "preds = model.predict(x_test_data)"
      ],
      "execution_count": 0,
      "outputs": []
    },
    {
      "cell_type": "code",
      "metadata": {
        "id": "tKgwPyfzUSwH",
        "colab_type": "code",
        "outputId": "75079d42-1879-49ef-9057-04692939829e",
        "colab": {
          "base_uri": "https://localhost:8080/",
          "height": 34
        }
      },
      "source": [
        "myPreds = []\n",
        "for i in preds:\n",
        "    myPreds.append(np.argmax(i))\n",
        "myPreds = np.array(myPreds)\n",
        "print(myPreds.shape)"
      ],
      "execution_count": 70,
      "outputs": [
        {
          "output_type": "stream",
          "text": [
            "(50,)\n"
          ],
          "name": "stdout"
        }
      ]
    },
    {
      "cell_type": "code",
      "metadata": {
        "id": "ALUb2fcTUkOG",
        "colab_type": "code",
        "outputId": "a1d7c590-497f-41ec-e0b2-e2f14082d06c",
        "colab": {
          "base_uri": "https://localhost:8080/",
          "height": 34
        }
      },
      "source": [
        "print(len(Y_test))"
      ],
      "execution_count": 71,
      "outputs": [
        {
          "output_type": "stream",
          "text": [
            "50\n"
          ],
          "name": "stdout"
        }
      ]
    },
    {
      "cell_type": "code",
      "metadata": {
        "id": "ys5FuWtcUZkf",
        "colab_type": "code",
        "outputId": "d2ce9cfd-994e-4a4a-bc0f-3bfe25ea7acb",
        "colab": {
          "base_uri": "https://localhost:8080/",
          "height": 34
        }
      },
      "source": [
        "count = 0\n",
        "for i in range(myPreds.shape[0]):\n",
        "    if myPreds[i] == Y_test[i]:\n",
        "        count += 1\n",
        "\n",
        "acc = (count / myPreds.shape[0]) * 100\n",
        "print(\"Accuracy\", acc)"
      ],
      "execution_count": 72,
      "outputs": [
        {
          "output_type": "stream",
          "text": [
            "Accuracy 14.000000000000002\n"
          ],
          "name": "stdout"
        }
      ]
    },
    {
      "cell_type": "code",
      "metadata": {
        "id": "zphYsslVV0cP",
        "colab_type": "code",
        "colab": {}
      },
      "source": [
        "y_target = Y_test\n",
        "y_predicted = myPreds\n",
        "\n",
        "cm = confusion_matrix(y_target=y_target, \n",
        "                      y_predicted=y_predicted, \n",
        "                      binary=False)"
      ],
      "execution_count": 0,
      "outputs": []
    },
    {
      "cell_type": "code",
      "metadata": {
        "id": "EmM8lWrIZa3v",
        "colab_type": "code",
        "colab": {
          "base_uri": "https://localhost:8080/",
          "height": 283
        },
        "outputId": "d2f5033f-0df3-4dbd-fe6f-445a64121955"
      },
      "source": [
        "fig, ax = plot_confusion_matrix(conf_mat=cm)\n",
        "plt.show()"
      ],
      "execution_count": 74,
      "outputs": [
        {
          "output_type": "display_data",
          "data": {
            "image/png": "[encoded data removed]",
            "text/plain": [
              "<Figure size 432x288 with 1 Axes>"
            ]
          },
          "metadata": {
            "tags": []
          }
        }
      ]
    },
    {
      "cell_type": "code",
      "metadata": {
        "id": "L-M0H3FBZd2H",
        "colab_type": "code",
        "colab": {}
      },
      "source": [
        ""
      ],
      "execution_count": 0,
      "outputs": []
    }
  ]
}