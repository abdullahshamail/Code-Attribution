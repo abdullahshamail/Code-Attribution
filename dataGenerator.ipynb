{
 "cells": [
  {
   "cell_type": "code",
   "execution_count": 1,
   "metadata": {},
   "outputs": [
    {
     "name": "stderr",
     "output_type": "stream",
     "text": [
      "Using TensorFlow backend.\n"
     ]
    }
   ],
   "source": [
    "from keras.models import load_model\n",
    "from keras.applications import vgg16\n",
    "from sklearn.model_selection import train_test_split\n",
    "from keras.layers import Flatten, Dense, Dropout, Input, Reshape, Conv1D\n",
    "from keras.models import Model\n",
    "from keras.callbacks import ModelCheckpoint, EarlyStopping\n",
    "import os\n",
    "import numpy as np"
   ]
  },
  {
   "cell_type": "code",
   "execution_count": 6,
   "metadata": {},
   "outputs": [],
   "source": [
    "path = '/home/abeera/Desktop/abd/abd/data17'\n",
    "\n",
    "files = []\n",
    "# r=root, d=directories, f = files\n",
    "for r, d, f in os.walk(path):\n",
    "    for file in f:\n",
    "        if '.cpp' in file:\n",
    "            files.append(os.path.join(r, file))"
   ]
  },
  {
   "cell_type": "code",
   "execution_count": 7,
   "metadata": {},
   "outputs": [],
   "source": [
    "def padding(fname):\n",
    "    f = open(fname, \"r\")\n",
    "    y = f.read()\n",
    "    f.close()\n",
    "    \n",
    "    origy = y\n",
    "    while (len(y) < 500):\n",
    "        y += origy\n",
    "        \n",
    "    f = open(fname, \"w\")\n",
    "    f.write(y)\n",
    "    f.close()\n",
    "    return y"
   ]
  },
  {
   "cell_type": "code",
   "execution_count": 10,
   "metadata": {},
   "outputs": [],
   "source": [
    "for i in range(3):\n",
    "    lengths = []\n",
    "    count = 0\n",
    "    for fil in files:\n",
    "        f = open(fil, \"r\")\n",
    "        x = f.read()\n",
    "        f.close()\n",
    "        if(len(x) <= 100):\n",
    "            files.remove(fil)\n",
    "        elif(len(x) == 0):\n",
    "            files.remove(fil)\n",
    "        elif(len(x) < 500):\n",
    "            x = padding(fil)\n",
    "            lengths.append(len(x))\n",
    "        else:\n",
    "            lengths.append(len(x))"
   ]
  },
  {
   "cell_type": "code",
   "execution_count": 11,
   "metadata": {},
   "outputs": [
    {
     "name": "stdout",
     "output_type": "stream",
     "text": [
      "95319\n",
      "500\n",
      "56808\n",
      "56808\n"
     ]
    }
   ],
   "source": [
    "print(max(lengths))\n",
    "print(min(lengths))\n",
    "print(len(lengths))\n",
    "print(len(files))"
   ]
  },
  {
   "cell_type": "code",
   "execution_count": 12,
   "metadata": {},
   "outputs": [],
   "source": [
    "outputvar = {}\n",
    "authors = []\n",
    "counter = 0\n",
    "for x in files:\n",
    "    user = x.split('/')[-2]\n",
    "    if user not in outputvar.keys():\n",
    "        outputvar[user] = counter\n",
    "        authors.append(counter)\n",
    "        counter += 1\n",
    "    else:\n",
    "        authors.append(outputvar[user])\n",
    "        "
   ]
  },
  {
   "cell_type": "code",
   "execution_count": 13,
   "metadata": {},
   "outputs": [
    {
     "name": "stdout",
     "output_type": "stream",
     "text": [
      "11601\n",
      "56808\n"
     ]
    }
   ],
   "source": [
    "print(len(outputvar))\n",
    "print(len(authors))"
   ]
  },
  {
   "cell_type": "code",
   "execution_count": 14,
   "metadata": {},
   "outputs": [
    {
     "name": "stdout",
     "output_type": "stream",
     "text": [
      "All correct\n"
     ]
    }
   ],
   "source": [
    "index = 0\n",
    "for x in files:\n",
    "    user = x.split('/')[-2]\n",
    "    if(outputvar[user] != authors[index]):\n",
    "        print(x)\n",
    "    index += 1\n",
    "\n",
    "print(\"All correct\")"
   ]
  },
  {
   "cell_type": "code",
   "execution_count": 15,
   "metadata": {},
   "outputs": [],
   "source": [
    "files = np.array(files)\n",
    "authors = np.array(authors)"
   ]
  },
  {
   "cell_type": "code",
   "execution_count": 16,
   "metadata": {},
   "outputs": [
    {
     "name": "stdout",
     "output_type": "stream",
     "text": [
      "['/home/abeera/Desktop/abd/abd/data17/keshavT/main0.cpp'\n",
      " '/home/abeera/Desktop/abd/abd/data17/keshavT/main2.cpp'\n",
      " '/home/abeera/Desktop/abd/abd/data17/keshavT/main1.cpp'\n",
      " '/home/abeera/Desktop/abd/abd/data17/yhee/code10.cpp'\n",
      " '/home/abeera/Desktop/abd/abd/data17/yhee/codejam1_11.cpp']\n",
      "[0 0 0 1 1]\n"
     ]
    }
   ],
   "source": [
    "print(files[:5])\n",
    "print(authors[:5])"
   ]
  },
  {
   "cell_type": "code",
   "execution_count": null,
   "metadata": {},
   "outputs": [],
   "source": [
    "vocab = {\"a\": 0, \"b\": 1 ..}\n",
    "\n",
    "\n",
    "input1 = [0, 1, 4, 21, ]"
   ]
  },
  {
   "cell_type": "code",
   "execution_count": 20,
   "metadata": {},
   "outputs": [
    {
     "name": "stdout",
     "output_type": "stream",
     "text": [
      "11\n"
     ]
    }
   ],
   "source": [
    "count = list([0])\n",
    "\n",
    "def recur(ls):\n",
    "    if(ls[0] > 10):\n",
    "        return\n",
    "    else:\n",
    "        ls[0] = ls[0] + 1\n",
    "        recur(ls)\n",
    "        \n",
    "recur(count)     \n",
    "print(count[0])"
   ]
  },
  {
   "cell_type": "code",
   "execution_count": 21,
   "metadata": {},
   "outputs": [],
   "source": [
    "num_classes = len(outputvar)\n",
    "input_shape = (50, 10)"
   ]
  },
  {
   "cell_type": "code",
   "execution_count": 22,
   "metadata": {},
   "outputs": [
    {
     "data": {
      "text/plain": [
       "11606"
      ]
     },
     "execution_count": 22,
     "metadata": {},
     "output_type": "execute_result"
    }
   ],
   "source": [
    "num_classes"
   ]
  },
  {
   "cell_type": "code",
   "execution_count": null,
   "metadata": {},
   "outputs": [],
   "source": [
    "def data_generator(file_paths, author_numbers, batch_size = 1000):\n",
    "    batch_start = 0\n",
    "    batch_end = batch_start + batch_size\n",
    "    n = images_paths.shape[0]\n",
    "    indexes = np.arange(0, n, batch_size)\n",
    "    if n % batch_size != 0:\n",
    "        indexes = indexes[:-1] \n",
    "    while True:\n",
    "        np.random.shuffle(indexes)\n",
    "        for ind in indexes:\n",
    "            batch_start = ind\n",
    "            batch_end = batch_start + batch_size\n",
    "            myFiles = file_paths[batch_start:batch_end]\n",
    "            batch_files = getFiles(myFiles)\n",
    "            batch_authors = author_numbers[batch_start:batch_end]\n",
    "            batch_x = np.zeros((batch_size, *input_shape))\n",
    "            batch_y = np.zeros((batch_size, num_classes))\n",
    "            batch_x = np.array( batch_files )\n",
    "            batch_y = np.array( batch_authors )\n",
    "            yield( batch_x, batch_y )"
   ]
  }
 ],
 "metadata": {
  "kernelspec": {
   "display_name": "Python 3",
   "language": "python",
   "name": "python3"
  },
  "language_info": {
   "codemirror_mode": {
    "name": "ipython",
    "version": 3
   },
   "file_extension": ".py",
   "mimetype": "text/x-python",
   "name": "python",
   "nbconvert_exporter": "python",
   "pygments_lexer": "ipython3",
   "version": "3.5.2"
  }
 },
 "nbformat": 4,
 "nbformat_minor": 2
}
