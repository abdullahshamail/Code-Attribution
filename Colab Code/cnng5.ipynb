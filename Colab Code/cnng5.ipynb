{
  "nbformat": 4,
  "nbformat_minor": 0,
  "metadata": {
    "colab": {
      "name": "cnng5.ipynb",
      "version": "0.3.2",
      "provenance": [],
      "collapsed_sections": []
    },
    "kernelspec": {
      "name": "python3",
      "display_name": "Python 3"
    },
    "accelerator": "GPU"
  },
  "cells": [
    {
      "cell_type": "code",
      "metadata": {
        "id": "g-TfbdZW1oZ4",
        "colab_type": "code",
        "outputId": "07049ef1-13b9-4caa-e7a6-e989fa274ae4",
        "colab": {
          "base_uri": "https://localhost:8080/",
          "height": 121
        }
      },
      "source": [
        "from google.colab import drive\n",
        "drive.mount('/content/drive')"
      ],
      "execution_count": 1,
      "outputs": [
        {
          "output_type": "stream",
          "text": [
            "Go to this URL in a browser: https://accounts.google.com/o/oauth2/auth?client_id=947318989803-6bn6qk8qdgf4n4g3pfee6491hc0brc4i.apps.googleusercontent.com&redirect_uri=urn%3Aietf%3Awg%3Aoauth%3A2.0%3Aoob&scope=email%20https%3A%2F%2Fwww.googleapis.com%2Fauth%2Fdocs.test%20https%3A%2F%2Fwww.googleapis.com%2Fauth%2Fdrive%20https%3A%2F%2Fwww.googleapis.com%2Fauth%2Fdrive.photos.readonly%20https%3A%2F%2Fwww.googleapis.com%2Fauth%2Fpeopleapi.readonly&response_type=code\n",
            "\n",
            "Enter your authorization code:\n",
            "··········\n",
            "Mounted at /content/drive\n"
          ],
          "name": "stdout"
        }
      ]
    },
    {
      "cell_type": "code",
      "metadata": {
        "id": "ovgUwyah0oTz",
        "colab_type": "code",
        "colab": {}
      },
      "source": [
        "pathdata17zip = '/content/drive/My Drive/Code_Attribution/data17.zip'"
      ],
      "execution_count": 0,
      "outputs": []
    },
    {
      "cell_type": "code",
      "metadata": {
        "id": "xl-lfLGJ2D1u",
        "colab_type": "code",
        "colab": {}
      },
      "source": [
        "import zipfile\n",
        "zip_ref = zipfile.ZipFile(pathdata17zip, 'r')\n",
        "zip_ref.extractall(\"/tmp\")\n",
        "zip_ref.close()"
      ],
      "execution_count": 0,
      "outputs": []
    },
    {
      "cell_type": "code",
      "metadata": {
        "id": "iBJtygutKLX9",
        "colab_type": "code",
        "colab": {}
      },
      "source": [
        "datasetPath = '/tmp/data17'"
      ],
      "execution_count": 0,
      "outputs": []
    },
    {
      "cell_type": "code",
      "metadata": {
        "id": "Pt99DOyjK6rX",
        "colab_type": "code",
        "outputId": "9b8c2997-b0c4-46ee-dc4d-2a5093a11acb",
        "colab": {
          "base_uri": "https://localhost:8080/",
          "height": 34
        }
      },
      "source": [
        "from keras.layers import Input, Dense, Conv1D, MaxPooling1D, Flatten, Dropout\n",
        "from keras.optimizers import Adam\n",
        "from keras.callbacks import ModelCheckpoint, EarlyStopping, CSVLogger, ReduceLROnPlateau, TensorBoard\n",
        "from keras.models import Model\n",
        "import keras.backend as K"
      ],
      "execution_count": 5,
      "outputs": [
        {
          "output_type": "stream",
          "text": [
            "Using TensorFlow backend.\n"
          ],
          "name": "stderr"
        }
      ]
    },
    {
      "cell_type": "code",
      "metadata": {
        "id": "djcAtjNFK7HD",
        "colab_type": "code",
        "colab": {}
      },
      "source": [
        "import os\n",
        "\n",
        "path = datasetPath\n",
        "\n",
        "files = []\n",
        "# r=root, d=directories, f = files\n",
        "for r, d, f in os.walk(path):\n",
        "    for file in f:\n",
        "        if '.cpp' in file:\n",
        "            files.append(os.path.join(r, file))\n",
        "\n",
        "# for f in files:\n",
        "#     print(f)"
      ],
      "execution_count": 0,
      "outputs": []
    },
    {
      "cell_type": "code",
      "metadata": {
        "id": "PY8Gz0AYK_ka",
        "colab_type": "code",
        "outputId": "a072073d-3c6c-40f4-f2dd-8b3ab7b9214d",
        "colab": {
          "base_uri": "https://localhost:8080/",
          "height": 34
        }
      },
      "source": [
        "len(files)"
      ],
      "execution_count": 7,
      "outputs": [
        {
          "output_type": "execute_result",
          "data": {
            "text/plain": [
              "56837"
            ]
          },
          "metadata": {
            "tags": []
          },
          "execution_count": 7
        }
      ]
    },
    {
      "cell_type": "code",
      "metadata": {
        "id": "l_63WP1qLXBv",
        "colab_type": "code",
        "colab": {}
      },
      "source": [
        "lengths = []\n",
        "minLength = 2000"
      ],
      "execution_count": 0,
      "outputs": []
    },
    {
      "cell_type": "code",
      "metadata": {
        "id": "R75vexTPLYNY",
        "colab_type": "code",
        "colab": {}
      },
      "source": [
        "def padding(fname):\n",
        "    f = open(fname, \"r\")\n",
        "    y = f.read()\n",
        "    f.close()\n",
        "    \n",
        "    origy = y\n",
        "    while (len(y) < minLength):\n",
        "        y += origy\n",
        "        \n",
        "    f = open(fname, \"w\")\n",
        "    f.write(y)\n",
        "    f.close()\n",
        "    return y"
      ],
      "execution_count": 0,
      "outputs": []
    },
    {
      "cell_type": "code",
      "metadata": {
        "id": "KZt9LVSgKUVJ",
        "colab_type": "code",
        "colab": {}
      },
      "source": [
        "def rem_dir(path):\n",
        "  for r, d, f in os.walk(path):\n",
        "    for fil in f:\n",
        "      if fil in files:\n",
        "        files.remove(os.path.join(r, fil))"
      ],
      "execution_count": 0,
      "outputs": []
    },
    {
      "cell_type": "code",
      "metadata": {
        "id": "SDm8B29kLBGB",
        "colab_type": "code",
        "colab": {}
      },
      "source": [
        "outputvar = {}\n",
        "counter = [0]"
      ],
      "execution_count": 0,
      "outputs": []
    },
    {
      "cell_type": "code",
      "metadata": {
        "id": "N73YJAbwjCqs",
        "colab_type": "code",
        "colab": {}
      },
      "source": [
        "def makeInOut(path, _len, counter):\n",
        "  count = 0\n",
        "  for r, d, f in os.walk(path):\n",
        "    name = r.split('/')[-1]\n",
        "    for fil in f:\n",
        "      _fil = os.path.join(r, fil)\n",
        "      if name not in outputvar.keys():\n",
        "        outputvar[name] = counter[0]\n",
        "        counter[0] += 1\n",
        "      if _fil in files:\n",
        "        if count < (0.8*_len):\n",
        "          if count < (0.2*_len):\n",
        "            x_val.append(_fil)\n",
        "            y_val.append(outputvar[name])\n",
        "          else:\n",
        "            x_train.append(_fil)\n",
        "            y_train.append(outputvar[name])\n",
        "          count += 1\n",
        "        else:\n",
        "          x_test.append(_fil)\n",
        "          y_test.append(outputvar[name])"
      ],
      "execution_count": 0,
      "outputs": []
    },
    {
      "cell_type": "code",
      "metadata": {
        "colab_type": "code",
        "id": "gmubV4g1mFoY",
        "colab": {}
      },
      "source": [
        "x_train = []\n",
        "x_test = []\n",
        "y_train = []\n",
        "y_test = []\n",
        "x_val = []\n",
        "y_val = []\n",
        "split = 0.8"
      ],
      "execution_count": 0,
      "outputs": []
    },
    {
      "cell_type": "code",
      "metadata": {
        "id": "9wD93wGYLZrm",
        "colab_type": "code",
        "outputId": "c1a24f7c-70e3-42df-9ee9-0dbc91d86e93",
        "colab": {
          "base_uri": "https://localhost:8080/",
          "height": 67
        }
      },
      "source": [
        "for i in range(0,3):\n",
        "    print(i)\n",
        "    lengths = []\n",
        "    count = 0\n",
        "    for fil in files:\n",
        "        f = open(fil, \"r\")\n",
        "        x = f.read()\n",
        "        y = x.split()\n",
        "        f.close()\n",
        "        if(len(x) <= 100):\n",
        "            files.remove(fil)\n",
        "        elif len(x) == 0:\n",
        "            files.remove(fil)\n",
        "        elif(len(y) < minLength):\n",
        "            x = padding(fil)\n",
        "            lengths.append(len(x))\n",
        "        else:\n",
        "            lengths.append(len(x))\n"
      ],
      "execution_count": 14,
      "outputs": [
        {
          "output_type": "stream",
          "text": [
            "0\n",
            "1\n",
            "2\n"
          ],
          "name": "stdout"
        }
      ]
    },
    {
      "cell_type": "code",
      "metadata": {
        "colab_type": "code",
        "id": "gDKRvqxVmIDs",
        "colab": {}
      },
      "source": [
        "def check(path, counter):\n",
        "  for r, d, f in os.walk(path):\n",
        "    _len = len(f)\n",
        "    if _len < 5:\n",
        "      rem_dir(path)\n",
        "    else:\n",
        "      makeInOut(path, _len, counter)"
      ],
      "execution_count": 0,
      "outputs": []
    },
    {
      "cell_type": "code",
      "metadata": {
        "id": "KLUwCBStSjqM",
        "colab_type": "code",
        "colab": {}
      },
      "source": [
        "for r, d, f in os.walk(datasetPath):\n",
        "  for di in d:\n",
        "    check(os.path.join(r, di), counter)"
      ],
      "execution_count": 0,
      "outputs": []
    },
    {
      "cell_type": "code",
      "metadata": {
        "colab_type": "code",
        "outputId": "d07d3a24-264f-43a1-f20d-d1334b4a240d",
        "id": "pw1epmAImJWi",
        "colab": {
          "base_uri": "https://localhost:8080/",
          "height": 67
        }
      },
      "source": [
        "_check = []\n",
        "for x in y_train:\n",
        "  if x not in _check:\n",
        "    _check.append(x)\n",
        "print(len(_check))\n",
        "print(counter)\n",
        "print(len(outputvar))"
      ],
      "execution_count": 17,
      "outputs": [
        {
          "output_type": "stream",
          "text": [
            "5065\n",
            "[5065]\n",
            "5065\n"
          ],
          "name": "stdout"
        }
      ]
    },
    {
      "cell_type": "code",
      "metadata": {
        "id": "SdD6Zq9QUPFR",
        "colab_type": "code",
        "outputId": "f79a75b7-56ef-4b21-d6b0-93cde67c0226",
        "colab": {
          "base_uri": "https://localhost:8080/",
          "height": 34
        }
      },
      "source": [
        "len(files)"
      ],
      "execution_count": 18,
      "outputs": [
        {
          "output_type": "execute_result",
          "data": {
            "text/plain": [
              "56808"
            ]
          },
          "metadata": {
            "tags": []
          },
          "execution_count": 18
        }
      ]
    },
    {
      "cell_type": "code",
      "metadata": {
        "id": "2zFjDbOTLbPq",
        "colab_type": "code",
        "outputId": "b7eadcfd-6302-49bc-e6ce-1f28d9c700f8",
        "colab": {
          "base_uri": "https://localhost:8080/",
          "height": 84
        }
      },
      "source": [
        "print(max(lengths))\n",
        "print(min(lengths))\n",
        "print(len(lengths))\n",
        "print(len(files))"
      ],
      "execution_count": 19,
      "outputs": [
        {
          "output_type": "stream",
          "text": [
            "95319\n",
            "2000\n",
            "56808\n",
            "56808\n"
          ],
          "name": "stdout"
        }
      ]
    },
    {
      "cell_type": "code",
      "metadata": {
        "colab_type": "code",
        "outputId": "90da6081-47da-426d-f264-d2f51c8be77c",
        "id": "FVsjz7BSmG8Q",
        "colab": {
          "base_uri": "https://localhost:8080/",
          "height": 138
        }
      },
      "source": [
        "print(x_train[:20])\n",
        "print(x_test[:10])\n",
        "print(y_train[:30])\n",
        "print(y_test[:10])\n",
        "print(x_val[:10])\n",
        "print(y_val[:10])"
      ],
      "execution_count": 20,
      "outputs": [
        {
          "output_type": "stream",
          "text": [
            "['/tmp/data17/cthbst/pC1.cpp', '/tmp/data17/cthbst/pA1.cpp', '/tmp/data17/cthbst/pB1.cpp', '/tmp/data17/cthbst/pC0.cpp', '/tmp/data17/M.H./A1.cpp', '/tmp/data17/M.H./C0.cpp', '/tmp/data17/M.H./B1.cpp', '/tmp/data17/M.H./C1.cpp', '/tmp/data17/FIXIT/main1.cpp', '/tmp/data17/FIXIT/pancake0.cpp', '/tmp/data17/FIXIT/tidy1.cpp', '/tmp/data17/Makandrol/1AA_First1.cpp', '/tmp/data17/Makandrol/0A_OversizedPancakeFlipper1.cpp', '/tmp/data17/Makandrol/0B_TidyNumbers1.cpp', '/tmp/data17/Makandrol/1AB_Second0.cpp', '/tmp/data17/Makandrol/0B_TidyNumbers0.cpp', '/tmp/data17/Makandrol/0A_OversizedPancakeFlipper0.cpp', '/tmp/data17/Makandrol/1AA_First0.cpp', '/tmp/data17/Makandrol/1CA_First0.cpp', '/tmp/data17/Makandrol/0C_BathroomStalls2.cpp']\n",
            "['/tmp/data17/cthbst/pA0.cpp', '/tmp/data17/M.H./B0.cpp', '/tmp/data17/FIXIT/main0.cpp', '/tmp/data17/Makandrol/1CA_First1.cpp', '/tmp/data17/Makandrol/0C_BathroomStalls1.cpp', '/tmp/data17/Makandrol/1CC_Third0.cpp', '/tmp/data17/shobhU/main0.cpp', '/tmp/data17/shweaye810/pb1.cpp', '/tmp/data17/bycoincidence/GCJ17A1.cpp', '/tmp/data17/bycoincidence/GCJ17A0.cpp']\n",
            "[0, 0, 0, 0, 1, 1, 1, 1, 2, 2, 2, 3, 3, 3, 3, 3, 3, 3, 3, 3, 4, 4, 4, 4, 4, 5, 5, 5, 6, 6]\n",
            "[0, 1, 2, 3, 3, 3, 4, 5, 6, 6]\n",
            "['/tmp/data17/cthbst/pB0.cpp', '/tmp/data17/cthbst/pC2.cpp', '/tmp/data17/M.H./C2.cpp', '/tmp/data17/M.H./A0.cpp', '/tmp/data17/FIXIT/tidy0.cpp', '/tmp/data17/FIXIT/pancake1.cpp', '/tmp/data17/Makandrol/1AB_Second1.cpp', '/tmp/data17/Makandrol/0C_BathroomStalls0.cpp', '/tmp/data17/Makandrol/1AC_Third0.cpp', '/tmp/data17/shobhU/tidy0.cpp']\n",
            "[0, 0, 1, 1, 2, 2, 3, 3, 3, 4]\n"
          ],
          "name": "stdout"
        }
      ]
    },
    {
      "cell_type": "code",
      "metadata": {
        "id": "KGofI9zaLdk4",
        "colab_type": "code",
        "colab": {}
      },
      "source": [
        "import numpy as np"
      ],
      "execution_count": 0,
      "outputs": []
    },
    {
      "cell_type": "code",
      "metadata": {
        "id": "U8i7EoXCnIcy",
        "colab_type": "code",
        "colab": {}
      },
      "source": [
        "x_train = np.array(x_train)\n",
        "x_test = np.array(x_test)\n",
        "x_val = np.array(x_val)\n",
        "y_train = np.array(y_train)\n",
        "y_test = np.array(y_test)\n",
        "y_val = np.array(y_val)"
      ],
      "execution_count": 0,
      "outputs": []
    },
    {
      "cell_type": "code",
      "metadata": {
        "id": "Ek-Gcmuu5pkx",
        "colab_type": "code",
        "outputId": "6a00c6c6-df5f-4bac-f0db-d63b7bc9b50e",
        "colab": {
          "base_uri": "https://localhost:8080/",
          "height": 521
        }
      },
      "source": [
        "indices = np.arange(x_train.shape[0])\n",
        "np.random.shuffle(indices)\n",
        "x_train = x_train[indices]\n",
        "y_train = y_train[indices]\n",
        "\n",
        "indices = np.arange(x_test.shape[0])\n",
        "np.random.shuffle(indices)\n",
        "x_test = x_test[indices]\n",
        "y_test = y_test[indices]\n",
        "\n",
        "indices = np.arange(x_val.shape[0])\n",
        "np.random.shuffle(indices)\n",
        "x_val = x_val[indices]\n",
        "y_val = y_val[indices]\n",
        "\n",
        "print(x_train[:20])\n",
        "print(x_test[:10])\n",
        "print(y_train[:30])\n",
        "print(y_test[:10])\n",
        "print(x_val[:10])\n",
        "print(y_val[:10])"
      ],
      "execution_count": 23,
      "outputs": [
        {
          "output_type": "stream",
          "text": [
            "['/tmp/data17/meta/A1.cpp' '/tmp/data17/kfoozminus/jam17BC0.cpp'\n",
            " '/tmp/data17/Cromel/C0.cpp' '/tmp/data17/LLI.E.P.JI.O.K/C0.cpp'\n",
            " '/tmp/data17/pechavarria/D0.cpp' '/tmp/data17/Kussy/c1.cpp'\n",
            " '/tmp/data17/unordered.cartographer/OversizedPancakeFlipper0.cpp'\n",
            " '/tmp/data17/jki14/proa1.cpp'\n",
            " '/tmp/data17/Rahhuul/codejam-bathroom-stalls2.cpp'\n",
            " '/tmp/data17/newman/A1.cpp' '/tmp/data17/briansu/GCJ2017 Q20.cpp'\n",
            " '/tmp/data17/noob.programmer/A_alphabetcake1.cpp'\n",
            " '/tmp/data17/rotoZOOM/c1.cpp' '/tmp/data17/aubameyang/GCJ21.cpp'\n",
            " '/tmp/data17/liangjs/pancake0.cpp' '/tmp/data17/VictorForbes/A1.cpp'\n",
            " '/tmp/data17/Youssef.ElGhareeb/CJ-A-Small0.cpp'\n",
            " '/tmp/data17/iddilov/tidy0.cpp'\n",
            " '/tmp/data17/jarvisman/Oversized Pancake Flipper1.cpp'\n",
            " '/tmp/data17/Galieve/b0.cpp']\n",
            "['/tmp/data17/dziadek/parenting0.cpp' '/tmp/data17/RootAccess/GJ31.cpp'\n",
            " '/tmp/data17/Silphire/a1.cpp' '/tmp/data17/K47/tst++0.cpp'\n",
            " '/tmp/data17/Pichayut/B0.cpp' '/tmp/data17/llgyc/small_B0.cpp'\n",
            " '/tmp/data17/AlphaRazra/Fresh_Chocolate0.cpp'\n",
            " '/tmp/data17/RobHochberg/tidy1.cpp' '/tmp/data17/imh1j4l/tidy1.cpp'\n",
            " '/tmp/data17/Taube/ACM1.cpp']\n",
            "[2825 4703 3830 3167 3346 3875 3612 3524 2836 4711  317 4112 2882  505\n",
            " 2261 4342 3818 4745 3022 2964  412 1782 1571 1664  308 3770 4702  964\n",
            " 3948  297]\n",
            "[3695 4059 1544 1671 2281 3325 3998 1271  429   83]\n",
            "['/tmp/data17/frone/pancake1.cpp' '/tmp/data17/denisgr/ProblemA1.cpp'\n",
            " '/tmp/data17/J.S./tidynumber1.cpp' '/tmp/data17/asokol/b0.cpp'\n",
            " '/tmp/data17/Prowindy/20.cpp' '/tmp/data17/jurand85/tidy_numbers0.cpp'\n",
            " '/tmp/data17/AnhDo/C2.cpp' '/tmp/data17/Opu/A0.cpp'\n",
            " '/tmp/data17/Metty/Alphabet Cake0.cpp' '/tmp/data17/unlut/bathroom1.cpp']\n",
            "[4944 4198 2350 4715  246 1800   26 3511 3518 1492]\n"
          ],
          "name": "stdout"
        }
      ]
    },
    {
      "cell_type": "code",
      "metadata": {
        "id": "iRsaq9oPLmII",
        "colab_type": "code",
        "colab": {}
      },
      "source": [
        "def walk(path, vocab, count):\n",
        "    for r, d, f in os.walk(path):\n",
        "        for file in f:\n",
        "            f = open(os.path.join(r, file))\n",
        "            x = f.read()\n",
        "            for line in x:\n",
        "                for letter in line:\n",
        "                    if letter not in vocab.keys():\n",
        "                        vocab[letter] = count[0]\n",
        "                        count[0] += 1\n"
      ],
      "execution_count": 0,
      "outputs": []
    },
    {
      "cell_type": "code",
      "metadata": {
        "id": "KSJWfWJjLoMz",
        "colab_type": "code",
        "outputId": "b35c838f-c45d-4852-8272-c24622c69ad0",
        "colab": {
          "base_uri": "https://localhost:8080/",
          "height": 34
        }
      },
      "source": [
        "vocab = {}\n",
        "count = [0]\n",
        "path = datasetPath\n",
        "for r, d, f, in (os.walk(path)):\n",
        "    for i, dir in enumerate(d):\n",
        "        walk(os.path.join(r, dir), vocab, count)\n",
        "print(count)"
      ],
      "execution_count": 25,
      "outputs": [
        {
          "output_type": "stream",
          "text": [
            "[1468]\n"
          ],
          "name": "stdout"
        }
      ]
    },
    {
      "cell_type": "code",
      "metadata": {
        "id": "Hjb7bwV9TT2j",
        "colab_type": "code",
        "outputId": "e96d313f-ea1f-454e-b4fd-3f7d89989a5f",
        "colab": {
          "base_uri": "https://localhost:8080/",
          "height": 185
        }
      },
      "source": [
        "i = 0\n",
        "for word in vocab.keys():\n",
        "  print(word)\n",
        "  i += 1\n",
        "  if i >= 10:\n",
        "    break"
      ],
      "execution_count": 26,
      "outputs": [
        {
          "output_type": "stream",
          "text": [
            "#\n",
            "i\n",
            "n\n",
            "c\n",
            "l\n",
            "u\n",
            "d\n",
            "e\n",
            " \n",
            "<\n"
          ],
          "name": "stdout"
        }
      ]
    },
    {
      "cell_type": "code",
      "metadata": {
        "id": "1fxmJ-vaLpsJ",
        "colab_type": "code",
        "colab": {}
      },
      "source": [
        "def getFiles(path):\n",
        "    matrix = []\n",
        "    for p in path:\n",
        "        tmp = np.zeros((50, 40), dtype = int)\n",
        "        f = open(p)\n",
        "        for i in range(0,50):\n",
        "            for j in range(0, 40):\n",
        "                tmp[i][j] = vocab[f.read(1)]\n",
        "        matrix.append(tmp)\n",
        "    return np.array(matrix)"
      ],
      "execution_count": 0,
      "outputs": []
    },
    {
      "cell_type": "code",
      "metadata": {
        "id": "dAebkRzpMbXy",
        "colab_type": "code",
        "colab": {}
      },
      "source": [
        "num_classes = len(outputvar)\n",
        "input_shape = (50, 40)\n",
        "batch_size = 1024\n",
        "def data_generator(file_paths, author_numbers):\n",
        "    batch_start = 0\n",
        "    batch_end = batch_start + batch_size\n",
        "    n = file_paths.shape[0]\n",
        "    indexes = np.arange(0, n, batch_size)\n",
        "    if n % batch_size != 0:\n",
        "        indexes = indexes[:-1] \n",
        "    while True:\n",
        "        np.random.shuffle(indexes)\n",
        "        for ind in indexes:\n",
        "            batch_start = ind\n",
        "            batch_end = batch_start + batch_size\n",
        "            myFiles = file_paths[batch_start:batch_end]\n",
        "            batch_files = getFiles(myFiles)\n",
        "            batch_authors = author_numbers[batch_start:batch_end]\n",
        "            batch_x = np.zeros((batch_size, 50, 40))\n",
        "            tmp = np.zeros((batch_size, num_classes))\n",
        "            batch_x = np.array( batch_files )\n",
        "            for i, j in enumerate(batch_authors):\n",
        "                tmp[i][j] = 1\n",
        "            batch_y = np.array( tmp )\n",
        "            yield( batch_x, batch_y )"
      ],
      "execution_count": 0,
      "outputs": []
    },
    {
      "cell_type": "code",
      "metadata": {
        "id": "hi1Doc0HMd0h",
        "colab_type": "code",
        "outputId": "c09a0695-1981-4652-b005-31e66de6c0c1",
        "colab": {
          "base_uri": "https://localhost:8080/",
          "height": 272
        }
      },
      "source": [
        "input_fil = Input(shape=(input_shape), name='input_fil')\n",
        "conv = Conv1D(64, kernel_size=7, strides = 2,  activation='relu')(input_fil)\n",
        "drop = Dropout(0.1)(conv)\n",
        "maxP = MaxPooling1D()(drop)\n",
        "flat = Flatten()(maxP)\n",
        "output_class = Dense(num_classes, activation='softmax')(flat)\n",
        "\n",
        "model = Model(inputs=input_fil, outputs=output_class)"
      ],
      "execution_count": 29,
      "outputs": [
        {
          "output_type": "stream",
          "text": [
            "WARNING: Logging before flag parsing goes to stderr.\n",
            "W0727 10:36:08.004020 140063068153728 deprecation_wrapper.py:119] From /usr/local/lib/python3.6/dist-packages/keras/backend/tensorflow_backend.py:517: The name tf.placeholder is deprecated. Please use tf.compat.v1.placeholder instead.\n",
            "\n",
            "W0727 10:36:08.044114 140063068153728 deprecation_wrapper.py:119] From /usr/local/lib/python3.6/dist-packages/keras/backend/tensorflow_backend.py:74: The name tf.get_default_graph is deprecated. Please use tf.compat.v1.get_default_graph instead.\n",
            "\n",
            "W0727 10:36:08.045494 140063068153728 deprecation_wrapper.py:119] From /usr/local/lib/python3.6/dist-packages/keras/backend/tensorflow_backend.py:4138: The name tf.random_uniform is deprecated. Please use tf.random.uniform instead.\n",
            "\n",
            "W0727 10:36:08.082250 140063068153728 deprecation_wrapper.py:119] From /usr/local/lib/python3.6/dist-packages/keras/backend/tensorflow_backend.py:133: The name tf.placeholder_with_default is deprecated. Please use tf.compat.v1.placeholder_with_default instead.\n",
            "\n",
            "W0727 10:36:08.090682 140063068153728 deprecation.py:506] From /usr/local/lib/python3.6/dist-packages/keras/backend/tensorflow_backend.py:3445: calling dropout (from tensorflow.python.ops.nn_ops) with keep_prob is deprecated and will be removed in a future version.\n",
            "Instructions for updating:\n",
            "Please use `rate` instead of `keep_prob`. Rate should be set to `rate = 1 - keep_prob`.\n",
            "W0727 10:36:08.107142 140063068153728 deprecation_wrapper.py:119] From /usr/local/lib/python3.6/dist-packages/keras/backend/tensorflow_backend.py:3976: The name tf.nn.max_pool is deprecated. Please use tf.nn.max_pool2d instead.\n",
            "\n"
          ],
          "name": "stderr"
        }
      ]
    },
    {
      "cell_type": "code",
      "metadata": {
        "id": "c97O2SzLMfOv",
        "colab_type": "code",
        "outputId": "40d43e75-eb8b-4ad6-cf1d-7d8bf1982b49",
        "colab": {
          "base_uri": "https://localhost:8080/",
          "height": 423
        }
      },
      "source": [
        "adam = Adam(lr=0.001)\n",
        "model.compile(loss='categorical_crossentropy', \n",
        "              optimizer=adam, \n",
        "              metrics=['accuracy'])\n",
        "\n",
        "model.summary()"
      ],
      "execution_count": 30,
      "outputs": [
        {
          "output_type": "stream",
          "text": [
            "W0727 10:36:20.444305 140063068153728 deprecation_wrapper.py:119] From /usr/local/lib/python3.6/dist-packages/keras/optimizers.py:790: The name tf.train.Optimizer is deprecated. Please use tf.compat.v1.train.Optimizer instead.\n",
            "\n",
            "W0727 10:36:20.452811 140063068153728 deprecation_wrapper.py:119] From /usr/local/lib/python3.6/dist-packages/keras/backend/tensorflow_backend.py:3295: The name tf.log is deprecated. Please use tf.math.log instead.\n",
            "\n"
          ],
          "name": "stderr"
        },
        {
          "output_type": "stream",
          "text": [
            "_________________________________________________________________\n",
            "Layer (type)                 Output Shape              Param #   \n",
            "=================================================================\n",
            "input_fil (InputLayer)       (None, 50, 40)            0         \n",
            "_________________________________________________________________\n",
            "conv1d_1 (Conv1D)            (None, 22, 64)            17984     \n",
            "_________________________________________________________________\n",
            "dropout_1 (Dropout)          (None, 22, 64)            0         \n",
            "_________________________________________________________________\n",
            "max_pooling1d_1 (MaxPooling1 (None, 11, 64)            0         \n",
            "_________________________________________________________________\n",
            "flatten_1 (Flatten)          (None, 704)               0         \n",
            "_________________________________________________________________\n",
            "dense_1 (Dense)              (None, 5065)              3570825   \n",
            "=================================================================\n",
            "Total params: 3,588,809\n",
            "Trainable params: 3,588,809\n",
            "Non-trainable params: 0\n",
            "_________________________________________________________________\n"
          ],
          "name": "stdout"
        }
      ]
    },
    {
      "cell_type": "code",
      "metadata": {
        "id": "2Ch6PagFMpSb",
        "colab_type": "code",
        "colab": {}
      },
      "source": [
        "train_gen = data_generator(x_train, y_train)\n",
        "test_gen = data_generator(x_test, y_test)\n",
        "val_gen = data_generator(x_val, y_val)"
      ],
      "execution_count": 0,
      "outputs": []
    },
    {
      "cell_type": "code",
      "metadata": {
        "id": "dkgZm9lNMqrV",
        "colab_type": "code",
        "outputId": "a58db86f-b26c-4c68-a18f-2b385c9e299e",
        "colab": {
          "base_uri": "https://localhost:8080/",
          "height": 423
        }
      },
      "source": [
        "hist1 = model.fit_generator(train_gen, epochs=10, steps_per_epoch=len(y_train)//batch_size, \n",
        "                           validation_data=val_gen, validation_steps=len(y_val)//batch_size, verbose=1)"
      ],
      "execution_count": 32,
      "outputs": [
        {
          "output_type": "stream",
          "text": [
            "W0727 10:36:26.964585 140063068153728 deprecation.py:323] From /usr/local/lib/python3.6/dist-packages/tensorflow/python/ops/math_grad.py:1250: add_dispatch_support.<locals>.wrapper (from tensorflow.python.ops.array_ops) is deprecated and will be removed in a future version.\n",
            "Instructions for updating:\n",
            "Use tf.where in 2.0, which has the same broadcast rule as np.where\n"
          ],
          "name": "stderr"
        },
        {
          "output_type": "stream",
          "text": [
            "Epoch 1/10\n",
            "23/23 [==============================] - 39s 2s/step - loss: 10.9914 - acc: 6.7935e-04 - val_loss: 8.5738 - val_acc: 0.0018\n",
            "Epoch 2/10\n",
            "23/23 [==============================] - 34s 1s/step - loss: 8.4721 - acc: 0.0051 - val_loss: 8.3768 - val_acc: 0.0082\n",
            "Epoch 3/10\n",
            "23/23 [==============================] - 34s 1s/step - loss: 7.9096 - acc: 0.0224 - val_loss: 7.9275 - val_acc: 0.0371\n",
            "Epoch 4/10\n",
            "23/23 [==============================] - 34s 1s/step - loss: 6.4387 - acc: 0.1149 - val_loss: 7.1801 - val_acc: 0.1469\n",
            "Epoch 5/10\n",
            "23/23 [==============================] - 34s 1s/step - loss: 4.2800 - acc: 0.3431 - val_loss: 6.4067 - val_acc: 0.2819\n",
            "Epoch 6/10\n",
            "23/23 [==============================] - 34s 1s/step - loss: 2.4357 - acc: 0.5858 - val_loss: 6.2593 - val_acc: 0.3861\n",
            "Epoch 7/10\n",
            "23/23 [==============================] - 34s 1s/step - loss: 1.3565 - acc: 0.7547 - val_loss: 6.3341 - val_acc: 0.4428\n",
            "Epoch 8/10\n",
            "23/23 [==============================] - 33s 1s/step - loss: 0.8187 - acc: 0.8514 - val_loss: 6.3878 - val_acc: 0.4668\n",
            "Epoch 9/10\n",
            "23/23 [==============================] - 33s 1s/step - loss: 0.5711 - acc: 0.8992 - val_loss: 6.3312 - val_acc: 0.4913\n",
            "Epoch 10/10\n",
            "23/23 [==============================] - 33s 1s/step - loss: 0.4201 - acc: 0.9305 - val_loss: 6.3645 - val_acc: 0.4949\n"
          ],
          "name": "stdout"
        }
      ]
    },
    {
      "cell_type": "code",
      "metadata": {
        "id": "RaaW6UWtMr7Q",
        "colab_type": "code",
        "outputId": "ecd54c77-eb94-4e93-86cf-536198476024",
        "colab": {
          "base_uri": "https://localhost:8080/",
          "height": 34
        }
      },
      "source": [
        "xtestdata = getFiles(x_test)\n",
        "print(xtestdata.shape)"
      ],
      "execution_count": 33,
      "outputs": [
        {
          "output_type": "stream",
          "text": [
            "(6240, 50, 40)\n"
          ],
          "name": "stdout"
        }
      ]
    },
    {
      "cell_type": "code",
      "metadata": {
        "id": "8Xjg0GTaMv7z",
        "colab_type": "code",
        "outputId": "32ac52d3-4693-422a-b3dc-cebbd5708681",
        "colab": {
          "base_uri": "https://localhost:8080/",
          "height": 34
        }
      },
      "source": [
        "preds = model.predict(xtestdata)\n",
        "print(preds.shape)"
      ],
      "execution_count": 34,
      "outputs": [
        {
          "output_type": "stream",
          "text": [
            "(6240, 5065)\n"
          ],
          "name": "stdout"
        }
      ]
    },
    {
      "cell_type": "code",
      "metadata": {
        "id": "CDD6JVXQMwJB",
        "colab_type": "code",
        "outputId": "e162cda2-7ddf-4fd1-b2c3-194718ef704b",
        "colab": {
          "base_uri": "https://localhost:8080/",
          "height": 34
        }
      },
      "source": [
        "myPreds = []\n",
        "for i in preds:\n",
        "    myPreds.append(np.argmax(i))\n",
        "myPreds = np.array(myPreds)\n",
        "print(myPreds.shape)"
      ],
      "execution_count": 35,
      "outputs": [
        {
          "output_type": "stream",
          "text": [
            "(6240,)\n"
          ],
          "name": "stdout"
        }
      ]
    },
    {
      "cell_type": "code",
      "metadata": {
        "id": "LChoEVJGMwP4",
        "colab_type": "code",
        "outputId": "0545c91d-83dc-40b4-d17b-348d3b27805a",
        "colab": {
          "base_uri": "https://localhost:8080/",
          "height": 34
        }
      },
      "source": [
        "count = 0\n",
        "for i in range(myPreds.shape[0]):\n",
        "    if myPreds[i] == y_test[i]:\n",
        "        count += 1\n",
        "\n",
        "acc = (count / myPreds.shape[0]) * 100\n",
        "print(\"Accuracy\", acc)"
      ],
      "execution_count": 36,
      "outputs": [
        {
          "output_type": "stream",
          "text": [
            "Accuracy 52.483974358974365\n"
          ],
          "name": "stdout"
        }
      ]
    },
    {
      "cell_type": "code",
      "metadata": {
        "id": "r-SRgYFBMwU3",
        "colab_type": "code",
        "colab": {}
      },
      "source": [
        ""
      ],
      "execution_count": 0,
      "outputs": []
    }
  ]
}