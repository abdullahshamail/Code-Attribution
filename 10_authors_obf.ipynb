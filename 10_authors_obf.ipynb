{
  "nbformat": 4,
  "nbformat_minor": 0,
  "metadata": {
    "colab": {
      "name": "10_authors_(1) (2).ipynb",
      "version": "0.3.2",
      "provenance": [],
      "collapsed_sections": []
    },
    "kernelspec": {
      "name": "python3",
      "display_name": "Python 3"
    }
  },
  "cells": [
    {
      "cell_type": "code",
      "metadata": {
        "id": "WNO9PdW2Fofa",
        "colab_type": "code",
        "outputId": "ad978b95-9f52-4fd5-861b-9c1539aebfeb",
        "colab": {
          "base_uri": "https://localhost:8080/",
          "height": 34
        }
      },
      "source": [
        "from google.colab import drive\n",
        "import zipfile\n",
        "from keras.layers import Input, Dense, Conv1D, MaxPooling1D, Flatten, Dropout\n",
        "from keras.optimizers import Adam\n",
        "from keras.callbacks import ModelCheckpoint, EarlyStopping, CSVLogger, ReduceLROnPlateau, TensorBoard\n",
        "from keras.models import Model\n",
        "from sklearn.model_selection import train_test_split\n",
        "import keras.backend as K\n",
        "import numpy as np\n",
        "import os\n",
        "import matplotlib.pyplot as plt\n",
        "from mlxtend.evaluate import confusion_matrix\n",
        "from mlxtend.plotting import plot_confusion_matrix\n",
        "from mlxtend.evaluate import confusion_matrix\n",
        "import pandas as pd"
      ],
      "execution_count": 1,
      "outputs": [
        {
          "output_type": "stream",
          "text": [
            "Using TensorFlow backend.\n"
          ],
          "name": "stderr"
        }
      ]
    },
    {
      "cell_type": "code",
      "metadata": {
        "id": "dFEPbKgbFdcY",
        "colab_type": "code",
        "outputId": "615fe439-ccaa-4e57-bab3-0a7275baa734",
        "colab": {
          "base_uri": "https://localhost:8080/",
          "height": 34
        }
      },
      "source": [
        "drive.mount('/content/drive')"
      ],
      "execution_count": 2,
      "outputs": [
        {
          "output_type": "stream",
          "text": [
            "Drive already mounted at /content/drive; to attempt to forcibly remount, call drive.mount(\"/content/drive\", force_remount=True).\n"
          ],
          "name": "stdout"
        }
      ]
    },
    {
      "cell_type": "code",
      "metadata": {
        "id": "14UqAM2aFght",
        "colab_type": "code",
        "colab": {}
      },
      "source": [
        "pathdata17zip = '/content/drive/My Drive/data17.zip'"
      ],
      "execution_count": 0,
      "outputs": []
    },
    {
      "cell_type": "code",
      "metadata": {
        "id": "pE3e-ClvFk2v",
        "colab_type": "code",
        "colab": {}
      },
      "source": [
        "zip_ref = zipfile.ZipFile(pathdata17zip, 'r')\n",
        "zip_ref.extractall(\"/tmp\")\n",
        "zip_ref.close()"
      ],
      "execution_count": 0,
      "outputs": []
    },
    {
      "cell_type": "code",
      "metadata": {
        "id": "pBTH6xeLFm53",
        "colab_type": "code",
        "colab": {}
      },
      "source": [
        "datasetPath = '/tmp/data17'"
      ],
      "execution_count": 0,
      "outputs": []
    },
    {
      "cell_type": "code",
      "metadata": {
        "id": "Hq8BNg1UGANs",
        "colab_type": "code",
        "colab": {}
      },
      "source": [
        "lengths = []\n",
        "minLength = 2000"
      ],
      "execution_count": 0,
      "outputs": []
    },
    {
      "cell_type": "code",
      "metadata": {
        "id": "jocd6PgrG0md",
        "colab_type": "code",
        "colab": {}
      },
      "source": [
        "def padding(fname):\n",
        "    f = open(fname, \"r\")\n",
        "    y = f.read()\n",
        "    f.close()\n",
        "    \n",
        "    origy = y\n",
        "    while (len(y) < minLength):\n",
        "        y += origy\n",
        "        \n",
        "    f = open(fname, \"w\")\n",
        "    f.write(y)\n",
        "    f.close()\n",
        "    return y"
      ],
      "execution_count": 0,
      "outputs": []
    },
    {
      "cell_type": "code",
      "metadata": {
        "id": "TC-ja9YuG4k5",
        "colab_type": "code",
        "outputId": "ce43c723-954b-4d62-d90b-17452c2c567c",
        "colab": {
          "base_uri": "https://localhost:8080/",
          "height": 71
        }
      },
      "source": [
        "top_10 = [0,0,0,0,0,0,0,0,0,0]\n",
        "top_dir = ['','','','','','','','','','']\n",
        "for r,d,f in os.walk(datasetPath):\n",
        "  for di in d:\n",
        "    for r1, d1, f1 in os.walk(os.path.join(r, di)):\n",
        "      _len = len(f1)\n",
        "      for i, ind in enumerate(top_10):\n",
        "        if _len > top_10[i]:\n",
        "          top_10[i] = _len\n",
        "          top_dir[i] = os.path.join(r, di)\n",
        "          break\n",
        "print(top_10)\n",
        "print(top_dir)\n",
        "names = []\n",
        "for auth in top_dir:\n",
        "  names.append(auth.split('/')[-1])"
      ],
      "execution_count": 8,
      "outputs": [
        {
          "output_type": "stream",
          "text": [
            "[32, 32, 27, 24, 21, 21, 21, 21, 21, 21]\n",
            "['/tmp/data17/Xellos', '/tmp/data17/simonlindholm', '/tmp/data17/Mysteryname', '/tmp/data17/Osama.Hatem', '/tmp/data17/abhishek1408', '/tmp/data17/minhnpqrs', '/tmp/data17/Estelle', '/tmp/data17/MightyBear', '/tmp/data17/nhho', '/tmp/data17/LEcry']\n"
          ],
          "name": "stdout"
        }
      ]
    },
    {
      "cell_type": "code",
      "metadata": {
        "id": "bCmt86ivuqpF",
        "colab_type": "code",
        "outputId": "2dd14b85-7237-4285-d31b-18c5c4ddd364",
        "colab": {
          "base_uri": "https://localhost:8080/",
          "height": 34
        }
      },
      "source": [
        "print(names)"
      ],
      "execution_count": 9,
      "outputs": [
        {
          "output_type": "stream",
          "text": [
            "['Xellos', 'simonlindholm', 'Mysteryname', 'Osama.Hatem', 'abhishek1408', 'minhnpqrs', 'Estelle', 'MightyBear', 'nhho', 'LEcry']\n"
          ],
          "name": "stdout"
        }
      ]
    },
    {
      "cell_type": "code",
      "metadata": {
        "id": "GWzZKNBoJEhr",
        "colab_type": "code",
        "outputId": "50ccf516-8b2e-4c43-bbab-123141d0e27a",
        "colab": {
          "base_uri": "https://localhost:8080/",
          "height": 54
        }
      },
      "source": [
        "inp = []\n",
        "out = []\n",
        "count = 0\n",
        "for di in top_dir:\n",
        "  for r, d, f in os.walk(di):\n",
        "    for fil in f:\n",
        "      inp.append(os.path.join(r, fil))\n",
        "      out.append(count)\n",
        "  count += 1\n",
        "print(out)"
      ],
      "execution_count": 10,
      "outputs": [
        {
          "output_type": "stream",
          "text": [
            "[0, 0, 0, 0, 0, 0, 0, 0, 0, 0, 0, 0, 0, 0, 0, 0, 0, 0, 0, 0, 0, 0, 0, 0, 0, 0, 0, 0, 0, 0, 0, 0, 1, 1, 1, 1, 1, 1, 1, 1, 1, 1, 1, 1, 1, 1, 1, 1, 1, 1, 1, 1, 1, 1, 1, 1, 1, 1, 1, 1, 1, 1, 1, 1, 2, 2, 2, 2, 2, 2, 2, 2, 2, 2, 2, 2, 2, 2, 2, 2, 2, 2, 2, 2, 2, 2, 2, 2, 2, 2, 2, 3, 3, 3, 3, 3, 3, 3, 3, 3, 3, 3, 3, 3, 3, 3, 3, 3, 3, 3, 3, 3, 3, 3, 3, 4, 4, 4, 4, 4, 4, 4, 4, 4, 4, 4, 4, 4, 4, 4, 4, 4, 4, 4, 4, 4, 5, 5, 5, 5, 5, 5, 5, 5, 5, 5, 5, 5, 5, 5, 5, 5, 5, 5, 5, 5, 5, 6, 6, 6, 6, 6, 6, 6, 6, 6, 6, 6, 6, 6, 6, 6, 6, 6, 6, 6, 6, 6, 7, 7, 7, 7, 7, 7, 7, 7, 7, 7, 7, 7, 7, 7, 7, 7, 7, 7, 7, 7, 7, 8, 8, 8, 8, 8, 8, 8, 8, 8, 8, 8, 8, 8, 8, 8, 8, 8, 8, 8, 8, 8, 9, 9, 9, 9, 9, 9, 9, 9, 9, 9, 9, 9, 9, 9, 9, 9, 9, 9, 9, 9, 9]\n"
          ],
          "name": "stdout"
        }
      ]
    },
    {
      "cell_type": "code",
      "metadata": {
        "id": "dGX8X7vgKFrs",
        "colab_type": "code",
        "outputId": "648f74af-218b-48a0-d314-25c155562766",
        "colab": {
          "base_uri": "https://localhost:8080/",
          "height": 34
        }
      },
      "source": [
        "len(inp)"
      ],
      "execution_count": 11,
      "outputs": [
        {
          "output_type": "execute_result",
          "data": {
            "text/plain": [
              "241"
            ]
          },
          "metadata": {
            "tags": []
          },
          "execution_count": 11
        }
      ]
    },
    {
      "cell_type": "code",
      "metadata": {
        "id": "XiZC3P2SML8a",
        "colab_type": "code",
        "colab": {}
      },
      "source": [
        "counter = [0]"
      ],
      "execution_count": 0,
      "outputs": []
    },
    {
      "cell_type": "code",
      "metadata": {
        "id": "nCnwFzuFMRgx",
        "colab_type": "code",
        "colab": {}
      },
      "source": [
        "x_train = []\n",
        "x_test = []\n",
        "y_train = []\n",
        "y_test = []\n",
        "x_val = []\n",
        "y_val = []"
      ],
      "execution_count": 0,
      "outputs": []
    },
    {
      "cell_type": "code",
      "metadata": {
        "id": "qPPOz1HiMVIp",
        "colab_type": "code",
        "outputId": "5d878b06-dda0-4168-da1f-ecae7d90ca18",
        "colab": {
          "base_uri": "https://localhost:8080/",
          "height": 68
        }
      },
      "source": [
        "for i in range(0,3):\n",
        "    print(i)\n",
        "    lengths = []\n",
        "    count = 0\n",
        "    for fil in inp:\n",
        "        f = open(fil, \"r\")\n",
        "        x = f.read()\n",
        "        y = x.split()\n",
        "        f.close()\n",
        "        if(len(x) <= 100):\n",
        "            inp.remove(fil)\n",
        "        elif len(x) == 0:\n",
        "            inp.remove(fil)\n",
        "        elif(len(y) < minLength):\n",
        "            x = padding(fil)\n",
        "            lengths.append(len(x))\n",
        "        else:\n",
        "            lengths.append(len(x))"
      ],
      "execution_count": 14,
      "outputs": [
        {
          "output_type": "stream",
          "text": [
            "0\n",
            "1\n",
            "2\n"
          ],
          "name": "stdout"
        }
      ]
    },
    {
      "cell_type": "code",
      "metadata": {
        "id": "2shnl-ynluid",
        "colab_type": "code",
        "colab": {}
      },
      "source": [
        "x_train, X_test, y_train, Y_test = train_test_split(inp, out, test_size=0.2, random_state = 42)\n",
        "X_train, X_val, Y_train, Y_val = train_test_split(x_train, y_train, test_size=0.2, random_state = 42)"
      ],
      "execution_count": 0,
      "outputs": []
    },
    {
      "cell_type": "markdown",
      "metadata": {
        "id": "Cu0HD24gsJsL",
        "colab_type": "text"
      },
      "source": [
        "for d in top_dir:\n",
        "  check(os.path.join(r, d), counter)"
      ]
    },
    {
      "cell_type": "code",
      "metadata": {
        "id": "tKS5ZPHtMeMt",
        "colab_type": "code",
        "outputId": "b1ca2e25-f98f-4b55-ad81-356d8c4e486d",
        "colab": {
          "base_uri": "https://localhost:8080/",
          "height": 51
        }
      },
      "source": [
        "_check = []\n",
        "for x in y_train:\n",
        "  if x not in _check:\n",
        "    _check.append(x)\n",
        "print(len(_check))\n",
        "print(counter)"
      ],
      "execution_count": 52,
      "outputs": [
        {
          "output_type": "stream",
          "text": [
            "10\n",
            "[0]\n"
          ],
          "name": "stdout"
        }
      ]
    },
    {
      "cell_type": "code",
      "metadata": {
        "id": "PjzgCSA-tzuS",
        "colab_type": "code",
        "colab": {}
      },
      "source": [
        "X_train = np.array(X_train)\n",
        "X_test = np.array(X_test)\n",
        "X_val = np.array(X_val)\n",
        "Y_train = np.array(Y_train)\n",
        "Y_test = np.array(Y_test)\n",
        "Y_val = np.array(Y_val)"
      ],
      "execution_count": 0,
      "outputs": []
    },
    {
      "cell_type": "markdown",
      "metadata": {
        "id": "_A4DkE25Nu_U",
        "colab_type": "text"
      },
      "source": [
        "x_train = np.array(X_train)\n",
        "x_test = np.array(X_test)\n",
        "x_val = np.array(X_val)\n",
        "y_train = np.array(Y_train)\n",
        "y_test = np.array(Y_test)\n",
        "y_val = np.array(Y_val)"
      ]
    },
    {
      "cell_type": "markdown",
      "metadata": {
        "id": "LyXGXm_DNydG",
        "colab_type": "text"
      },
      "source": [
        "indices = np.arange(x_train.shape[0])\n",
        "np.random.shuffle(indices)\n",
        "x_train = x_train[indices]\n",
        "y_train = y_train[indices]\n",
        "\n",
        "indices = np.arange(x_test.shape[0])\n",
        "np.random.shuffle(indices)\n",
        "x_test = x_test[indices]\n",
        "y_test = y_test[indices]\n",
        "\n",
        "indices = np.arange(x_val.shape[0])\n",
        "np.random.shuffle(indices)\n",
        "x_val = x_val[indices]\n",
        "y_val = y_val[indices]"
      ]
    },
    {
      "cell_type": "code",
      "metadata": {
        "id": "FzLRpP3bN2sn",
        "colab_type": "code",
        "outputId": "85a2111a-f77b-430d-e813-7f2b71e6fa35",
        "colab": {
          "base_uri": "https://localhost:8080/",
          "height": 34
        }
      },
      "source": [
        "vocab = {}\n",
        "count = [0]\n",
        "for fil in inp:\n",
        "  f = open(fil)\n",
        "  x = f.read()\n",
        "  for line in x:\n",
        "    for letter in line:\n",
        "      if letter not in vocab.keys():\n",
        "        vocab[letter] = count[0]\n",
        "        count[0] += 1 \n",
        "print(count)"
      ],
      "execution_count": 54,
      "outputs": [
        {
          "output_type": "stream",
          "text": [
            "[94]\n"
          ],
          "name": "stdout"
        }
      ]
    },
    {
      "cell_type": "code",
      "metadata": {
        "id": "iftDKeQfN-AQ",
        "colab_type": "code",
        "colab": {}
      },
      "source": [
        "def getFiles(path):\n",
        "    matrix = []\n",
        "    for p in path:\n",
        "        tmp = np.zeros((50, 40), dtype = int)\n",
        "        f = open(p)\n",
        "        for i in range(0,50):\n",
        "            for j in range(0, 40):\n",
        "                tmp[i][j] = vocab[f.read(1)]\n",
        "        matrix.append(tmp)\n",
        "    return np.array(matrix)"
      ],
      "execution_count": 0,
      "outputs": []
    },
    {
      "cell_type": "code",
      "metadata": {
        "id": "8XUQ3h4NOGys",
        "colab_type": "code",
        "colab": {}
      },
      "source": [
        "num_classes = 10\n",
        "input_shape = (50, 40)\n",
        "batch_size = 2\n",
        "def data_generator(file_paths, author_numbers):\n",
        "    batch_start = 0\n",
        "    batch_end = batch_start + batch_size\n",
        "    n = file_paths.shape[0]\n",
        "    indexes = np.arange(0, n, batch_size)\n",
        "    if n % batch_size != 0:\n",
        "        indexes = indexes[:-1] \n",
        "    while True:\n",
        "        np.random.shuffle(indexes)\n",
        "        for ind in indexes:\n",
        "            batch_start = ind\n",
        "            batch_end = batch_start + batch_size\n",
        "            myFiles = file_paths[batch_start:batch_end]\n",
        "            batch_files = getFiles(myFiles)\n",
        "            batch_authors = author_numbers[batch_start:batch_end]\n",
        "            batch_x = np.zeros((batch_size, 50, 40))\n",
        "            tmp = np.zeros((batch_size, num_classes))\n",
        "            batch_x = np.array( batch_files )\n",
        "            for i, j in enumerate(batch_authors):\n",
        "                tmp[i][j] = 1\n",
        "            batch_y = np.array( tmp )\n",
        "            yield( batch_x, batch_y )"
      ],
      "execution_count": 0,
      "outputs": []
    },
    {
      "cell_type": "code",
      "metadata": {
        "id": "zDbVHJ85OJhE",
        "colab_type": "code",
        "colab": {}
      },
      "source": [
        "input_fil = Input(shape=(input_shape), name='input_fil')\n",
        "conv1 = Conv1D(128, kernel_size=7, strides = 2,  activation='relu')(input_fil)\n",
        "drop1 = Dropout(0.2)(conv1)\n",
        "conv = Conv1D(64, kernel_size=7, strides = 2,  activation='relu')(drop1)\n",
        "maxP = MaxPooling1D()(conv)\n",
        "flat = Flatten()(maxP)\n",
        "output_class = Dense(num_classes, activation='softmax')(flat)\n",
        "\n",
        "model = Model(inputs=input_fil, outputs=output_class)"
      ],
      "execution_count": 0,
      "outputs": []
    },
    {
      "cell_type": "code",
      "metadata": {
        "id": "xqNgTEQxOK4O",
        "colab_type": "code",
        "outputId": "5c0d8ec7-4aea-4552-d072-cb8d52872b7f",
        "colab": {
          "base_uri": "https://localhost:8080/",
          "height": 391
        }
      },
      "source": [
        "adam = Adam(lr=0.0001)\n",
        "model.compile(loss='categorical_crossentropy', \n",
        "              optimizer=adam, \n",
        "              metrics=['accuracy'])\n",
        "\n",
        "model.summary()"
      ],
      "execution_count": 58,
      "outputs": [
        {
          "output_type": "stream",
          "text": [
            "Model: \"model_3\"\n",
            "_________________________________________________________________\n",
            "Layer (type)                 Output Shape              Param #   \n",
            "=================================================================\n",
            "input_fil (InputLayer)       (None, 50, 40)            0         \n",
            "_________________________________________________________________\n",
            "conv1d_5 (Conv1D)            (None, 22, 128)           35968     \n",
            "_________________________________________________________________\n",
            "dropout_3 (Dropout)          (None, 22, 128)           0         \n",
            "_________________________________________________________________\n",
            "conv1d_6 (Conv1D)            (None, 8, 64)             57408     \n",
            "_________________________________________________________________\n",
            "max_pooling1d_3 (MaxPooling1 (None, 4, 64)             0         \n",
            "_________________________________________________________________\n",
            "flatten_3 (Flatten)          (None, 256)               0         \n",
            "_________________________________________________________________\n",
            "dense_3 (Dense)              (None, 10)                2570      \n",
            "=================================================================\n",
            "Total params: 95,946\n",
            "Trainable params: 95,946\n",
            "Non-trainable params: 0\n",
            "_________________________________________________________________\n"
          ],
          "name": "stdout"
        }
      ]
    },
    {
      "cell_type": "code",
      "metadata": {
        "id": "VzBlEZRAONP3",
        "colab_type": "code",
        "colab": {}
      },
      "source": [
        "train_gen = data_generator(X_train, Y_train)\n",
        "test_gen = data_generator(X_test, Y_test)\n",
        "val_gen = data_generator(X_val, Y_val)"
      ],
      "execution_count": 0,
      "outputs": []
    },
    {
      "cell_type": "code",
      "metadata": {
        "id": "vcolzyONOPHr",
        "colab_type": "code",
        "outputId": "09b0accc-df0c-41f1-9308-12cdc659b3a3",
        "colab": {
          "base_uri": "https://localhost:8080/",
          "height": 697
        }
      },
      "source": [
        "hist1 = model.fit_generator(train_gen, epochs=20, steps_per_epoch=len(Y_train)//batch_size, \n",
        "                           validation_data=val_gen, validation_steps=len(Y_val)//batch_size, verbose=1)"
      ],
      "execution_count": 60,
      "outputs": [
        {
          "output_type": "stream",
          "text": [
            "Epoch 1/20\n",
            "76/76 [==============================] - 1s 13ms/step - loss: 12.0621 - acc: 0.1908 - val_loss: 12.5418 - val_acc: 0.1053\n",
            "Epoch 2/20\n",
            "76/76 [==============================] - 1s 7ms/step - loss: 10.4994 - acc: 0.2434 - val_loss: 11.6929 - val_acc: 0.1842\n",
            "Epoch 3/20\n",
            "76/76 [==============================] - 1s 7ms/step - loss: 9.7045 - acc: 0.2895 - val_loss: 8.9629 - val_acc: 0.2895\n",
            "Epoch 4/20\n",
            "76/76 [==============================] - 1s 8ms/step - loss: 5.7388 - acc: 0.5592 - val_loss: 6.2051 - val_acc: 0.4474\n",
            "Epoch 5/20\n",
            "76/76 [==============================] - 1s 8ms/step - loss: 5.5504 - acc: 0.5132 - val_loss: 6.9165 - val_acc: 0.4211\n",
            "Epoch 6/20\n",
            "76/76 [==============================] - 1s 7ms/step - loss: 4.5290 - acc: 0.5724 - val_loss: 5.6150 - val_acc: 0.4737\n",
            "Epoch 7/20\n",
            "76/76 [==============================] - 1s 8ms/step - loss: 3.4158 - acc: 0.6513 - val_loss: 5.5460 - val_acc: 0.4474\n",
            "Epoch 8/20\n",
            "76/76 [==============================] - 1s 8ms/step - loss: 2.6846 - acc: 0.7434 - val_loss: 5.5623 - val_acc: 0.4474\n",
            "Epoch 9/20\n",
            "76/76 [==============================] - 1s 7ms/step - loss: 1.9971 - acc: 0.7697 - val_loss: 3.7588 - val_acc: 0.6053\n",
            "Epoch 10/20\n",
            "76/76 [==============================] - 1s 8ms/step - loss: 1.8277 - acc: 0.7895 - val_loss: 3.4466 - val_acc: 0.6053\n",
            "Epoch 11/20\n",
            "76/76 [==============================] - 1s 8ms/step - loss: 1.6367 - acc: 0.8224 - val_loss: 3.4108 - val_acc: 0.6053\n",
            "Epoch 12/20\n",
            "76/76 [==============================] - 1s 8ms/step - loss: 1.3634 - acc: 0.8224 - val_loss: 2.9568 - val_acc: 0.6053\n",
            "Epoch 13/20\n",
            "76/76 [==============================] - 1s 7ms/step - loss: 0.8072 - acc: 0.8618 - val_loss: 3.8145 - val_acc: 0.6053\n",
            "Epoch 14/20\n",
            "76/76 [==============================] - 1s 7ms/step - loss: 0.3433 - acc: 0.9276 - val_loss: 3.7067 - val_acc: 0.6316\n",
            "Epoch 15/20\n",
            "76/76 [==============================] - 1s 7ms/step - loss: 0.4464 - acc: 0.9276 - val_loss: 3.7119 - val_acc: 0.6053\n",
            "Epoch 16/20\n",
            "76/76 [==============================] - 1s 7ms/step - loss: 0.3603 - acc: 0.9079 - val_loss: 3.5044 - val_acc: 0.6053\n",
            "Epoch 17/20\n",
            "76/76 [==============================] - 1s 8ms/step - loss: 0.3206 - acc: 0.9342 - val_loss: 3.1510 - val_acc: 0.6316\n",
            "Epoch 18/20\n",
            "76/76 [==============================] - 1s 7ms/step - loss: 0.1231 - acc: 0.9671 - val_loss: 4.0266 - val_acc: 0.6579\n",
            "Epoch 19/20\n",
            "76/76 [==============================] - 1s 8ms/step - loss: 0.2475 - acc: 0.9671 - val_loss: 2.7238 - val_acc: 0.6579\n",
            "Epoch 20/20\n",
            "76/76 [==============================] - 1s 7ms/step - loss: 0.0291 - acc: 0.9868 - val_loss: 2.8628 - val_acc: 0.6579\n"
          ],
          "name": "stdout"
        }
      ]
    },
    {
      "cell_type": "code",
      "metadata": {
        "id": "5Qr17GkJOTbs",
        "colab_type": "code",
        "outputId": "8bc5f67b-5b0a-44df-e2fc-567ae644fdf1",
        "colab": {
          "base_uri": "https://localhost:8080/",
          "height": 34
        }
      },
      "source": [
        "xtestdata = getFiles(X_test)\n",
        "print(xtestdata.shape)"
      ],
      "execution_count": 61,
      "outputs": [
        {
          "output_type": "stream",
          "text": [
            "(49, 50, 40)\n"
          ],
          "name": "stdout"
        }
      ]
    },
    {
      "cell_type": "code",
      "metadata": {
        "id": "pqq5Zk0WO9_d",
        "colab_type": "code",
        "outputId": "d685b9df-fccb-44fc-b22e-4b856a34a731",
        "colab": {
          "base_uri": "https://localhost:8080/",
          "height": 34
        }
      },
      "source": [
        "preds = model.predict(xtestdata)\n",
        "print(preds.shape)"
      ],
      "execution_count": 62,
      "outputs": [
        {
          "output_type": "stream",
          "text": [
            "(49, 10)\n"
          ],
          "name": "stdout"
        }
      ]
    },
    {
      "cell_type": "code",
      "metadata": {
        "id": "4g83iNhiO_qg",
        "colab_type": "code",
        "outputId": "1d92d855-2aa2-4e51-9639-0bc75b6421f3",
        "colab": {
          "base_uri": "https://localhost:8080/",
          "height": 34
        }
      },
      "source": [
        "myPreds = []\n",
        "for i in preds:\n",
        "    myPreds.append(np.argmax(i))\n",
        "myPreds = np.array(myPreds)\n",
        "print(myPreds.shape)"
      ],
      "execution_count": 63,
      "outputs": [
        {
          "output_type": "stream",
          "text": [
            "(49,)\n"
          ],
          "name": "stdout"
        }
      ]
    },
    {
      "cell_type": "code",
      "metadata": {
        "id": "J4HVeOgLPBQr",
        "colab_type": "code",
        "outputId": "159ac451-fb3e-427f-a814-db2b20e691bc",
        "colab": {
          "base_uri": "https://localhost:8080/",
          "height": 34
        }
      },
      "source": [
        "count = 0\n",
        "for i in range(myPreds.shape[0]):\n",
        "    if myPreds[i] == Y_test[i]:\n",
        "        count += 1\n",
        "\n",
        "acc = (count / myPreds.shape[0]) * 100\n",
        "print(\"Accuracy\", acc)"
      ],
      "execution_count": 64,
      "outputs": [
        {
          "output_type": "stream",
          "text": [
            "Accuracy 77.55102040816327\n"
          ],
          "name": "stdout"
        }
      ]
    },
    {
      "cell_type": "code",
      "metadata": {
        "id": "B0-qOEv6PEMr",
        "colab_type": "code",
        "outputId": "d45612e8-e8d6-4264-878f-25ed7926a8cd",
        "colab": {
          "base_uri": "https://localhost:8080/",
          "height": 359
        }
      },
      "source": [
        "\n",
        "names = list(names)\n",
        "values = list([0,1,2,3,4,5,6,7,8,9])\n",
        "pd.DataFrame.from_dict({'Values': values, 'Names': names})"
      ],
      "execution_count": 65,
      "outputs": [
        {
          "output_type": "execute_result",
          "data": {
            "text/html": [
              "<div>\n",
              "<style scoped>\n",
              "    .dataframe tbody tr th:only-of-type {\n",
              "        vertical-align: middle;\n",
              "    }\n",
              "\n",
              "    .dataframe tbody tr th {\n",
              "        vertical-align: top;\n",
              "    }\n",
              "\n",
              "    .dataframe thead th {\n",
              "        text-align: right;\n",
              "    }\n",
              "</style>\n",
              "<table border=\"1\" class=\"dataframe\">\n",
              "  <thead>\n",
              "    <tr style=\"text-align: right;\">\n",
              "      <th></th>\n",
              "      <th>Values</th>\n",
              "      <th>Names</th>\n",
              "    </tr>\n",
              "  </thead>\n",
              "  <tbody>\n",
              "    <tr>\n",
              "      <th>0</th>\n",
              "      <td>0</td>\n",
              "      <td>Xellos</td>\n",
              "    </tr>\n",
              "    <tr>\n",
              "      <th>1</th>\n",
              "      <td>1</td>\n",
              "      <td>simonlindholm</td>\n",
              "    </tr>\n",
              "    <tr>\n",
              "      <th>2</th>\n",
              "      <td>2</td>\n",
              "      <td>Mysteryname</td>\n",
              "    </tr>\n",
              "    <tr>\n",
              "      <th>3</th>\n",
              "      <td>3</td>\n",
              "      <td>Osama.Hatem</td>\n",
              "    </tr>\n",
              "    <tr>\n",
              "      <th>4</th>\n",
              "      <td>4</td>\n",
              "      <td>abhishek1408</td>\n",
              "    </tr>\n",
              "    <tr>\n",
              "      <th>5</th>\n",
              "      <td>5</td>\n",
              "      <td>minhnpqrs</td>\n",
              "    </tr>\n",
              "    <tr>\n",
              "      <th>6</th>\n",
              "      <td>6</td>\n",
              "      <td>Estelle</td>\n",
              "    </tr>\n",
              "    <tr>\n",
              "      <th>7</th>\n",
              "      <td>7</td>\n",
              "      <td>MightyBear</td>\n",
              "    </tr>\n",
              "    <tr>\n",
              "      <th>8</th>\n",
              "      <td>8</td>\n",
              "      <td>nhho</td>\n",
              "    </tr>\n",
              "    <tr>\n",
              "      <th>9</th>\n",
              "      <td>9</td>\n",
              "      <td>LEcry</td>\n",
              "    </tr>\n",
              "  </tbody>\n",
              "</table>\n",
              "</div>"
            ],
            "text/plain": [
              "   Values          Names\n",
              "0       0         Xellos\n",
              "1       1  simonlindholm\n",
              "2       2    Mysteryname\n",
              "3       3    Osama.Hatem\n",
              "4       4   abhishek1408\n",
              "5       5      minhnpqrs\n",
              "6       6        Estelle\n",
              "7       7     MightyBear\n",
              "8       8           nhho\n",
              "9       9          LEcry"
            ]
          },
          "metadata": {
            "tags": []
          },
          "execution_count": 65
        }
      ]
    },
    {
      "cell_type": "code",
      "metadata": {
        "id": "2zrQmHfvV68B",
        "colab_type": "code",
        "colab": {}
      },
      "source": [
        "y_target = Y_test\n",
        "y_predicted = myPreds\n",
        "\n",
        "cm = confusion_matrix(y_target=y_target, \n",
        "                      y_predicted=y_predicted, \n",
        "                      binary=False)\n",
        "# cm"
      ],
      "execution_count": 0,
      "outputs": []
    },
    {
      "cell_type": "code",
      "metadata": {
        "id": "Ns_efVSPV-iO",
        "colab_type": "code",
        "outputId": "cc22bfef-063d-4d6d-ce2e-4543c8f127e3",
        "colab": {
          "base_uri": "https://localhost:8080/",
          "height": 283
        }
      },
      "source": [
        "fig, ax = plot_confusion_matrix(conf_mat=cm)\n",
        "plt.show()"
      ],
      "execution_count": 67,
      "outputs": [
        {
          "output_type": "display_data",
          "data": {
            "image/png": "[encoded data removed]",
            "text/plain": [
              "<Figure size 432x288 with 1 Axes>"
            ]
          },
          "metadata": {
            "tags": []
          }
        }
      ]
    },
    {
      "cell_type": "code",
      "metadata": {
        "id": "VhFf6DXnWsQk",
        "colab_type": "code",
        "outputId": "7f7a808d-d108-4315-a445-03ff0fcf4370",
        "colab": {
          "base_uri": "https://localhost:8080/",
          "height": 51
        }
      },
      "source": [
        "print(len(Y_test))\n",
        "print(len(X_train))"
      ],
      "execution_count": 68,
      "outputs": [
        {
          "output_type": "stream",
          "text": [
            "49\n",
            "153\n"
          ],
          "name": "stdout"
        }
      ]
    },
    {
      "cell_type": "code",
      "metadata": {
        "id": "IxCXt99fvX1o",
        "colab_type": "code",
        "colab": {}
      },
      "source": [
        "path = '/content/drive/My Drive/files/obf_before'\n",
        "inp = []\n",
        "\n",
        "for r,d,f in os.walk(path):\n",
        "  for fil in f:\n",
        "    inp.append(os.path.join(r,fil))"
      ],
      "execution_count": 0,
      "outputs": []
    },
    {
      "cell_type": "code",
      "metadata": {
        "id": "_gGgIigUUBh1",
        "colab_type": "code",
        "colab": {
          "base_uri": "https://localhost:8080/",
          "height": 68
        },
        "outputId": "1d758478-63b0-45d6-c456-85924a302fe8"
      },
      "source": [
        "for i in range(0,3):\n",
        "    print(i)\n",
        "    lengths = []\n",
        "    count = 0\n",
        "    for fil in inp:\n",
        "        f = open(fil, \"r\")\n",
        "        x = f.read()\n",
        "        y = x.split()\n",
        "        f.close()\n",
        "        if(len(x) <= 100):\n",
        "            inp.remove(fil)\n",
        "        elif len(x) == 0:\n",
        "            inp.remove(fil)\n",
        "        elif(len(y) < minLength):\n",
        "            x = padding(fil)\n",
        "            lengths.append(len(x))\n",
        "        else:\n",
        "            lengths.append(len(x))"
      ],
      "execution_count": 93,
      "outputs": [
        {
          "output_type": "stream",
          "text": [
            "0\n",
            "1\n",
            "2\n"
          ],
          "name": "stdout"
        }
      ]
    },
    {
      "cell_type": "code",
      "metadata": {
        "id": "Mb8ACChmR0zN",
        "colab_type": "code",
        "colab": {}
      },
      "source": [
        "Y_test = [0,0,0,0,0,1,5,5,5,5,5,5,5,5,5,5,5,5,5,6,6,6,6,6,6,6,6,6,6,6,6,6,6,6,6,8,8,8,8,8,8,9,9,9,9,9,9,9,9,9,9,9]\n",
        "x_test_data = getFiles(inp)"
      ],
      "execution_count": 0,
      "outputs": []
    },
    {
      "cell_type": "code",
      "metadata": {
        "id": "xzMFSyCLSDG1",
        "colab_type": "code",
        "colab": {}
      },
      "source": [
        "preds = model.predict(x_test_data)"
      ],
      "execution_count": 0,
      "outputs": []
    },
    {
      "cell_type": "code",
      "metadata": {
        "id": "tKgwPyfzUSwH",
        "colab_type": "code",
        "colab": {
          "base_uri": "https://localhost:8080/",
          "height": 34
        },
        "outputId": "32634e8d-85d6-435e-a7c5-10f54ed1158b"
      },
      "source": [
        "myPreds = []\n",
        "for i in preds:\n",
        "    myPreds.append(np.argmax(i))\n",
        "myPreds = np.array(myPreds)\n",
        "print(myPreds.shape)"
      ],
      "execution_count": 96,
      "outputs": [
        {
          "output_type": "stream",
          "text": [
            "(52,)\n"
          ],
          "name": "stdout"
        }
      ]
    },
    {
      "cell_type": "code",
      "metadata": {
        "id": "ALUb2fcTUkOG",
        "colab_type": "code",
        "colab": {
          "base_uri": "https://localhost:8080/",
          "height": 34
        },
        "outputId": "1e7e8f77-ab76-4205-d2f8-73900994055f"
      },
      "source": [
        "print(len(Y_test))"
      ],
      "execution_count": 97,
      "outputs": [
        {
          "output_type": "stream",
          "text": [
            "52\n"
          ],
          "name": "stdout"
        }
      ]
    },
    {
      "cell_type": "code",
      "metadata": {
        "id": "ys5FuWtcUZkf",
        "colab_type": "code",
        "colab": {
          "base_uri": "https://localhost:8080/",
          "height": 34
        },
        "outputId": "a97d939b-b370-485c-cd01-8cc7d425aa83"
      },
      "source": [
        "count = 0\n",
        "for i in range(myPreds.shape[0]):\n",
        "    if myPreds[i] == Y_test[i]:\n",
        "        count += 1\n",
        "\n",
        "acc = (count / myPreds.shape[0]) * 100\n",
        "print(\"Accuracy\", acc)"
      ],
      "execution_count": 98,
      "outputs": [
        {
          "output_type": "stream",
          "text": [
            "Accuracy 78.84615384615384\n"
          ],
          "name": "stdout"
        }
      ]
    },
    {
      "cell_type": "code",
      "metadata": {
        "id": "QQv2bnCiUcx6",
        "colab_type": "code",
        "colab": {}
      },
      "source": [
        "path = '/content/drive/My Drive/files/obf_after'\n",
        "inp = []\n",
        "\n",
        "for r,d,f in os.walk(path):\n",
        "  for fil in f:\n",
        "    inp.append(os.path.join(r,fil))"
      ],
      "execution_count": 0,
      "outputs": []
    },
    {
      "cell_type": "code",
      "metadata": {
        "id": "wTj3ZGbpVX06",
        "colab_type": "code",
        "colab": {
          "base_uri": "https://localhost:8080/",
          "height": 68
        },
        "outputId": "a6691408-ca16-44b1-c215-da17dda674c3"
      },
      "source": [
        "for i in range(0,3):\n",
        "    print(i)\n",
        "    lengths = []\n",
        "    count = 0\n",
        "    for fil in inp:\n",
        "        f = open(fil, \"r\")\n",
        "        x = f.read()\n",
        "        y = x.split()\n",
        "        f.close()\n",
        "        if(len(x) <= 100):\n",
        "            inp.remove(fil)\n",
        "        elif len(x) == 0:\n",
        "            inp.remove(fil)\n",
        "        elif(len(y) < minLength):\n",
        "            x = padding(fil)\n",
        "            lengths.append(len(x))\n",
        "        else:\n",
        "            lengths.append(len(x))"
      ],
      "execution_count": 100,
      "outputs": [
        {
          "output_type": "stream",
          "text": [
            "0\n",
            "1\n",
            "2\n"
          ],
          "name": "stdout"
        }
      ]
    },
    {
      "cell_type": "code",
      "metadata": {
        "id": "6ng6ELPUVdKc",
        "colab_type": "code",
        "colab": {}
      },
      "source": [
        "Y_test = [0,0,0,0,0,1,5,5,5,5,5,5,5,5,5,5,5,5,5,6,6,6,6,6,6,6,6,6,6,6,6,6,6,6,6,8,8,8,8,8,8,9,9,9,9,9,9,9,9,9,9,9]\n",
        "x_test_data = getFiles(inp)"
      ],
      "execution_count": 0,
      "outputs": []
    },
    {
      "cell_type": "code",
      "metadata": {
        "id": "rofPQwTeVqaT",
        "colab_type": "code",
        "colab": {}
      },
      "source": [
        "preds = model.predict(x_test_data)"
      ],
      "execution_count": 0,
      "outputs": []
    },
    {
      "cell_type": "code",
      "metadata": {
        "id": "e5zZQMtuVxfs",
        "colab_type": "code",
        "colab": {
          "base_uri": "https://localhost:8080/",
          "height": 34
        },
        "outputId": "ff425a63-1324-4856-9de3-6f6cfa129da0"
      },
      "source": [
        "myPreds = []\n",
        "for i in preds:\n",
        "    myPreds.append(np.argmax(i))\n",
        "myPreds = np.array(myPreds)\n",
        "print(myPreds.shape)"
      ],
      "execution_count": 103,
      "outputs": [
        {
          "output_type": "stream",
          "text": [
            "(52,)\n"
          ],
          "name": "stdout"
        }
      ]
    },
    {
      "cell_type": "code",
      "metadata": {
        "id": "uSrMPqacVx5-",
        "colab_type": "code",
        "colab": {
          "base_uri": "https://localhost:8080/",
          "height": 34
        },
        "outputId": "8cc6c08d-40b5-4854-fe0a-e46d084d0a42"
      },
      "source": [
        "count = 0\n",
        "for i in range(myPreds.shape[0]):\n",
        "    if myPreds[i] == Y_test[i]:\n",
        "        count += 1\n",
        "\n",
        "acc = (count / myPreds.shape[0]) * 100\n",
        "print(\"Accuracy\", acc)"
      ],
      "execution_count": 104,
      "outputs": [
        {
          "output_type": "stream",
          "text": [
            "Accuracy 26.923076923076923\n"
          ],
          "name": "stdout"
        }
      ]
    },
    {
      "cell_type": "code",
      "metadata": {
        "id": "zphYsslVV0cP",
        "colab_type": "code",
        "colab": {}
      },
      "source": [
        ""
      ],
      "execution_count": 0,
      "outputs": []
    }
  ]
}