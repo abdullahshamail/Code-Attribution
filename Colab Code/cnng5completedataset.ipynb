{
  "nbformat": 4,
  "nbformat_minor": 0,
  "metadata": {
    "colab": {
      "name": "cnng5.ipynb",
      "version": "0.3.2",
      "provenance": [],
      "collapsed_sections": []
    },
    "kernelspec": {
      "name": "python3",
      "display_name": "Python 3"
    },
    "accelerator": "GPU"
  },
  "cells": [
    {
      "cell_type": "code",
      "metadata": {
        "id": "g-TfbdZW1oZ4",
        "colab_type": "code",
        "colab": {
          "base_uri": "https://localhost:8080/",
          "height": 138
        },
        "outputId": "8418013a-976e-4270-af6f-12f8e91a7f9f"
      },
      "source": [
        "from keras.layers import Input, Dense, Conv1D, MaxPooling1D, Flatten, Dropout\n",
        "from keras.optimizers import Adam\n",
        "from keras.callbacks import ModelCheckpoint, EarlyStopping, CSVLogger, ReduceLROnPlateau, TensorBoard\n",
        "from keras.models import Model\n",
        "import keras.backend as K\n",
        "\n",
        "import os\n",
        "import zipfile\n",
        "import numpy as np\n",
        "\n",
        "from google.colab import drive\n",
        "drive.mount('/content/drive')\n",
        "\n"
      ],
      "execution_count": 1,
      "outputs": [
        {
          "output_type": "stream",
          "text": [
            "Using TensorFlow backend.\n"
          ],
          "name": "stderr"
        },
        {
          "output_type": "stream",
          "text": [
            "Go to this URL in a browser: https://accounts.google.com/o/oauth2/auth?client_id=947318989803-6bn6qk8qdgf4n4g3pfee6491hc0brc4i.apps.googleusercontent.com&redirect_uri=urn%3Aietf%3Awg%3Aoauth%3A2.0%3Aoob&scope=email%20https%3A%2F%2Fwww.googleapis.com%2Fauth%2Fdocs.test%20https%3A%2F%2Fwww.googleapis.com%2Fauth%2Fdrive%20https%3A%2F%2Fwww.googleapis.com%2Fauth%2Fdrive.photos.readonly%20https%3A%2F%2Fwww.googleapis.com%2Fauth%2Fpeopleapi.readonly&response_type=code\n",
            "\n",
            "Enter your authorization code:\n",
            "··········\n",
            "Mounted at /content/drive\n"
          ],
          "name": "stdout"
        }
      ]
    },
    {
      "cell_type": "code",
      "metadata": {
        "id": "8mf39PBkzhEp",
        "colab_type": "code",
        "colab": {}
      },
      "source": [
        "datapath = '/content/drive/My Drive/Code_Attribution'\n",
        "zipPaths = []\n",
        "for r, d, f in os.walk(datapath):\n",
        "  for name in f:\n",
        "    zipPaths.append(os.path.join(r, name))\n",
        "    \n",
        "    \n",
        "for p in zipPaths:\n",
        "  zip_ref = zipfile.ZipFile(p, 'r')\n",
        "  zip_ref.extractall('/content/alldata')\n",
        "  zip_ref.close()"
      ],
      "execution_count": 0,
      "outputs": []
    },
    {
      "cell_type": "code",
      "metadata": {
        "id": "ovgUwyah0oTz",
        "colab_type": "code",
        "colab": {}
      },
      "source": [
        "datasetPath = '/content/alldata'"
      ],
      "execution_count": 0,
      "outputs": []
    },
    {
      "cell_type": "code",
      "metadata": {
        "id": "djcAtjNFK7HD",
        "colab_type": "code",
        "colab": {}
      },
      "source": [
        "path = datasetPath\n",
        "\n",
        "files = []\n",
        "# r=root, d=directories, f = files\n",
        "for r, d, f in os.walk(path):\n",
        "    for file in f:\n",
        "        if '.cpp' in file:\n",
        "            files.append(os.path.join(r, file))\n",
        "\n",
        "# for f in files:\n",
        "#     print(f)"
      ],
      "execution_count": 0,
      "outputs": []
    },
    {
      "cell_type": "code",
      "metadata": {
        "id": "PY8Gz0AYK_ka",
        "colab_type": "code",
        "outputId": "04ba8b4a-b36c-42d9-880d-fc04b92faca0",
        "colab": {
          "base_uri": "https://localhost:8080/",
          "height": 50
        }
      },
      "source": [
        "print(len(files))\n",
        "count = 0\n",
        "for p in files:\n",
        "  if not (os.path.isdir(p)):\n",
        "    count += 1\n",
        "\n",
        "print(count)"
      ],
      "execution_count": 5,
      "outputs": [
        {
          "output_type": "stream",
          "text": [
            "384125\n",
            "384125\n"
          ],
          "name": "stdout"
        }
      ]
    },
    {
      "cell_type": "code",
      "metadata": {
        "id": "l_63WP1qLXBv",
        "colab_type": "code",
        "colab": {}
      },
      "source": [
        "minLength = 2000"
      ],
      "execution_count": 0,
      "outputs": []
    },
    {
      "cell_type": "code",
      "metadata": {
        "id": "R75vexTPLYNY",
        "colab_type": "code",
        "colab": {}
      },
      "source": [
        "def padding(fname):\n",
        "    f = open(fname, \"r\")\n",
        "    y = f.read()\n",
        "    f.close()\n",
        "    \n",
        "    origy = y\n",
        "    while (len(y) < minLength):\n",
        "        y += origy\n",
        "        \n",
        "    f = open(fname, \"w\")\n",
        "    f.write(y)\n",
        "    f.close()\n",
        "    return y"
      ],
      "execution_count": 0,
      "outputs": []
    },
    {
      "cell_type": "code",
      "metadata": {
        "id": "SDm8B29kLBGB",
        "colab_type": "code",
        "colab": {}
      },
      "source": [
        "outputvar = {}\n",
        "counter = [0]"
      ],
      "execution_count": 0,
      "outputs": []
    },
    {
      "cell_type": "code",
      "metadata": {
        "colab_type": "code",
        "id": "gmubV4g1mFoY",
        "colab": {}
      },
      "source": [
        "x_train = []\n",
        "x_test = []\n",
        "y_train = []\n",
        "y_test = []\n",
        "x_val = []\n",
        "y_val = []\n",
        "split = 0.8"
      ],
      "execution_count": 0,
      "outputs": []
    },
    {
      "cell_type": "code",
      "metadata": {
        "id": "9wD93wGYLZrm",
        "colab_type": "code",
        "outputId": "35c6ae43-ad35-4595-cf7a-ba68524e6c13",
        "colab": {
          "base_uri": "https://localhost:8080/",
          "height": 84
        }
      },
      "source": [
        "for i in range(0,4):\n",
        "    print(i)\n",
        "    lengths = []\n",
        "    count = 0\n",
        "    for fil in files:\n",
        "        f = open(fil, \"r\")\n",
        "        x = f.read()\n",
        "        y = x.split()\n",
        "        f.close()\n",
        "        if(len(x) <= 100):\n",
        "            files.remove(fil)\n",
        "        elif len(x) == 0:\n",
        "            files.remove(fil)\n",
        "        elif(len(y) < minLength):\n",
        "            x = padding(fil)\n",
        "            lengths.append(len(x))\n",
        "        else:\n",
        "            lengths.append(len(x))\n"
      ],
      "execution_count": 16,
      "outputs": [
        {
          "output_type": "stream",
          "text": [
            "0\n",
            "1\n",
            "2\n",
            "3\n"
          ],
          "name": "stdout"
        }
      ]
    },
    {
      "cell_type": "code",
      "metadata": {
        "colab_type": "code",
        "id": "gDKRvqxVmIDs",
        "colab": {
          "base_uri": "https://localhost:8080/",
          "height": 34
        },
        "outputId": "994b2acc-abc6-45f2-cc72-f650bb7e521a"
      },
      "source": [
        "count = 0\n",
        "\n",
        "for fil in files:\n",
        "  f = open(fil, \"r\")\n",
        "  x = f.read()\n",
        "  y = x.split()\n",
        "  f.close()\n",
        "  if(len(x) < 2000):\n",
        "      print(fil)\n",
        "      count += 1\n",
        "  elif len(x) == 0:\n",
        "      print(fil)\n",
        "      count += 1\n",
        "      \n",
        "print(count, ' files remaining less than 2000.')\n"
      ],
      "execution_count": 17,
      "outputs": [
        {
          "output_type": "stream",
          "text": [
            "0  files remaining less than 2000.\n"
          ],
          "name": "stdout"
        }
      ]
    },
    {
      "cell_type": "code",
      "metadata": {
        "id": "CvXQ6PYTEMly",
        "colab_type": "code",
        "colab": {
          "base_uri": "https://localhost:8080/",
          "height": 84
        },
        "outputId": "8913cd81-4cf9-4d7d-efc0-d125576bda25"
      },
      "source": [
        "print(max(lengths))\n",
        "print(min(lengths))\n",
        "print(len(lengths))\n",
        "print(len(files))"
      ],
      "execution_count": 18,
      "outputs": [
        {
          "output_type": "stream",
          "text": [
            "102387\n",
            "2000\n",
            "383669\n",
            "383669\n"
          ],
          "name": "stdout"
        }
      ]
    },
    {
      "cell_type": "code",
      "metadata": {
        "id": "ITbJgZHrB4gN",
        "colab_type": "code",
        "colab": {}
      },
      "source": [
        "def makeInOut(path, _len, counter):\n",
        "  count = 0\n",
        "  for r, d, f in os.walk(path):\n",
        "    splitted = r.split('/')\n",
        "    name = splitted[-1]+splitted[-2]\n",
        "    for fil in f:\n",
        "      _fil = os.path.join(r, fil)\n",
        "      if name not in outputvar.keys():\n",
        "        outputvar[name] = counter[0]\n",
        "        counter[0] += 1\n",
        "      if _fil in files:\n",
        "        if count < (0.8*_len):\n",
        "          if count < (0.2*_len):\n",
        "            x_val.append(_fil)\n",
        "            y_val.append(outputvar[name])\n",
        "          else:\n",
        "            x_train.append(_fil)\n",
        "            y_train.append(outputvar[name])\n",
        "          count += 1\n",
        "        else:\n",
        "          x_test.append(_fil)\n",
        "          y_test.append(outputvar[name])"
      ],
      "execution_count": 0,
      "outputs": []
    },
    {
      "cell_type": "code",
      "metadata": {
        "id": "_bBEfen_B9hS",
        "colab_type": "code",
        "colab": {}
      },
      "source": [
        "def rem_dir(path):\n",
        "  for r, d, f in os.walk(path):\n",
        "    for fil in f:\n",
        "      if fil in files:\n",
        "        files.remove(os.path.join(r, fil))"
      ],
      "execution_count": 0,
      "outputs": []
    },
    {
      "cell_type": "code",
      "metadata": {
        "id": "KbZls58sAxDH",
        "colab_type": "code",
        "colab": {}
      },
      "source": [
        "def check(path, counter):\n",
        "  for r, d, f in os.walk(path):\n",
        "    _len = len(f)\n",
        "    if _len < 5:\n",
        "      rem_dir(path)\n",
        "    else:\n",
        "      makeInOut(path, _len, counter)"
      ],
      "execution_count": 0,
      "outputs": []
    },
    {
      "cell_type": "code",
      "metadata": {
        "id": "KLUwCBStSjqM",
        "colab_type": "code",
        "outputId": "71ff8dec-008f-4d6e-ce9f-3c3c6f899fd2",
        "colab": {
          "base_uri": "https://localhost:8080/",
          "height": 185
        }
      },
      "source": [
        "def checkDir(dirPath):\n",
        "  for r, d, f in os.walk(dirPath):\n",
        "    for di in d:\n",
        "      check(os.path.join(r, di), counter)\n",
        "      \n",
        "count = 0\n",
        "\n",
        "directories = os.listdir(datasetPath)\n",
        "for x in directories:\n",
        "  checkDir(str(datasetPath+'/'+x))\n",
        "  print(x + ' done')\n",
        "\n",
        "#   if count >= 5:\n",
        "#     break\n",
        "#   count += 1\n",
        "#   for d in d1:\n",
        "#     print(os.path.join(r1, d))\n",
        "#     count += 1\n"
      ],
      "execution_count": 22,
      "outputs": [
        {
          "output_type": "stream",
          "text": [
            "data11 done\n",
            "data16 done\n",
            "data09 done\n",
            "data13 done\n",
            "data17 done\n",
            "data10 done\n",
            "data14 done\n",
            "data15 done\n",
            "data08 done\n",
            "data12 done\n"
          ],
          "name": "stdout"
        }
      ]
    },
    {
      "cell_type": "code",
      "metadata": {
        "colab_type": "code",
        "outputId": "f9ee51f5-9671-4d76-8bef-59d470c2fb11",
        "id": "pw1epmAImJWi",
        "colab": {
          "base_uri": "https://localhost:8080/",
          "height": 67
        }
      },
      "source": [
        "_check = []\n",
        "for x in y_train:\n",
        "  if x not in _check:\n",
        "    _check.append(x)\n",
        "    \n",
        "print(len(_check))\n",
        "print(counter)\n",
        "print(len(outputvar))"
      ],
      "execution_count": 26,
      "outputs": [
        {
          "output_type": "stream",
          "text": [
            "35245\n",
            "[35263]\n",
            "35263\n"
          ],
          "name": "stdout"
        }
      ]
    },
    {
      "cell_type": "code",
      "metadata": {
        "id": "Wug2q9okLgjK",
        "colab_type": "code",
        "colab": {
          "base_uri": "https://localhost:8080/",
          "height": 84
        },
        "outputId": "d1e6ccb8-1fb3-4392-ba01-7f8943572086"
      },
      "source": [
        "for x in y_test:\n",
        "  if x not in _check:\n",
        "    print(x)\n",
        "    \n",
        "for x in y_val:\n",
        "  if x not in _check:\n",
        "    print(x)"
      ],
      "execution_count": 28,
      "outputs": [
        {
          "output_type": "stream",
          "text": [
            "1521\n",
            "1521\n",
            "27009\n",
            "34888\n"
          ],
          "name": "stdout"
        }
      ]
    },
    {
      "cell_type": "code",
      "metadata": {
        "id": "SdD6Zq9QUPFR",
        "colab_type": "code",
        "outputId": "aed2768b-de60-4e4d-aa25-6cc7eb29da2d",
        "colab": {
          "base_uri": "https://localhost:8080/",
          "height": 34
        }
      },
      "source": [
        "len(files)"
      ],
      "execution_count": 24,
      "outputs": [
        {
          "output_type": "execute_result",
          "data": {
            "text/plain": [
              "383669"
            ]
          },
          "metadata": {
            "tags": []
          },
          "execution_count": 24
        }
      ]
    },
    {
      "cell_type": "code",
      "metadata": {
        "id": "2zFjDbOTLbPq",
        "colab_type": "code",
        "outputId": "69b0501f-f983-4c7f-b4b5-88571ff06337",
        "colab": {
          "base_uri": "https://localhost:8080/",
          "height": 84
        }
      },
      "source": [
        "print(max(lengths))\n",
        "print(min(lengths))\n",
        "print(len(lengths))\n",
        "print(len(files))"
      ],
      "execution_count": 25,
      "outputs": [
        {
          "output_type": "stream",
          "text": [
            "102387\n",
            "2000\n",
            "383669\n",
            "383669\n"
          ],
          "name": "stdout"
        }
      ]
    },
    {
      "cell_type": "code",
      "metadata": {
        "colab_type": "code",
        "outputId": "8c4ae521-399b-4c26-fdce-73533df2825a",
        "id": "FVsjz7BSmG8Q",
        "colab": {
          "base_uri": "https://localhost:8080/",
          "height": 138
        }
      },
      "source": [
        "print(x_train[:20])\n",
        "print(x_test[:10])\n",
        "print(y_train[:30])\n",
        "print(y_test[:10])\n",
        "print(x_val[:10])\n",
        "print(y_val[:10])"
      ],
      "execution_count": 29,
      "outputs": [
        {
          "output_type": "stream",
          "text": [
            "['/content/alldata/data11/M.H./b0.cpp', '/content/alldata/data11/M.H./a0.cpp', '/content/alldata/data11/M.H./b1.cpp', '/content/alldata/data11/TarifEzaz/codejamA0.cpp', '/content/alldata/data11/TarifEzaz/code1c0.cpp', '/content/alldata/data11/TarifEzaz/jammA0.cpp', '/content/alldata/data11/TarifEzaz/code3c0.cpp', '/content/alldata/data11/TarifEzaz/code1c1.cpp', '/content/alldata/data11/TarifEzaz/jammA1.cpp', '/content/alldata/data11/WtbH/A1.cpp', '/content/alldata/data11/WtbH/D0.cpp', '/content/alldata/data11/WtbH/C0.cpp', '/content/alldata/data11/WtbH/B1.cpp', '/content/alldata/data11/WtbH/C1.cpp', '/content/alldata/data11/Raulpitz/gcj20.cpp', '/content/alldata/data11/Raulpitz/gcj21.cpp', '/content/alldata/data11/Raulpitz/gcj330.cpp', '/content/alldata/data11/nihao/p30.cpp', '/content/alldata/data11/nihao/p10.cpp', '/content/alldata/data11/nihao/p20.cpp']\n",
            "['/content/alldata/data11/M.H./a1.cpp', '/content/alldata/data11/TarifEzaz/codejamA1.cpp', '/content/alldata/data11/TarifEzaz/codejamB0.cpp', '/content/alldata/data11/WtbH/B0.cpp', '/content/alldata/data11/Raulpitz/gcj1.cpp', '/content/alldata/data11/nihao/p40.cpp', '/content/alldata/data11/nihao/p31.cpp', '/content/alldata/data11/Panthro.deb/ga1.cpp', '/content/alldata/data11/indianknight/gcjproblemb0.cpp', '/content/alldata/data11/romanandreev/Za0.cpp']\n",
            "[0, 0, 0, 1, 1, 1, 1, 1, 1, 2, 2, 2, 2, 2, 3, 3, 3, 4, 4, 4, 4, 4, 4, 5, 5, 5, 6, 6, 6, 7]\n",
            "[0, 1, 1, 2, 3, 4, 4, 5, 6, 7]\n",
            "['/content/alldata/data11/M.H./c0.cpp', '/content/alldata/data11/TarifEzaz/codejamB1.cpp', '/content/alldata/data11/TarifEzaz/codejamC0.cpp', '/content/alldata/data11/WtbH/D1.cpp', '/content/alldata/data11/WtbH/A0.cpp', '/content/alldata/data11/Raulpitz/gcj0.cpp', '/content/alldata/data11/Raulpitz/gcj331.cpp', '/content/alldata/data11/nihao/p41.cpp', '/content/alldata/data11/nihao/p21.cpp', '/content/alldata/data11/Panthro.deb/ga0.cpp']\n",
            "[0, 1, 1, 2, 2, 3, 3, 4, 4, 5]\n"
          ],
          "name": "stdout"
        }
      ]
    },
    {
      "cell_type": "code",
      "metadata": {
        "id": "U8i7EoXCnIcy",
        "colab_type": "code",
        "colab": {}
      },
      "source": [
        "x_train = np.array(x_train)\n",
        "x_test = np.array(x_test)\n",
        "x_val = np.array(x_val)\n",
        "y_train = np.array(y_train)\n",
        "y_test = np.array(y_test)\n",
        "y_val = np.array(y_val)"
      ],
      "execution_count": 0,
      "outputs": []
    },
    {
      "cell_type": "code",
      "metadata": {
        "id": "Ek-Gcmuu5pkx",
        "colab_type": "code",
        "outputId": "c5969313-c8bd-43b1-9149-e27b27adfb2c",
        "colab": {
          "base_uri": "https://localhost:8080/",
          "height": 773
        }
      },
      "source": [
        "indices = np.arange(x_train.shape[0])\n",
        "np.random.shuffle(indices)\n",
        "x_train = x_train[indices]\n",
        "y_train = y_train[indices]\n",
        "\n",
        "indices = np.arange(x_test.shape[0])\n",
        "np.random.shuffle(indices)\n",
        "x_test = x_test[indices]\n",
        "y_test = y_test[indices]\n",
        "\n",
        "indices = np.arange(x_val.shape[0])\n",
        "np.random.shuffle(indices)\n",
        "x_val = x_val[indices]\n",
        "y_val = y_val[indices]\n",
        "\n",
        "print(x_train[:20])\n",
        "print(x_test[:10])\n",
        "print(y_train[:30])\n",
        "print(y_test[:10])\n",
        "print(x_val[:10])\n",
        "print(y_val[:10])"
      ],
      "execution_count": 31,
      "outputs": [
        {
          "output_type": "stream",
          "text": [
            "['/content/alldata/data09/Shark/a1.cpp'\n",
            " '/content/alldata/data14/Paja/a0.cpp'\n",
            " '/content/alldata/data15/MarioYC/C0.cpp'\n",
            " '/content/alldata/data08/Cheryl/p20.cpp'\n",
            " '/content/alldata/data12/square116/a0.cpp'\n",
            " '/content/alldata/data17/alexMcCool/A1.cpp'\n",
            " '/content/alldata/data14/jargon/p20.cpp'\n",
            " '/content/alldata/data17/Denisson/winnow0.cpp'\n",
            " '/content/alldata/data08/kobi2000/a0.cpp'\n",
            " '/content/alldata/data17/crbonilha/pony0.cpp'\n",
            " '/content/alldata/data17/myblueluck/C0.cpp'\n",
            " '/content/alldata/data17/freaky.ju/Codejam_qualificationround2017_Qb1.cpp'\n",
            " '/content/alldata/data13/hesibo/a0.cpp'\n",
            " '/content/alldata/data16/NaiveRed/D0.cpp'\n",
            " '/content/alldata/data17/johnchen902/C0.cpp'\n",
            " '/content/alldata/data08/lzz/C0.cpp'\n",
            " '/content/alldata/data10/zxytim/Elegant Diamond1.cpp'\n",
            " '/content/alldata/data10/daenohuang/GCJ21.cpp'\n",
            " '/content/alldata/data14/Venox/goo0511a1.cpp'\n",
            " '/content/alldata/data13/enzneer/tictoe1.cpp']\n",
            "['/content/alldata/data16/Superk55/Prob20.cpp'\n",
            " '/content/alldata/data14/Carber/QR_B1.cpp'\n",
            " '/content/alldata/data14/nkmrtmnr/QR_A0.cpp'\n",
            " '/content/alldata/data15/sankettotala/cjam0.cpp'\n",
            " '/content/alldata/data17/Bryon/a1.cpp'\n",
            " '/content/alldata/data13/gano54/lawnmower1.cpp'\n",
            " '/content/alldata/data12/hovey/a1.cpp'\n",
            " '/content/alldata/data11/manishmap2/cnew1.cpp'\n",
            " '/content/alldata/data09/espr1t/DecisionTree1.cpp'\n",
            " '/content/alldata/data16/Naturain/data1.cpp']\n",
            "[ 9947 24728 29153 31001 33085 15603 23157 15514 31327 15434 17003 15806\n",
            " 14715  5415 20195 31634 21624 22097 24225 12521 33818 28112 33930 32404\n",
            "  2960 10295  1043 32296 20750  5026]\n",
            "[ 8271 25742 25471 27568 16315 14414 33914  2595 10311  5339]\n",
            "['/content/alldata/data16/Neha4/b0.cpp'\n",
            " '/content/alldata/data17/zscefn/c2.cpp'\n",
            " '/content/alldata/data12/thinfaifai/c0.cpp'\n",
            " '/content/alldata/data16/Xellos/codejam16_2_B1.cpp'\n",
            " '/content/alldata/data11/stalker/rpi1.cpp'\n",
            " '/content/alldata/data10/ImaginaryCake/File Fix-it0.cpp'\n",
            " '/content/alldata/data11/fbarl/A0.cpp'\n",
            " '/content/alldata/data14/kable08/a11.cpp'\n",
            " '/content/alldata/data12/HellHold/dance1.cpp'\n",
            " '/content/alldata/data14/MichaelLevin/war0.cpp']\n",
            "[ 6151 17353 33162  7072  2459 20713  1262 26295 34628 22696]\n"
          ],
          "name": "stdout"
        }
      ]
    },
    {
      "cell_type": "code",
      "metadata": {
        "id": "iRsaq9oPLmII",
        "colab_type": "code",
        "colab": {}
      },
      "source": [
        "def walk(path, vocab, count):\n",
        "    for r, d, f in os.walk(path):\n",
        "        for file in f:\n",
        "            f = open(os.path.join(r, file))\n",
        "            x = f.read()\n",
        "            for line in x:\n",
        "                for letter in line:\n",
        "                    if letter not in vocab.keys():\n",
        "                        vocab[letter] = count[0]\n",
        "                        count[0] += 1\n"
      ],
      "execution_count": 0,
      "outputs": []
    },
    {
      "cell_type": "code",
      "metadata": {
        "id": "KSJWfWJjLoMz",
        "colab_type": "code",
        "outputId": "730d5a14-6e6d-42d3-ba51-19e12201c485",
        "colab": {
          "base_uri": "https://localhost:8080/",
          "height": 34
        }
      },
      "source": [
        "vocab = {}\n",
        "count = [0]\n",
        "path = datasetPath\n",
        "for r, d, f, in (os.walk(path)):\n",
        "    for i, dir in enumerate(d):\n",
        "        walk(os.path.join(r, dir), vocab, count)\n",
        "print(count)"
      ],
      "execution_count": 33,
      "outputs": [
        {
          "output_type": "stream",
          "text": [
            "[3549]\n"
          ],
          "name": "stdout"
        }
      ]
    },
    {
      "cell_type": "code",
      "metadata": {
        "id": "Hjb7bwV9TT2j",
        "colab_type": "code",
        "outputId": "2b7ed238-cf39-484b-8bc9-0bcac76220ae",
        "colab": {
          "base_uri": "https://localhost:8080/",
          "height": 185
        }
      },
      "source": [
        "i = 0\n",
        "for word in vocab.keys():\n",
        "  print(word)\n",
        "  i += 1\n",
        "  if i >= 10:\n",
        "    break"
      ],
      "execution_count": 34,
      "outputs": [
        {
          "output_type": "stream",
          "text": [
            "#\n",
            "i\n",
            "n\n",
            "c\n",
            "l\n",
            "u\n",
            "d\n",
            "e\n",
            " \n",
            "<\n"
          ],
          "name": "stdout"
        }
      ]
    },
    {
      "cell_type": "code",
      "metadata": {
        "id": "1fxmJ-vaLpsJ",
        "colab_type": "code",
        "colab": {}
      },
      "source": [
        "def getFiles(path):\n",
        "    matrix = []\n",
        "    for p in path:\n",
        "        tmp = np.zeros((50, 40), dtype = int)\n",
        "        f = open(p)\n",
        "        for i in range(0,50):\n",
        "            for j in range(0, 40):\n",
        "                tmp[i][j] = vocab[f.read(1)]\n",
        "        matrix.append(tmp)\n",
        "    return np.array(matrix)"
      ],
      "execution_count": 0,
      "outputs": []
    },
    {
      "cell_type": "code",
      "metadata": {
        "id": "dAebkRzpMbXy",
        "colab_type": "code",
        "colab": {}
      },
      "source": [
        "num_classes = len(outputvar)\n",
        "input_shape = (50, 40)\n",
        "batch_size = 1024\n",
        "def data_generator(file_paths, author_numbers):\n",
        "    batch_start = 0\n",
        "    batch_end = batch_start + batch_size\n",
        "    n = file_paths.shape[0]\n",
        "    indexes = np.arange(0, n, batch_size)\n",
        "    if n % batch_size != 0:\n",
        "        indexes = indexes[:-1] \n",
        "    while True:\n",
        "        np.random.shuffle(indexes)\n",
        "        for ind in indexes:\n",
        "            batch_start = ind\n",
        "            batch_end = batch_start + batch_size\n",
        "            myFiles = file_paths[batch_start:batch_end]\n",
        "            batch_files = getFiles(myFiles)\n",
        "            batch_authors = author_numbers[batch_start:batch_end]\n",
        "            batch_x = np.zeros((batch_size, 50, 40))\n",
        "            tmp = np.zeros((batch_size, num_classes))\n",
        "            batch_x = np.array( batch_files )\n",
        "            for i, j in enumerate(batch_authors):\n",
        "                tmp[i][j] = 1\n",
        "            batch_y = np.array( tmp )\n",
        "            yield( batch_x, batch_y )"
      ],
      "execution_count": 0,
      "outputs": []
    },
    {
      "cell_type": "code",
      "metadata": {
        "id": "hi1Doc0HMd0h",
        "colab_type": "code",
        "outputId": "28a0f2c0-7823-46b3-e876-91854e4d3f8d",
        "colab": {
          "base_uri": "https://localhost:8080/",
          "height": 272
        }
      },
      "source": [
        "input_fil = Input(shape=(input_shape), name='input_fil')\n",
        "conv = Conv1D(64, kernel_size=7, strides = 2,  activation='relu')(input_fil)\n",
        "drop = Dropout(0.1)(conv)\n",
        "maxP = MaxPooling1D()(drop)\n",
        "flat = Flatten()(maxP)\n",
        "output_class = Dense(num_classes, activation='softmax')(flat)\n",
        "\n",
        "model = Model(inputs=input_fil, outputs=output_class)"
      ],
      "execution_count": 37,
      "outputs": [
        {
          "output_type": "stream",
          "text": [
            "WARNING: Logging before flag parsing goes to stderr.\n",
            "W0728 20:14:35.503359 140116532483968 deprecation_wrapper.py:119] From /usr/local/lib/python3.6/dist-packages/keras/backend/tensorflow_backend.py:517: The name tf.placeholder is deprecated. Please use tf.compat.v1.placeholder instead.\n",
            "\n",
            "W0728 20:14:35.554412 140116532483968 deprecation_wrapper.py:119] From /usr/local/lib/python3.6/dist-packages/keras/backend/tensorflow_backend.py:74: The name tf.get_default_graph is deprecated. Please use tf.compat.v1.get_default_graph instead.\n",
            "\n",
            "W0728 20:14:35.556585 140116532483968 deprecation_wrapper.py:119] From /usr/local/lib/python3.6/dist-packages/keras/backend/tensorflow_backend.py:4138: The name tf.random_uniform is deprecated. Please use tf.random.uniform instead.\n",
            "\n",
            "W0728 20:14:35.593576 140116532483968 deprecation_wrapper.py:119] From /usr/local/lib/python3.6/dist-packages/keras/backend/tensorflow_backend.py:133: The name tf.placeholder_with_default is deprecated. Please use tf.compat.v1.placeholder_with_default instead.\n",
            "\n",
            "W0728 20:14:35.601210 140116532483968 deprecation.py:506] From /usr/local/lib/python3.6/dist-packages/keras/backend/tensorflow_backend.py:3445: calling dropout (from tensorflow.python.ops.nn_ops) with keep_prob is deprecated and will be removed in a future version.\n",
            "Instructions for updating:\n",
            "Please use `rate` instead of `keep_prob`. Rate should be set to `rate = 1 - keep_prob`.\n",
            "W0728 20:14:35.616659 140116532483968 deprecation_wrapper.py:119] From /usr/local/lib/python3.6/dist-packages/keras/backend/tensorflow_backend.py:3976: The name tf.nn.max_pool is deprecated. Please use tf.nn.max_pool2d instead.\n",
            "\n"
          ],
          "name": "stderr"
        }
      ]
    },
    {
      "cell_type": "code",
      "metadata": {
        "id": "c97O2SzLMfOv",
        "colab_type": "code",
        "outputId": "b355bd88-1eb8-4f1a-8f05-7656568ee975",
        "colab": {
          "base_uri": "https://localhost:8080/",
          "height": 423
        }
      },
      "source": [
        "adam = Adam(lr=0.001)\n",
        "model.compile(loss='categorical_crossentropy', \n",
        "              optimizer=adam, \n",
        "              metrics=['accuracy'])\n",
        "\n",
        "model.summary()"
      ],
      "execution_count": 38,
      "outputs": [
        {
          "output_type": "stream",
          "text": [
            "W0728 20:14:38.478607 140116532483968 deprecation_wrapper.py:119] From /usr/local/lib/python3.6/dist-packages/keras/optimizers.py:790: The name tf.train.Optimizer is deprecated. Please use tf.compat.v1.train.Optimizer instead.\n",
            "\n",
            "W0728 20:14:38.487496 140116532483968 deprecation_wrapper.py:119] From /usr/local/lib/python3.6/dist-packages/keras/backend/tensorflow_backend.py:3295: The name tf.log is deprecated. Please use tf.math.log instead.\n",
            "\n"
          ],
          "name": "stderr"
        },
        {
          "output_type": "stream",
          "text": [
            "_________________________________________________________________\n",
            "Layer (type)                 Output Shape              Param #   \n",
            "=================================================================\n",
            "input_fil (InputLayer)       (None, 50, 40)            0         \n",
            "_________________________________________________________________\n",
            "conv1d_1 (Conv1D)            (None, 22, 64)            17984     \n",
            "_________________________________________________________________\n",
            "dropout_1 (Dropout)          (None, 22, 64)            0         \n",
            "_________________________________________________________________\n",
            "max_pooling1d_1 (MaxPooling1 (None, 11, 64)            0         \n",
            "_________________________________________________________________\n",
            "flatten_1 (Flatten)          (None, 704)               0         \n",
            "_________________________________________________________________\n",
            "dense_1 (Dense)              (None, 35263)             24860415  \n",
            "=================================================================\n",
            "Total params: 24,878,399\n",
            "Trainable params: 24,878,399\n",
            "Non-trainable params: 0\n",
            "_________________________________________________________________\n"
          ],
          "name": "stdout"
        }
      ]
    },
    {
      "cell_type": "code",
      "metadata": {
        "id": "2Ch6PagFMpSb",
        "colab_type": "code",
        "colab": {}
      },
      "source": [
        "train_gen = data_generator(x_train, y_train)\n",
        "test_gen = data_generator(x_test, y_test)\n",
        "val_gen = data_generator(x_val, y_val)"
      ],
      "execution_count": 0,
      "outputs": []
    },
    {
      "cell_type": "code",
      "metadata": {
        "id": "dkgZm9lNMqrV",
        "colab_type": "code",
        "outputId": "3a4bfeea-e7fb-4111-f105-428bbf322c71",
        "colab": {
          "base_uri": "https://localhost:8080/",
          "height": 423
        }
      },
      "source": [
        "hist1 = model.fit_generator(train_gen, epochs=10, steps_per_epoch=len(y_train)//batch_size, \n",
        "                           validation_data=val_gen, validation_steps=len(y_val)//batch_size, verbose=1)"
      ],
      "execution_count": 40,
      "outputs": [
        {
          "output_type": "stream",
          "text": [
            "W0728 20:14:43.156357 140116532483968 deprecation.py:323] From /usr/local/lib/python3.6/dist-packages/tensorflow/python/ops/math_grad.py:1250: add_dispatch_support.<locals>.wrapper (from tensorflow.python.ops.array_ops) is deprecated and will be removed in a future version.\n",
            "Instructions for updating:\n",
            "Use tf.where in 2.0, which has the same broadcast rule as np.where\n"
          ],
          "name": "stderr"
        },
        {
          "output_type": "stream",
          "text": [
            "Epoch 1/10\n",
            "157/157 [==============================] - 290s 2s/step - loss: 10.7100 - acc: 0.0039 - val_loss: 10.0324 - val_acc: 0.0198\n",
            "Epoch 2/10\n",
            "157/157 [==============================] - 268s 2s/step - loss: 8.2549 - acc: 0.0697 - val_loss: 9.9351 - val_acc: 0.0695\n",
            "Epoch 3/10\n",
            "157/157 [==============================] - 269s 2s/step - loss: 5.9102 - acc: 0.2197 - val_loss: 9.9322 - val_acc: 0.1373\n",
            "Epoch 4/10\n",
            "157/157 [==============================] - 269s 2s/step - loss: 4.3607 - acc: 0.3666 - val_loss: 9.9634 - val_acc: 0.1772\n",
            "Epoch 5/10\n",
            "157/157 [==============================] - 268s 2s/step - loss: 3.2230 - acc: 0.4970 - val_loss: 9.8727 - val_acc: 0.2392\n",
            "Epoch 6/10\n",
            "157/157 [==============================] - 267s 2s/step - loss: 2.2776 - acc: 0.6215 - val_loss: 9.6643 - val_acc: 0.2856\n",
            "Epoch 7/10\n",
            "157/157 [==============================] - 268s 2s/step - loss: 1.4636 - acc: 0.7490 - val_loss: 9.3836 - val_acc: 0.3394\n",
            "Epoch 8/10\n",
            "157/157 [==============================] - 268s 2s/step - loss: 0.8912 - acc: 0.8505 - val_loss: 9.3651 - val_acc: 0.3585\n",
            "Epoch 9/10\n",
            "157/157 [==============================] - 269s 2s/step - loss: 0.5772 - acc: 0.9101 - val_loss: 9.3348 - val_acc: 0.3702\n",
            "Epoch 10/10\n",
            "157/157 [==============================] - 269s 2s/step - loss: 0.4173 - acc: 0.9429 - val_loss: 9.3655 - val_acc: 0.3759\n"
          ],
          "name": "stdout"
        }
      ]
    },
    {
      "cell_type": "code",
      "metadata": {
        "id": "RaaW6UWtMr7Q",
        "colab_type": "code",
        "outputId": "5de36b99-2d8c-4b76-9ab0-4acb0d809191",
        "colab": {
          "base_uri": "https://localhost:8080/",
          "height": 34
        }
      },
      "source": [
        "xtestdata = getFiles(x_test)\n",
        "print(xtestdata.shape)"
      ],
      "execution_count": 41,
      "outputs": [
        {
          "output_type": "stream",
          "text": [
            "(43767, 50, 40)\n"
          ],
          "name": "stdout"
        }
      ]
    },
    {
      "cell_type": "code",
      "metadata": {
        "id": "8Xjg0GTaMv7z",
        "colab_type": "code",
        "outputId": "9c66bf07-6604-4ed8-f618-d69b2c3d9fb2",
        "colab": {
          "base_uri": "https://localhost:8080/",
          "height": 34
        }
      },
      "source": [
        "preds = model.predict(xtestdata)\n",
        "print(preds.shape)"
      ],
      "execution_count": 42,
      "outputs": [
        {
          "output_type": "stream",
          "text": [
            "(43767, 35263)\n"
          ],
          "name": "stdout"
        }
      ]
    },
    {
      "cell_type": "code",
      "metadata": {
        "id": "CDD6JVXQMwJB",
        "colab_type": "code",
        "outputId": "49d056d5-a55e-480b-dd93-de6079feb6cc",
        "colab": {
          "base_uri": "https://localhost:8080/",
          "height": 34
        }
      },
      "source": [
        "myPreds = []\n",
        "for i in preds:\n",
        "    myPreds.append(np.argmax(i))\n",
        "myPreds = np.array(myPreds)\n",
        "print(myPreds.shape)"
      ],
      "execution_count": 43,
      "outputs": [
        {
          "output_type": "stream",
          "text": [
            "(43767,)\n"
          ],
          "name": "stdout"
        }
      ]
    },
    {
      "cell_type": "code",
      "metadata": {
        "id": "LChoEVJGMwP4",
        "colab_type": "code",
        "outputId": "b5848b6f-e941-4576-e4d4-d33bc8207849",
        "colab": {
          "base_uri": "https://localhost:8080/",
          "height": 34
        }
      },
      "source": [
        "count = 0\n",
        "for i in range(myPreds.shape[0]):\n",
        "    if myPreds[i] == y_test[i]:\n",
        "        count += 1\n",
        "\n",
        "acc = (count / myPreds.shape[0]) * 100\n",
        "print(\"Accuracy\", acc)"
      ],
      "execution_count": 44,
      "outputs": [
        {
          "output_type": "stream",
          "text": [
            "Accuracy 41.81460918043275\n"
          ],
          "name": "stdout"
        }
      ]
    },
    {
      "cell_type": "code",
      "metadata": {
        "id": "r-SRgYFBMwU3",
        "colab_type": "code",
        "colab": {}
      },
      "source": [
        ""
      ],
      "execution_count": 0,
      "outputs": []
    }
  ]
}